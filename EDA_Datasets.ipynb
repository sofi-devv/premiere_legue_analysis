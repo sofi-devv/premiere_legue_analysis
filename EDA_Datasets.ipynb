{
 "cells": [
  {
   "cell_type": "code",
   "execution_count": 0,
   "metadata": {
    "application/vnd.databricks.v1+cell": {
     "cellMetadata": {
      "byteLimit": 2048000,
      "rowLimit": 10000
     },
     "inputWidgets": {},
     "nuid": "6690f1c2-1aea-469c-9110-0ef60e214fe9",
     "showTitle": false,
     "title": ""
    }
   },
   "outputs": [],
   "source": [
    "from pyspark.sql import SparkSession\n",
    "from pyspark.sql.types import StructType, StructField, IntegerType, StringType, FloatType, DateType\n",
    "from pyspark.sql.functions import to_date\n",
    "\n",
    "spark = SparkSession.builder.appName(\"DataAnalysis\").getOrCreate()\n",
    "\n",
    "# Definir el esquema para Players_Match\n",
    "players_match_schema = StructType([\n",
    "    StructField(\"game_id\", IntegerType()),\n",
    "    StructField(\"team_id\", IntegerType()),\n",
    "    StructField(\"team_name\", StringType()),\n",
    "    StructField(\"date\", DateType()),\n",
    "    StructField(\"player_name\", StringType()),\n",
    "    StructField(\"player_id\", IntegerType()),\n",
    "    StructField(\"player_position_info\", StringType()),\n",
    "    StructField(\"player_rating\", FloatType()),\n",
    "    StructField(\"good_high_claim\", IntegerType()),\n",
    "    StructField(\"touches\", IntegerType()),\n",
    "    StructField(\"saves\", IntegerType()),\n",
    "    StructField(\"total_pass\", IntegerType()),\n",
    "    StructField(\"formation_place\", IntegerType()),\n",
    "    StructField(\"accurate_pass\", IntegerType()),\n",
    "    StructField(\"aerial_won\", IntegerType()),\n",
    "    StructField(\"aerial_lost\", IntegerType()),\n",
    "    StructField(\"fouls\", IntegerType()),\n",
    "    StructField(\"total_scoring_att\", IntegerType()),\n",
    "    StructField(\"total_tackle\", IntegerType()),\n",
    "    StructField(\"won_contest\", IntegerType()),\n",
    "    StructField(\"penalty_conceded\", IntegerType()),\n",
    "    StructField(\"blocked_scoring_att\", IntegerType()),\n",
    "    StructField(\"man_of_the_match\", IntegerType()),\n",
    "    StructField(\"goals\", IntegerType()),\n",
    "    StructField(\"att_pen_goal\", IntegerType()),\n",
    "    StructField(\"goal_assist\", IntegerType()),\n",
    "    StructField(\"six_yard_block\", IntegerType()),\n",
    "    StructField(\"yellow_card\", IntegerType()),\n",
    "    StructField(\"error_lead_to_goal\", IntegerType()),\n",
    "    StructField(\"post_scoring_att\", IntegerType()),\n",
    "    StructField(\"second_yellow\", IntegerType()),\n",
    "    StructField(\"red_card\", IntegerType()),\n",
    "    StructField(\"clearance_off_line\", IntegerType()),\n",
    "    StructField(\"own_goals\", IntegerType()),\n",
    "    StructField(\"last_man_tackle\", IntegerType()),\n",
    "    StructField(\"att_pen_target\", IntegerType()),\n",
    "    StructField(\"penalty_save\", IntegerType()),\n",
    "    StructField(\"att_pen_miss\", IntegerType()),\n",
    "    StructField(\"att_pen_post\", IntegerType())\n",
    "])\n",
    "\n",
    "# Definir el esquema para Players_Team\n",
    "players_team_schema = StructType([\n",
    "    StructField(\"name\", StringType()),\n",
    "    StructField(\"club\", StringType()),\n",
    "    StructField(\"age\", IntegerType()),\n",
    "    StructField(\"position\", StringType()),\n",
    "    StructField(\"market_value\", FloatType()),\n",
    "    StructField(\"nationality\", StringType()),\n",
    "    StructField(\"big_club\", IntegerType()),\n",
    "    StructField(\"age_range\", StringType())\n",
    "])\n",
    "\n",
    "# Definir el esquema para Teams_Match_Fusion_Results\n",
    "fusion_schema = StructType([\n",
    "    StructField(\"game_id\", IntegerType()),\n",
    "    StructField(\"team_id\", IntegerType()),\n",
    "    StructField(\"team_name\", StringType()),\n",
    "    StructField(\"team_rating\", FloatType()),\n",
    "    StructField(\"date\", StringType(), True),\n",
    "    StructField(\"won_corners\", IntegerType()),\n",
    "    StructField(\"won_contest\", IntegerType()),\n",
    "    StructField(\"total_tackle\", IntegerType()),\n",
    "    StructField(\"aerial_lost\", IntegerType()),\n",
    "    StructField(\"possession_percentage\", FloatType()),\n",
    "    StructField(\"accurate_pass\", IntegerType()),\n",
    "    StructField(\"total_pass\", IntegerType()),\n",
    "    StructField(\"shot_off_target\", IntegerType()),\n",
    "    StructField(\"total_offside\", IntegerType()),\n",
    "    StructField(\"blocked_scoring_att\", IntegerType()),\n",
    "    StructField(\"ontarget_scoring_att\", IntegerType()),\n",
    "    StructField(\"aerial_won\", IntegerType()),\n",
    "    StructField(\"goals\", IntegerType()),\n",
    "    StructField(\"att_pen_goal\", IntegerType()),\n",
    "    StructField(\"post_scoring_att\", IntegerType()),\n",
    "    StructField(\"Salvadas Portero\", IntegerType()),\n",
    "    StructField(\"Total Shots\", IntegerType()),\n",
    "    StructField(\"Foults\", IntegerType()),\n",
    "    StructField(\"Yellow Cards\", IntegerType()),\n",
    "    StructField(\"Red Cards\", IntegerType()),\n",
    "    StructField(\"Resultado\", StringType()),\n",
    "])\n",
    "\n",
    "# Cargar los datos\n",
    "P_M = spark.read.csv('dbfs:/FileStore/shared_uploads/mauri07rodriguezcordoba@gmail.com/Players_Match_2.csv', header=True, schema=players_match_schema)\n",
    "P_T = spark.read.csv('dbfs:/FileStore/shared_uploads/mauri07rodriguezcordoba@gmail.com/Players_Team.csv', header=True, schema=players_team_schema)\n",
    "Fusion = spark.read.csv('dbfs:/FileStore/shared_uploads/mauri07rodriguezcordoba@gmail.com/Equipos_Match_Fusion_Results-1.csv', header=True, schema=fusion_schema)"
   ]
  },
  {
   "cell_type": "code",
   "execution_count": 0,
   "metadata": {
    "application/vnd.databricks.v1+cell": {
     "cellMetadata": {
      "byteLimit": 2048000,
      "rowLimit": 10000
     },
     "inputWidgets": {},
     "nuid": "258182ea-231c-4cae-85e8-37dcd2b80ee5",
     "showTitle": false,
     "title": ""
    }
   },
   "outputs": [
    {
     "output_type": "stream",
     "name": "stdout",
     "output_type": "stream",
     "text": [
      "root\n |-- game_id: integer (nullable = true)\n |-- team_id: integer (nullable = true)\n |-- team_name: string (nullable = true)\n |-- date: date (nullable = true)\n |-- player_name: string (nullable = true)\n |-- player_id: integer (nullable = true)\n |-- player_position_info: string (nullable = true)\n |-- player_rating: float (nullable = true)\n |-- good_high_claim: integer (nullable = true)\n |-- touches: integer (nullable = true)\n |-- saves: integer (nullable = true)\n |-- total_pass: integer (nullable = true)\n |-- formation_place: integer (nullable = true)\n |-- accurate_pass: integer (nullable = true)\n |-- aerial_won: integer (nullable = true)\n |-- aerial_lost: integer (nullable = true)\n |-- fouls: integer (nullable = true)\n |-- total_scoring_att: integer (nullable = true)\n |-- total_tackle: integer (nullable = true)\n |-- won_contest: integer (nullable = true)\n |-- penalty_conceded: integer (nullable = true)\n |-- blocked_scoring_att: integer (nullable = true)\n |-- man_of_the_match: integer (nullable = true)\n |-- goals: integer (nullable = true)\n |-- att_pen_goal: integer (nullable = true)\n |-- goal_assist: integer (nullable = true)\n |-- six_yard_block: integer (nullable = true)\n |-- yellow_card: integer (nullable = true)\n |-- error_lead_to_goal: integer (nullable = true)\n |-- post_scoring_att: integer (nullable = true)\n |-- second_yellow: integer (nullable = true)\n |-- red_card: integer (nullable = true)\n |-- clearance_off_line: integer (nullable = true)\n |-- own_goals: integer (nullable = true)\n |-- last_man_tackle: integer (nullable = true)\n |-- att_pen_target: integer (nullable = true)\n |-- penalty_save: integer (nullable = true)\n |-- att_pen_miss: integer (nullable = true)\n |-- att_pen_post: integer (nullable = true)\n\n"
     ]
    }
   ],
   "source": [
    "P_M.printSchema()"
   ]
  },
  {
   "cell_type": "code",
   "execution_count": 0,
   "metadata": {
    "application/vnd.databricks.v1+cell": {
     "cellMetadata": {
      "byteLimit": 2048000,
      "rowLimit": 10000
     },
     "inputWidgets": {},
     "nuid": "07047a74-cc16-4cc5-b919-a8da3d1a8502",
     "showTitle": false,
     "title": ""
    }
   },
   "outputs": [
    {
     "output_type": "stream",
     "name": "stdout",
     "output_type": "stream",
     "text": [
      "root\n |-- name: string (nullable = true)\n |-- club: string (nullable = true)\n |-- age: integer (nullable = true)\n |-- position: string (nullable = true)\n |-- market_value: float (nullable = true)\n |-- nationality: string (nullable = true)\n |-- big_club: integer (nullable = true)\n |-- age_range: string (nullable = true)\n\n"
     ]
    }
   ],
   "source": [
    "P_T.printSchema()"
   ]
  },
  {
   "cell_type": "code",
   "execution_count": 0,
   "metadata": {
    "application/vnd.databricks.v1+cell": {
     "cellMetadata": {
      "byteLimit": 2048000,
      "rowLimit": 10000
     },
     "inputWidgets": {},
     "nuid": "07daf129-dbf4-4f92-a223-23d77f39b520",
     "showTitle": false,
     "title": ""
    }
   },
   "outputs": [
    {
     "output_type": "stream",
     "name": "stdout",
     "output_type": "stream",
     "text": [
      "root\n |-- game_id: integer (nullable = true)\n |-- team_id: integer (nullable = true)\n |-- team_name: string (nullable = true)\n |-- team_rating: float (nullable = true)\n |-- date: string (nullable = true)\n |-- won_corners: integer (nullable = true)\n |-- won_contest: integer (nullable = true)\n |-- total_tackle: integer (nullable = true)\n |-- aerial_lost: integer (nullable = true)\n |-- possession_percentage: float (nullable = true)\n |-- accurate_pass: integer (nullable = true)\n |-- total_pass: integer (nullable = true)\n |-- shot_off_target: integer (nullable = true)\n |-- total_offside: integer (nullable = true)\n |-- blocked_scoring_att: integer (nullable = true)\n |-- ontarget_scoring_att: integer (nullable = true)\n |-- aerial_won: integer (nullable = true)\n |-- goals: integer (nullable = true)\n |-- att_pen_goal: integer (nullable = true)\n |-- post_scoring_att: integer (nullable = true)\n |-- Salvadas Portero: integer (nullable = true)\n |-- Total Shots: integer (nullable = true)\n |-- Foults: integer (nullable = true)\n |-- Yellow Cards: integer (nullable = true)\n |-- Red Cards: integer (nullable = true)\n |-- Resultado: string (nullable = true)\n\n"
     ]
    }
   ],
   "source": [
    "Fusion.printSchema()"
   ]
  },
  {
   "cell_type": "code",
   "execution_count": 0,
   "metadata": {
    "application/vnd.databricks.v1+cell": {
     "cellMetadata": {
      "byteLimit": 2048000,
      "rowLimit": 10000
     },
     "inputWidgets": {},
     "nuid": "520a1298-2787-4516-b608-7f0ebaf6bc36",
     "showTitle": false,
     "title": ""
    }
   },
   "outputs": [],
   "source": [
    "P_M.createOrReplaceTempView(\"P_M\")\n",
    "P_T.createOrReplaceTempView(\"P_T\")\n",
    "Fusion.createOrReplaceTempView(\"FUSION\")"
   ]
  },
  {
   "cell_type": "code",
   "execution_count": 0,
   "metadata": {
    "application/vnd.databricks.v1+cell": {
     "cellMetadata": {
      "byteLimit": 2048000,
      "implicitDf": true,
      "rowLimit": 10000
     },
     "inputWidgets": {},
     "nuid": "defa6f51-66de-4100-858a-4da01aea347b",
     "showTitle": false,
     "title": ""
    }
   },
   "outputs": [
    {
     "output_type": "display_data",
     "data": {
      "text/html": [
       "<style scoped>\n",
       "  .table-result-container {\n",
       "    max-height: 300px;\n",
       "    overflow: auto;\n",
       "  }\n",
       "  table, th, td {\n",
       "    border: 1px solid black;\n",
       "    border-collapse: collapse;\n",
       "  }\n",
       "  th, td {\n",
       "    padding: 5px;\n",
       "  }\n",
       "  th {\n",
       "    text-align: left;\n",
       "  }\n",
       "</style><div class='table-result-container'><table class='table-result'><thead style='background-color: white'><tr><th>EQUIPO</th><th>RATING_PROMEDIO</th></tr></thead><tbody><tr><td>Manchester City FC</td><td>7.151090985850284</td></tr><tr><td>Liverpool FC</td><td>6.992537586312545</td></tr><tr><td>Manchester United FC</td><td>6.9774450753864485</td></tr><tr><td>Tottenham Hotspur</td><td>6.948687151858681</td></tr><tr><td>Chelsea FC</td><td>6.936291242900648</td></tr><tr><td>Arsenal FC</td><td>6.9210307974564405</td></tr></tbody></table></div>"
      ]
     },
     "metadata": {
      "application/vnd.databricks.v1+output": {
       "addedWidgets": {},
       "aggData": [],
       "aggError": "",
       "aggOverflow": false,
       "aggSchema": [],
       "aggSeriesLimitReached": false,
       "aggType": "",
       "arguments": {},
       "columnCustomDisplayInfos": {},
       "data": [
        [
         "Manchester City FC",
         7.151090985850284
        ],
        [
         "Liverpool FC",
         6.992537586312545
        ],
        [
         "Manchester United FC",
         6.9774450753864485
        ],
        [
         "Tottenham Hotspur",
         6.948687151858681
        ],
        [
         "Chelsea FC",
         6.936291242900648
        ],
        [
         "Arsenal FC",
         6.9210307974564405
        ]
       ],
       "datasetInfos": [],
       "dbfsResultPath": null,
       "isJsonSchema": true,
       "metadata": {},
       "overflow": false,
       "plotOptions": {
        "customPlotOptions": {},
        "displayType": "table",
        "pivotAggregation": null,
        "pivotColumns": null,
        "xColumns": null,
        "yColumns": null
       },
       "removedWidgets": [],
       "schema": [
        {
         "metadata": "{}",
         "name": "EQUIPO",
         "type": "\"string\""
        },
        {
         "metadata": "{}",
         "name": "RATING_PROMEDIO",
         "type": "\"double\""
        }
       ],
       "type": "table"
      }
     },
     "output_type": "display_data"
    },
    {
     "output_type": "display_data",
     "data": {
      "text/plain": [
       "Databricks visualization. Run in Databricks to view."
      ]
     },
     "metadata": {
      "application/vnd.databricks.v1.subcommand+json": {
       "baseErrorDetails": null,
       "bindings": {},
       "collapsed": false,
       "command": "%sql\n-- Los 6 equipos con mejor rendimiento promedio en a lo largo de la temporada\n\nSELECT team_name AS EQUIPO, AVG(team_rating) AS RATING_PROMEDIO\nFROM FUSION\nGROUP BY EQUIPO\nORDER BY RATING_PROMEDIO DESC\nLIMIT 6;",
       "commandTitle": "Visualization 1",
       "commandType": "auto",
       "commandVersion": 0,
       "commentThread": [],
       "commentsVisible": false,
       "contentSha256Hex": null,
       "customPlotOptions": {
        "redashChart": [
         {
          "key": "type",
          "value": "TABLE"
         },
         {
          "key": "options",
          "value": {
           "columns": [
            {
             "alignContent": "left",
             "allowHTML": true,
             "allowSearch": false,
             "booleanValues": [
              "false",
              "true"
             ],
             "displayAs": "string",
             "highlightLinks": false,
             "imageHeight": "",
             "imageTitleTemplate": "{{ @ }}",
             "imageUrlTemplate": "{{ @ }}",
             "imageWidth": "",
             "linkOpenInNewTab": true,
             "linkTextTemplate": "{{ @ }}",
             "linkTitleTemplate": "{{ @ }}",
             "linkUrlTemplate": "{{ @ }}",
             "name": "EQUIPO",
             "order": 100000,
             "preserveWhitespace": false,
             "title": "EQUIPO",
             "type": "string",
             "useMonospaceFont": false,
             "visible": true
            },
            {
             "alignContent": "right",
             "allowHTML": true,
             "allowSearch": false,
             "booleanValues": [
              "false",
              "true"
             ],
             "displayAs": "number",
             "highlightLinks": false,
             "imageHeight": "",
             "imageTitleTemplate": "{{ @ }}",
             "imageUrlTemplate": "{{ @ }}",
             "imageWidth": "",
             "linkOpenInNewTab": true,
             "linkTextTemplate": "{{ @ }}",
             "linkTitleTemplate": "{{ @ }}",
             "linkUrlTemplate": "{{ @ }}",
             "name": "RATING_PROMEDIO",
             "numberFormat": "0.00",
             "order": 100001,
             "preserveWhitespace": false,
             "title": "RATING_PROMEDIO",
             "type": "float",
             "useMonospaceFont": false,
             "visible": true
            }
           ],
           "condensed": false,
           "itemsPerPage": 25,
           "paginationSize": "default",
           "withRowNumber": false
          }
         }
        ]
       },
       "datasetPreviewNameToCmdIdMap": {},
       "diffDeletes": [],
       "diffInserts": [],
       "displayType": "redashChart",
       "error": null,
       "errorDetails": null,
       "errorSummary": null,
       "errorTraceType": null,
       "finishTime": 0,
       "globalVars": {},
       "guid": "",
       "height": "auto",
       "hideCommandCode": false,
       "hideCommandResult": false,
       "iPythonMetadata": null,
       "inputWidgets": {},
       "isLockedInExamMode": false,
       "latestUser": "a user",
       "latestUserId": null,
       "listResultMetadata": null,
       "metadata": {
        "byteLimit": 2048000,
        "implicitDf": true,
        "rowLimit": 10000
       },
       "nuid": "95b8d80e-d0d9-4448-a3d5-fe4c1e62a948",
       "origId": 0,
       "parentHierarchy": [],
       "pivotAggregation": null,
       "pivotColumns": null,
       "position": 6.25,
       "resultDbfsErrorMessage": null,
       "resultDbfsStatus": "INLINED_IN_TREE",
       "results": null,
       "showCommandTitle": false,
       "startTime": 0,
       "state": "finished",
       "streamStates": {},
       "subcommandOptions": {},
       "submitTime": 0,
       "subtype": "tableResultSubCmd.visualization",
       "tableResultIndex": 0,
       "useConsistentColors": false,
       "version": "CommandV1",
       "width": "auto",
       "workflows": [],
       "xColumns": null,
       "yColumns": null
      }
     },
     "output_type": "display_data"
    }
   ],
   "source": [
    "%sql\n",
    "-- Los 6 equipos con mejor rendimiento promedio en a lo largo de la temporada\n",
    "\n",
    "SELECT team_name AS EQUIPO, AVG(team_rating) AS RATING_PROMEDIO\n",
    "FROM FUSION\n",
    "GROUP BY EQUIPO\n",
    "ORDER BY RATING_PROMEDIO DESC\n",
    "LIMIT 6;"
   ]
  },
  {
   "cell_type": "code",
   "execution_count": 0,
   "metadata": {
    "application/vnd.databricks.v1+cell": {
     "cellMetadata": {
      "byteLimit": 2048000,
      "implicitDf": true,
      "rowLimit": 10000
     },
     "inputWidgets": {},
     "nuid": "b5088c0f-6156-49c4-80e3-80a9721b892a",
     "showTitle": false,
     "title": ""
    }
   },
   "outputs": [
    {
     "output_type": "display_data",
     "data": {
      "text/html": [
       "<style scoped>\n",
       "  .table-result-container {\n",
       "    max-height: 300px;\n",
       "    overflow: auto;\n",
       "  }\n",
       "  table, th, td {\n",
       "    border: 1px solid black;\n",
       "    border-collapse: collapse;\n",
       "  }\n",
       "  th, td {\n",
       "    padding: 5px;\n",
       "  }\n",
       "  th {\n",
       "    text-align: left;\n",
       "  }\n",
       "</style><div class='table-result-container'><table class='table-result'><thead style='background-color: white'><tr><th>JUGADOR</th><th>CALIFICACION_PROMEDIO</th></tr></thead><tbody><tr><td>Philippe Coutinho</td><td>8.030714239392962</td></tr><tr><td>Sergio Agüero</td><td>7.809999923706055</td></tr><tr><td>Kevin De Bruyne</td><td>7.8032432504602385</td></tr><tr><td>Mohamed Salah</td><td>7.691111127535502</td></tr><tr><td>Eden Hazard</td><td>7.689411794438081</td></tr><tr><td>Harry Kane</td><td>7.596216201782227</td></tr><tr><td>David Silva</td><td>7.578965532368627</td></tr><tr><td>Raheem Sterling</td><td>7.546666665510698</td></tr><tr><td>Leroy Sané</td><td>7.543749988079071</td></tr><tr><td>Paulo Gazzaniga</td><td>7.519999980926514</td></tr><tr><td>Aaron Wan-Bissaka</td><td>7.518571308680943</td></tr><tr><td>Paul Pogba</td><td>7.478888847209789</td></tr><tr><td>Fernandinho</td><td>7.436470578698551</td></tr><tr><td>Henri Saivet</td><td>7.420000076293945</td></tr><tr><td>Alexis Sánchez</td><td>7.416774180627638</td></tr><tr><td>Jérémy Pied</td><td>7.4049999713897705</td></tr><tr><td>Christian Eriksen</td><td>7.399729702923749</td></tr><tr><td>Roberto Firmino</td><td>7.391351390529323</td></tr><tr><td>Shkodran Mustafi</td><td>7.383333294479935</td></tr><tr><td>Wilfried Zaha</td><td>7.38137934125703</td></tr><tr><td>Sergio Romero</td><td>7.340000152587891</td></tr><tr><td>Pierre-Emerick Aubameyang</td><td>7.325384653531588</td></tr><tr><td>James Tomkins</td><td>7.310357178960528</td></tr><tr><td>Romelu Lukaku</td><td>7.287058788187363</td></tr><tr><td>Serge Aurier</td><td>7.2858823607949645</td></tr><tr><td>Emre Can</td><td>7.279999989729661</td></tr><tr><td>Kyle Walker-Peters</td><td>7.276666641235352</td></tr><tr><td>Riyad Mahrez</td><td>7.274166650242275</td></tr><tr><td>Sadio Mané</td><td>7.272068928027975</td></tr><tr><td>Aaron Ramsey</td><td>7.271249969800313</td></tr><tr><td>Jan Vertonghen</td><td>7.255277779367235</td></tr><tr><td>Mesut Özil</td><td>7.246153849821824</td></tr><tr><td>N'Golo Kanté</td><td>7.242058852139642</td></tr><tr><td>Chris Smalling</td><td>7.241724211594154</td></tr><tr><td>Virgil van Dijk</td><td>7.234615380947407</td></tr><tr><td>James Tarkowski</td><td>7.223225808912708</td></tr><tr><td>Phil Jones</td><td>7.206086905106254</td></tr><tr><td>Nemanja Matic</td><td>7.202500038676792</td></tr><tr><td>César Azpilicueta</td><td>7.182702708888698</td></tr><tr><td>Shane Duffy</td><td>7.169189182487694</td></tr><tr><td>Kevin Long</td><td>7.16312500834465</td></tr><tr><td>Fabian Delph</td><td>7.160454554991289</td></tr><tr><td>Wilfred Ndidi</td><td>7.145454565684001</td></tr><tr><td>Nacho Monreal</td><td>7.140357153756278</td></tr><tr><td>Nicolás Otamendi</td><td>7.134117631351247</td></tr><tr><td>Marcos Alonso</td><td>7.1330302267363574</td></tr><tr><td>Henrikh Mkhitaryan</td><td>7.123846200796274</td></tr><tr><td>Ben Mee</td><td>7.1217241287231445</td></tr><tr><td>Ashley Young</td><td>7.117666657765707</td></tr><tr><td>Kurt Zouma</td><td>7.117058838115019</td></tr><tr><td>Andros Townsend</td><td>7.112499965561761</td></tr><tr><td>Oleksandr Zinchenko</td><td>7.111249923706055</td></tr><tr><td>Joseph Gomez</td><td>7.1100000091221025</td></tr><tr><td>Christopher Schindler</td><td>7.103513550113988</td></tr><tr><td>Robbie Brady</td><td>7.103333314259847</td></tr><tr><td>Alexander Sørloth</td><td>7.102500081062317</td></tr><tr><td>Cesc Fàbregas</td><td>7.1006250232458115</td></tr><tr><td>Ryan Shawcross</td><td>7.091111112523962</td></tr><tr><td>Aymeric Laporte</td><td>7.089999993642171</td></tr><tr><td>Ben Davies</td><td>7.089999988161284</td></tr><tr><td>Alexandre Lacazette</td><td>7.0868749767541885</td></tr><tr><td>Ruben Loftus-Cheek</td><td>7.082500060399373</td></tr><tr><td>Laurent Koscielny</td><td>7.082000007629395</td></tr><tr><td>Johann Gudmundsson</td><td>7.081538457136888</td></tr><tr><td>Harry Maguire</td><td>7.0810526546679045</td></tr><tr><td>Dele Alli</td><td>7.079722232288784</td></tr><tr><td>Marko Arnautovic</td><td>7.079354886085756</td></tr><tr><td>Antonio Valencia</td><td>7.071612927221483</td></tr><tr><td>Lasse Sorensen</td><td>7.059999942779541</td></tr><tr><td>Florian Lejeune</td><td>7.052916646003723</td></tr><tr><td>Kyle Walker</td><td>7.046562492847443</td></tr><tr><td>Gabriel Jesus</td><td>7.045862082777353</td></tr><tr><td>Younes Kaboul</td><td>7.039999961853027</td></tr><tr><td>Manuel Lanzini</td><td>7.037777777071352</td></tr><tr><td>Jamaal Lascelles</td><td>7.036666653373024</td></tr><tr><td>Vincent Kompany</td><td>7.036470581503475</td></tr><tr><td>Kieran Trippier</td><td>7.03333334128062</td></tr><tr><td>Eric Bailly</td><td>7.0276923179626465</td></tr><tr><td>Lewis Dunk</td><td>7.022894708733809</td></tr><tr><td>Abdoulaye Doucouré</td><td>7.020540533839045</td></tr><tr><td>Andrew Robertson</td><td>7.020454536784779</td></tr><tr><td>Terence Kongolo</td><td>7.0200000909658575</td></tr><tr><td>Badou Ndiaye</td><td>7.018461520855244</td></tr><tr><td>Trent Alexander-Arnold</td><td>7.017894744873047</td></tr><tr><td>Luka Milivojevic</td><td>7.015555553966099</td></tr><tr><td>Craig Dawson</td><td>7.014642885753086</td></tr><tr><td>Arthur Masuaku</td><td>7.012962977091472</td></tr><tr><td>Granit Xhaka</td><td>7.011315822601318</td></tr><tr><td>Willian</td><td>7.006111145019531</td></tr><tr><td>Dejan Lovren</td><td>6.991034491308804</td></tr><tr><td>Son Heung-Min</td><td>6.985675682892671</td></tr><tr><td>Johann Berg Gudmundsson</td><td>6.985454515977339</td></tr><tr><td>Ahmed Hegazi</td><td>6.984473705291748</td></tr><tr><td>Jamie Vardy</td><td>6.976756753148259</td></tr><tr><td>Cuco Martina</td><td>6.975238028026762</td></tr><tr><td>Simon Francis</td><td>6.969375059008598</td></tr><tr><td>Matthew Lowton</td><td>6.968076926011306</td></tr><tr><td>Matt Targett</td><td>6.965000152587891</td></tr><tr><td>Yohan Benalouane</td><td>6.960000038146973</td></tr><tr><td>Alex Oxlade Chamberlain</td><td>6.9568571363176614</td></tr><tr><td>Eric Dier</td><td>6.955000007853789</td></tr><tr><td>Kenedy</td><td>6.953846124502329</td></tr><tr><td>David Ospina</td><td>6.946000099182129</td></tr><tr><td>Idrissa Gueye</td><td>6.945757620262377</td></tr><tr><td>Jordan Henderson</td><td>6.9455555456655995</td></tr><tr><td>Marouane Fellaini</td><td>6.941250026226044</td></tr><tr><td>Davinson Sánchez</td><td>6.940322599103374</td></tr><tr><td>Jesús Gámez</td><td>6.940000057220459</td></tr><tr><td>Michael Keane</td><td>6.93799999554952</td></tr><tr><td>Christian Kabasele</td><td>6.936428563935416</td></tr><tr><td>Álvaro Morata</td><td>6.935483855585898</td></tr><tr><td>Mario Lemina</td><td>6.934799976348877</td></tr><tr><td>Eric Maxim Choupo-Moting</td><td>6.934000015258789</td></tr><tr><td>Nick Pope</td><td>6.930285685403007</td></tr><tr><td>Chris Brunt</td><td>6.927692321630625</td></tr><tr><td>David de Gea</td><td>6.9249999739907</td></tr><tr><td>Oriol Romeu</td><td>6.924705870011273</td></tr><tr><td>Antonio Rüdiger</td><td>6.9225926046018245</td></tr><tr><td>Sead Kolasinac</td><td>6.9222222080937135</td></tr><tr><td>Joel Matip</td><td>6.921599941253662</td></tr><tr><td>James Collins</td><td>6.917692331167368</td></tr><tr><td>Christian Benteke</td><td>6.9158064319241435</td></tr><tr><td>Danilo</td><td>6.914347814477009</td></tr><tr><td>Jordan Ayew</td><td>6.913333349757725</td></tr><tr><td>Mousa Dembélé</td><td>6.897857172148568</td></tr><tr><td>Victor Moses</td><td>6.894999997956412</td></tr><tr><td>José Fonte</td><td>6.893750011920929</td></tr><tr><td>Seamus Coleman</td><td>6.893333315849304</td></tr><tr><td>Mike van der Hoorn</td><td>6.89291665951411</td></tr><tr><td>Lukasz Fabianski</td><td>6.891842089201274</td></tr><tr><td>Steve Cook</td><td>6.887941178153543</td></tr><tr><td>Wesley Hoedt</td><td>6.887500013623919</td></tr><tr><td>Stephen Ward</td><td>6.887499979564121</td></tr><tr><td>Nathan Aké</td><td>6.887105276710109</td></tr><tr><td>John Stones</td><td>6.8855555057525635</td></tr><tr><td>Michail Antonio</td><td>6.881904760996501</td></tr><tr><td>Alex Iwobi</td><td>6.880769179417537</td></tr><tr><td>Joshua King</td><td>6.880000013293642</td></tr><tr><td>Phil Bardsley</td><td>6.878461507650522</td></tr><tr><td>Gylfi Sigurdsson</td><td>6.877407391866048</td></tr><tr><td>Anthony Martial</td><td>6.875999975204468</td></tr><tr><td>Xherdan Shaqiri</td><td>6.873611132303874</td></tr><tr><td>Junior Stanislas</td><td>6.8726316000285905</td></tr><tr><td>Joe Allen</td><td>6.871666683091058</td></tr><tr><td>Jonjoe Kenny</td><td>6.870526338878431</td></tr><tr><td>Aaron Mooy</td><td>6.868888894716899</td></tr><tr><td>Benjamin Mendy</td><td>6.868571485791888</td></tr><tr><td>Juan Mata</td><td>6.8678571837288995</td></tr><tr><td>Mohamed Diamé</td><td>6.866774159093057</td></tr><tr><td>Gary Cahill</td><td>6.865925894843207</td></tr><tr><td>Tiemoué Bakayoko</td><td>6.865862073569462</td></tr><tr><td>Chancel Mbemba</td><td>6.865555551317003</td></tr><tr><td>Nathaniel Chalobah</td><td>6.8633333047231035</td></tr><tr><td>Maya Yoshida</td><td>6.85875004529953</td></tr><tr><td>Luke Shaw</td><td>6.858181910081343</td></tr><tr><td>Mikel Merino</td><td>6.850833336512248</td></tr><tr><td>Peter Crouch</td><td>6.850322584952077</td></tr><tr><td>David Luiz</td><td>6.848999977111816</td></tr><tr><td>Vicente Iborra</td><td>6.848421046608372</td></tr><tr><td>Matt Ritchie</td><td>6.84028570992606</td></tr><tr><td>Daley Blind</td><td>6.839999948229108</td></tr><tr><td>Kyle Naughton</td><td>6.837647045359892</td></tr><tr><td>Pedro Obiang</td><td>6.836666652134487</td></tr><tr><td>Claudio Bravo</td><td>6.833333492279053</td></tr><tr><td>Richarlison</td><td>6.832631600530524</td></tr><tr><td>Jack Wilshere</td><td>6.829500007629394</td></tr><tr><td>Robert Elliot</td><td>6.828125029802322</td></tr><tr><td>Eldin Jakupovic</td><td>6.825000047683716</td></tr><tr><td>Phil Jagielka</td><td>6.821200008392334</td></tr><tr><td>Jesse Lingard</td><td>6.820303049954501</td></tr><tr><td>Joel Ward</td><td>6.8173684571918685</td></tr><tr><td>Ben Chilwell</td><td>6.817083319028218</td></tr><tr><td>Theo Walcott</td><td>6.8169999599456785</td></tr><tr><td>Pascal Groß</td><td>6.8165789654380395</td></tr><tr><td>Mason Holgate</td><td>6.814000002543131</td></tr><tr><td>Christian Fuchs</td><td>6.8131999588012695</td></tr><tr><td>Mark Noble</td><td>6.810689663064891</td></tr><tr><td>Ragnar Klavan</td><td>6.809999942779541</td></tr><tr><td>Alfie Mawson</td><td>6.809473715330425</td></tr><tr><td>Marvin Zeegelaar</td><td>6.809166709582011</td></tr><tr><td>Marc Albrighton</td><td>6.808823515387142</td></tr><tr><td>Mamadou Sakho</td><td>6.808421084755345</td></tr><tr><td>Yohan Cabaye</td><td>6.802903221499536</td></tr><tr><td>Gerard Deulofeu</td><td>6.802857194628034</td></tr><tr><td>Cheikhou Kouyaté</td><td>6.799696951201468</td></tr><tr><td>Andreas Christensen</td><td>6.799259256433557</td></tr><tr><td>Alberto Moreno</td><td>6.798124998807907</td></tr><tr><td>Patrick van Aanholt</td><td>6.796428544180734</td></tr><tr><td>Jack Stephens</td><td>6.793636365370317</td></tr><tr><td>Ciaran Clark</td><td>6.7910000562667845</td></tr><tr><td>Dale Stephens</td><td>6.790555583106147</td></tr><tr><td>Chris Wood</td><td>6.789583345254262</td></tr><tr><td>Anthony Knockaert</td><td>6.788181839567242</td></tr><tr><td>Georginio Wijnaldum</td><td>6.787272771199544</td></tr><tr><td>Adrián</td><td>6.7863157673885945</td></tr><tr><td>Héctor Bellerín</td><td>6.784571402413505</td></tr><tr><td>Bernardo Silva</td><td>6.784285722460066</td></tr><tr><td>James Milner</td><td>6.782500013709068</td></tr><tr><td>Dusan Tadic</td><td>6.7822222577200995</td></tr><tr><td>Steve Mounie</td><td>6.777857218469892</td></tr><tr><td>Paul Dummett</td><td>6.773000001907349</td></tr><tr><td>Angelo Ogbonna</td><td>6.768437445163727</td></tr><tr><td>Salomón Rondón</td><td>6.765833377838135</td></tr><tr><td>Calum Chambers</td><td>6.765833298365275</td></tr><tr><td>Jonathan Hogg</td><td>6.764000034332275</td></tr><tr><td>Jonny Evans</td><td>6.763928634779794</td></tr><tr><td>Daryl Janmaat</td><td>6.763478237649669</td></tr><tr><td>Jack Butland</td><td>6.76257141658238</td></tr><tr><td>Steven Defour</td><td>6.761249979337056</td></tr><tr><td>José Holebas</td><td>6.7610714094979425</td></tr><tr><td>Aleksandar Dragovic</td><td>6.759090900421143</td></tr><tr><td>Federico Fernández</td><td>6.758333301544189</td></tr><tr><td>Marcus Rashford</td><td>6.757714339665005</td></tr><tr><td>DeAndre Yedlin</td><td>6.756470554015216</td></tr><tr><td>Kiko Femenía</td><td>6.7556521581566855</td></tr><tr><td>Mame Biram Diouf</td><td>6.752000004904611</td></tr><tr><td>Charlie Taylor</td><td>6.7518182234330615</td></tr><tr><td>Wayne Hennessey</td><td>6.7514814624079955</td></tr><tr><td>Davy Pröpper</td><td>6.75142856325422</td></tr><tr><td>James McArthur</td><td>6.750909082817309</td></tr><tr><td>Etienne Capoue</td><td>6.74956518670787</td></tr><tr><td>Petr Cech</td><td>6.747058868408203</td></tr><tr><td>Danny Rose</td><td>6.74399995803833</td></tr><tr><td>Hugo Lloris</td><td>6.743888907962376</td></tr><tr><td>Joselu</td><td>6.742666641871135</td></tr><tr><td>Cenk Tosun</td><td>6.74142861366272</td></tr><tr><td>Michel Vorm</td><td>6.739999771118164</td></tr><tr><td>Pablo Zabaleta</td><td>6.739459475955448</td></tr><tr><td>Jack Cork</td><td>6.738947378961663</td></tr><tr><td>Will Hughes</td><td>6.738000011444091</td></tr><tr><td>Ilkay Gündogan</td><td>6.737666622797648</td></tr><tr><td>Lewis Cook</td><td>6.736551745184537</td></tr><tr><td>João Mário</td><td>6.736153859358567</td></tr><tr><td>Mat Ryan</td><td>6.735263146852192</td></tr><tr><td>Ayoze Pérez</td><td>6.733888891008165</td></tr><tr><td>Erik Pieters</td><td>6.72935482763475</td></tr><tr><td>Martin Dubravka</td><td>6.729166666666667</td></tr><tr><td>Adam Smith</td><td>6.72777779897054</td></tr><tr><td>Leighton Baines</td><td>6.726363637230613</td></tr><tr><td>Andrew Surman</td><td>6.726000022888184</td></tr><tr><td>Matt Phillips</td><td>6.7253333250681555</td></tr><tr><td>Dominic Calvert-Lewin</td><td>6.721562460064888</td></tr><tr><td>Bruno</td><td>6.7136000061035155</td></tr><tr><td>Ashley Williams</td><td>6.711249987284343</td></tr><tr><td>Sam Byram</td><td>6.707999992370605</td></tr><tr><td>Zanka</td><td>6.707105272694638</td></tr><tr><td>Ryan Fraser</td><td>6.706923099664541</td></tr><tr><td>Jonjo Shelvey</td><td>6.7046666463216145</td></tr><tr><td>Ederson</td><td>6.702222228050232</td></tr><tr><td>Alex Pritchard</td><td>6.698571443557739</td></tr><tr><td>Loris Karius</td><td>6.697894723791825</td></tr><tr><td>David De Gea</td><td>6.697333367665609</td></tr><tr><td>Rob Holding</td><td>6.696666717529297</td></tr><tr><td>Konstantinos Stafylidis</td><td>6.6940000534057615</td></tr><tr><td>Aaron Cresswell</td><td>6.689444462458293</td></tr><tr><td>Scott Dann</td><td>6.687647034140194</td></tr><tr><td>Kieran Gibbs</td><td>6.6848484819585625</td></tr><tr><td>Toby Alderweireld</td><td>6.6807142325810025</td></tr><tr><td>Sofiane Boufal</td><td>6.678461496646587</td></tr><tr><td>Andy Carroll</td><td>6.678124934434891</td></tr><tr><td>Leroy Fer</td><td>6.6745000123977665</td></tr><tr><td>Geoff Cameron</td><td>6.6720000267028805</td></tr><tr><td>Jan Bednarek</td><td>6.669999980926514</td></tr><tr><td>Per Mertesacker</td><td>6.666666666666667</td></tr><tr><td>Michael Carrick</td><td>6.664999961853027</td></tr><tr><td>Victor Lindelöf</td><td>6.664117672864129</td></tr><tr><td>Karl Darlow</td><td>6.664000082015991</td></tr><tr><td>Pedro</td><td>6.661612895227248</td></tr><tr><td>Boaz Myhill</td><td>6.659999847412109</td></tr><tr><td>Tom Cleverley</td><td>6.659130386684252</td></tr><tr><td>Jeffrey Schlupp</td><td>6.657083292802175</td></tr><tr><td>Ryan Bertrand</td><td>6.6560000147138325</td></tr><tr><td>Ainsley Maitland-Niles</td><td>6.65533332824707</td></tr><tr><td>Marcos Rojo</td><td>6.648888799879286</td></tr><tr><td>Jordon Ibe</td><td>6.64781254529953</td></tr><tr><td>Willy Caballero</td><td>6.646666526794434</td></tr><tr><td>Adrian Mariappa</td><td>6.64642858505249</td></tr><tr><td>Charlie Daniels</td><td>6.6445713724408835</td></tr><tr><td>Emerson</td><td>6.6420001029968265</td></tr><tr><td>Wayne Rooney</td><td>6.640645134833552</td></tr><tr><td>Victor Wanyama</td><td>6.639999998940362</td></tr><tr><td>Oumar Niasse</td><td>6.638636393980547</td></tr><tr><td>Nathan Redmond</td><td>6.636451598136656</td></tr><tr><td>Heurelho Gomes</td><td>6.635833362738292</td></tr><tr><td>Steven Davis</td><td>6.635217397109322</td></tr><tr><td>Scott Arfield</td><td>6.632222202089098</td></tr><tr><td>Moritz Bauer</td><td>6.632000001271566</td></tr><tr><td>Jordan Pickford</td><td>6.6310526697259204</td></tr><tr><td>Thibaut Courtois</td><td>6.63057143347604</td></tr><tr><td>Winston Reid</td><td>6.628235255970674</td></tr><tr><td>Matty James</td><td>6.627692369314341</td></tr><tr><td>Julian Speroni</td><td>6.625454512509433</td></tr><tr><td>José Izquierdo</td><td>6.619687512516975</td></tr><tr><td>Matteo Darmian</td><td>6.618750095367432</td></tr><tr><td>Kyle Bartley</td><td>6.618000030517578</td></tr><tr><td>Guido Carrillo</td><td>6.617142881665911</td></tr><tr><td>André Carrillo</td><td>6.616785713604519</td></tr><tr><td>Jay Rodriguez</td><td>6.614864864864865</td></tr><tr><td>Wes Morgan</td><td>6.613437458872795</td></tr><tr><td>Pierre-Emile Højbjerg</td><td>6.61260874375053</td></tr><tr><td>Grzegorz Krychowiak</td><td>6.610740679281729</td></tr><tr><td>Troy Deeney</td><td>6.610689689373148</td></tr><tr><td>Davide Zappacosta</td><td>6.610454581000588</td></tr><tr><td>Craig Cathcart</td><td>6.609999929155622</td></tr><tr><td>Kasper Schmeichel</td><td>6.6084848606225215</td></tr><tr><td>Ki Sung-yueng</td><td>6.608400020599365</td></tr><tr><td>Ander Herrera</td><td>6.608076884196355</td></tr><tr><td>Olivier Giroud</td><td>6.601379345203268</td></tr><tr><td>Molla Wagué</td><td>6.600000063578288</td></tr><tr><td>Tomer Hemed</td><td>6.597500056028366</td></tr><tr><td>Solly March</td><td>6.596388869815403</td></tr><tr><td>Gaëtan Bong</td><td>6.594400043487549</td></tr><tr><td>Glenn Murray</td><td>6.585428605760847</td></tr><tr><td>James Ward-Prowse</td><td>6.584333340326945</td></tr><tr><td>Chicharito</td><td>6.581428595951626</td></tr><tr><td>Shinji Okazaki</td><td>6.578518514279966</td></tr><tr><td>Allan Nyom</td><td>6.578275844968599</td></tr><tr><td>Danny Simpson</td><td>6.57750003678458</td></tr><tr><td>Timothy Fosu-Mensah</td><td>6.577142828986759</td></tr><tr><td>Dan Gosling</td><td>6.574285677501133</td></tr><tr><td>Cédric Soares</td><td>6.573437511920929</td></tr><tr><td>Laurent Depoitre</td><td>6.572727261167584</td></tr><tr><td>Jonas Lössl</td><td>6.567894759931062</td></tr><tr><td>Ashley Barnes</td><td>6.567500008477105</td></tr><tr><td>Morgan Schneiderlin</td><td>6.564333359400432</td></tr><tr><td>Gareth Barry</td><td>6.559599990844727</td></tr><tr><td>Sebastian Prödl</td><td>6.544761952899751</td></tr><tr><td>Isaac Hayden</td><td>6.5403846227205715</td></tr><tr><td>Callum Wilson</td><td>6.5364285707473755</td></tr><tr><td>Rajiv van La Parra</td><td>6.534545436049953</td></tr><tr><td>Sam Field</td><td>6.534000015258789</td></tr><tr><td>Jake Livermore</td><td>6.5323529523961685</td></tr><tr><td>Shane Long</td><td>6.53066660563151</td></tr><tr><td>Charlie Austin</td><td>6.530416707197825</td></tr><tr><td>Sam Clucas</td><td>6.527241361552272</td></tr><tr><td>Alex McCarthy</td><td>6.527222183015612</td></tr><tr><td>Kevin Wimmer</td><td>6.524117638083065</td></tr><tr><td>Asmir Begovic</td><td>6.523947364405582</td></tr><tr><td>Erik Lamela</td><td>6.517600021362305</td></tr><tr><td>Danny Welbeck</td><td>6.516428555761065</td></tr><tr><td>Tom Carroll</td><td>6.514324291332348</td></tr><tr><td>André Ayew</td><td>6.512999979654948</td></tr><tr><td>Chris Löwe</td><td>6.510000042293383</td></tr><tr><td>Fraser Forster</td><td>6.508999991416931</td></tr><tr><td>Tommy Smith</td><td>6.507083276907603</td></tr><tr><td>Harry Winks</td><td>6.506874978542328</td></tr><tr><td>Miguel Britos</td><td>6.506666700045268</td></tr><tr><td>Florent Hadergjonaj</td><td>6.505652178888735</td></tr><tr><td>Roberto Pereyra</td><td>6.504062533378601</td></tr><tr><td>Yaya Touré</td><td>6.503999996185303</td></tr><tr><td>Ben Foster</td><td>6.502973002356452</td></tr><tr><td>Wilfried Bony</td><td>6.499333286285401</td></tr><tr><td>Daniel Sturridge</td><td>6.49866673151652</td></tr><tr><td>Javier Manquillo</td><td>6.496666658492315</td></tr><tr><td>Christian Atsu</td><td>6.496071423803057</td></tr><tr><td>Thomas Edwards</td><td>6.493333339691162</td></tr><tr><td>Declan Rice</td><td>6.491923057115995</td></tr><tr><td>Dwight Gayle</td><td>6.4902856826782225</td></tr><tr><td>Claudio Yacob</td><td>6.488750010728836</td></tr><tr><td>Nordin Amrabat</td><td>6.486666679382324</td></tr><tr><td>Simon Mignolet</td><td>6.4857894997847705</td></tr><tr><td>Darren Fletcher</td><td>6.482222221515797</td></tr><tr><td>Scott McTominay</td><td>6.481538442464975</td></tr><tr><td>Lucas Moura</td><td>6.480000019073486</td></tr><tr><td>Philip Billing</td><td>6.478750050067902</td></tr><tr><td>Kelechi Iheanacho</td><td>6.478571460360572</td></tr><tr><td>Daniel Drinkwater</td><td>6.475833336512248</td></tr><tr><td>James Morrison</td><td>6.475000023841858</td></tr><tr><td>Harry Arter</td><td>6.474615427163931</td></tr><tr><td>Mohamed Elneny</td><td>6.472307755396916</td></tr><tr><td>Fousseni Diabaté</td><td>6.46785705430167</td></tr><tr><td>Aaron Lennon</td><td>6.467586204923433</td></tr><tr><td>Moussa Sissoko</td><td>6.466969721245043</td></tr><tr><td>Tom Heaton</td><td>6.460000038146973</td></tr><tr><td>Renato Sanches</td><td>6.459166606267293</td></tr><tr><td>Markus Suttner</td><td>6.458571434020996</td></tr><tr><td>Elias Kachunga</td><td>6.458421079736007</td></tr><tr><td>Ramadan Sobhi</td><td>6.4575000405311584</td></tr><tr><td>Sam Vokes</td><td>6.451000022888183</td></tr><tr><td>Tom Ince</td><td>6.449393937082002</td></tr><tr><td>Demarai Gray</td><td>6.447142859867641</td></tr><tr><td>Reiss Nelson</td><td>6.439999898274739</td></tr><tr><td>Aleksandar Mitrovic</td><td>6.431666771570842</td></tr><tr><td>Jesé</td><td>6.430769260113056</td></tr><tr><td>Martin Kelly</td><td>6.430666700998942</td></tr><tr><td>Bruno Martins Indi</td><td>6.425294090719784</td></tr><tr><td>Eliaquim Mangala</td><td>6.4209091446616435</td></tr><tr><td>Sullay Kaikai</td><td>6.420000076293945</td></tr><tr><td>Tom Davies</td><td>6.4193939440178145</td></tr><tr><td>Ashley Westwood</td><td>6.413157939910889</td></tr><tr><td>Tammy Abraham</td><td>6.41225807128414</td></tr><tr><td>Dominic Solanke</td><td>6.405238128843761</td></tr><tr><td>Bakary Sako</td><td>6.405000001192093</td></tr><tr><td>Collin Quaner</td><td>6.4034615113185005</td></tr><tr><td>Connor Goldson</td><td>6.40333350499471</td></tr><tr><td>Adrien Silva</td><td>6.400000015894572</td></tr><tr><td>Ezequiel Schelotto</td><td>6.392999958992005</td></tr><tr><td>Edimilson Fernandes</td><td>6.391428538731167</td></tr><tr><td>Jermain Defoe</td><td>6.382916669050853</td></tr><tr><td>Michy Batshuayi</td><td>6.382499972979228</td></tr><tr><td>Scott Malone</td><td>6.381363673643633</td></tr><tr><td>Andy King</td><td>6.380909117785367</td></tr><tr><td>Callum Hudson-Odoi</td><td>6.379999876022339</td></tr><tr><td>Liam Rosenior</td><td>6.37666670481364</td></tr><tr><td>James McClean</td><td>6.376333332061767</td></tr><tr><td>Daniel Amartey</td><td>6.3762500286102295</td></tr><tr><td>Nikola Vlasic</td><td>6.3733333349227905</td></tr><tr><td>Ross Barkley</td><td>6.370000123977661</td></tr><tr><td>Uwe Hünemeier</td><td>6.369999885559082</td></tr><tr><td>Ramiro Funes Mori</td><td>6.364999890327454</td></tr><tr><td>Stefano Okaka</td><td>6.363333320617675</td></tr><tr><td>Connor Roberts</td><td>6.350000023841858</td></tr><tr><td>Yannick Bolasie</td><td>6.348124980926514</td></tr><tr><td>Danny Williams</td><td>6.348000001907349</td></tr><tr><td>Orestis Karnezis</td><td>6.344000021616618</td></tr><tr><td>Charly Musonda</td><td>6.34333340326945</td></tr><tr><td>Danny Ings</td><td>6.331250071525574</td></tr><tr><td>Jeff Hendrick</td><td>6.326764667735381</td></tr><tr><td>Charlie Adam</td><td>6.326363650235263</td></tr><tr><td>Martin Olsson</td><td>6.326111117998759</td></tr><tr><td>Jairo Riedewald</td><td>6.320833325386047</td></tr><tr><td>Kasey Palmer</td><td>6.319999933242798</td></tr><tr><td>Luciano Narsingh</td><td>6.319444470935398</td></tr><tr><td>Phil Foden</td><td>6.318000030517578</td></tr><tr><td>Nacer Chadli</td><td>6.315999984741211</td></tr><tr><td>Ben Watson</td><td>6.31125009059906</td></tr><tr><td>Rekeem Harper</td><td>6.309999942779541</td></tr><tr><td>Marc Pugh</td><td>6.30649995803833</td></tr><tr><td>Patrice Evra</td><td>6.3040000915527346</td></tr><tr><td>Manolo Gabbiadini</td><td>6.302857177598136</td></tr><tr><td>Ademola Lookman</td><td>6.298571382250104</td></tr><tr><td>Konstantinos Mavropanos</td><td>6.296666622161865</td></tr><tr><td>Abdelhamid Sabiri</td><td>6.296000003814697</td></tr><tr><td>Muhamed Besic</td><td>6.294999837875366</td></tr><tr><td>Jacob Murphy</td><td>6.293999977111817</td></tr><tr><td>Nathan Dyer</td><td>6.284583310286204</td></tr><tr><td>Hal Robson-Kanu</td><td>6.284285795120966</td></tr><tr><td>Roque Mesa</td><td>6.280909104780718</td></tr><tr><td>Lys Mousset</td><td>6.275217346523119</td></tr><tr><td>Josh Sims</td><td>6.274999936421712</td></tr><tr><td>Nathaniel Clyne</td><td>6.273333390553792</td></tr><tr><td>Hamza Choudhury</td><td>6.271250009536743</td></tr><tr><td>Joe Hart</td><td>6.265789483722887</td></tr><tr><td>Rolando Aarons</td><td>6.262499928474426</td></tr><tr><td>Beram Kayal</td><td>6.26210523906507</td></tr><tr><td>Leon Britton</td><td>6.261999988555909</td></tr><tr><td>Oliver McBurnie</td><td>6.261818192221901</td></tr><tr><td>Damien Delaney</td><td>6.259999990463257</td></tr><tr><td>Leonardo Ulloa</td><td>6.259285722460065</td></tr><tr><td>James McCarthy</td><td>6.254999995231628</td></tr><tr><td>Lee Grant</td><td>6.253333409627278</td></tr><tr><td>Oliver Burke</td><td>6.253333346048991</td></tr><tr><td>Levi Lumeka</td><td>6.25</td></tr><tr><td>Glen Johnson</td><td>6.244444370269775</td></tr><tr><td>Andre Gray</td><td>6.239354841170773</td></tr><tr><td>Ethan Ampadu</td><td>6.230000019073486</td></tr><tr><td>Gareth McAuley</td><td>6.225555472903782</td></tr><tr><td>Sam McQueen</td><td>6.221428598676409</td></tr><tr><td>Adam Lallana</td><td>6.219999988873799</td></tr><tr><td>Martin Cranie</td><td>6.2133331298828125</td></tr><tr><td>Tyrone Mings</td><td>6.210000038146973</td></tr><tr><td>Islam Slimani</td><td>6.208749979734421</td></tr><tr><td>Fernando Llorente</td><td>6.20250004529953</td></tr><tr><td>Zlatan Ibrahimovic</td><td>6.2</td></tr><tr><td>Georges-Kévin Nkoudou</td><td>6.19888883166843</td></tr><tr><td>Dodi Lukebakio</td><td>6.190000057220459</td></tr><tr><td>Benik Afobe</td><td>6.183529433082132</td></tr><tr><td>Reece Oxford</td><td>6.179999828338623</td></tr><tr><td>Kevin Mirallas</td><td>6.177999973297119</td></tr><tr><td>Joe Lolley</td><td>6.171666701634725</td></tr><tr><td>Isaiah Brown</td><td>6.170769214630127</td></tr><tr><td>Angel Rangel</td><td>6.159999966621399</td></tr><tr><td>Josh Cullen</td><td>6.144999980926514</td></tr><tr><td>Diafra Sakho</td><td>6.142142840794155</td></tr><tr><td>Jürgen Locadia</td><td>6.141666730244954</td></tr><tr><td>Ben Woodburn</td><td>6.139999866485596</td></tr><tr><td>Francis Coquelin</td><td>6.138571398598807</td></tr><tr><td>Wayne Routledge</td><td>6.117333348592123</td></tr><tr><td>Bojan</td><td>6.110000133514404</td></tr><tr><td>Marko Grujic</td><td>6.109999974568685</td></tr><tr><td>Davy Klaassen</td><td>6.107142925262451</td></tr><tr><td>Jordan Hugill</td><td>6.106666723887126</td></tr><tr><td>Stephen Ireland</td><td>6.102499961853027</td></tr><tr><td>Beni Baningime</td><td>6.099999964237213</td></tr><tr><td>Jerome Sinclair</td><td>6.099999904632568</td></tr><tr><td>Tyrese Campbell</td><td>6.082499980926514</td></tr><tr><td>Brahim Diaz</td><td>6.082000064849853</td></tr><tr><td>Jamie Murphy</td><td>6.080000042915344</td></tr><tr><td>Jason Puncheon</td><td>6.073999977111816</td></tr><tr><td>Saido Berahino</td><td>6.062666670481364</td></tr><tr><td>Chung-Yong Lee</td><td>6.0624998807907104</td></tr><tr><td>Eddie Nketiah</td><td>6.053333441416423</td></tr><tr><td>Pape Souaré</td><td>6.050000190734863</td></tr><tr><td>Harvey Barnes</td><td>6.046666622161865</td></tr><tr><td>Joe Willock</td><td>6.039999961853027</td></tr><tr><td>Massadio Haidara</td><td>6.039999961853027</td></tr><tr><td>Jeremie Boga</td><td>6.03000020980835</td></tr><tr><td>Axel Tuanzebe</td><td>6.03000020980835</td></tr><tr><td>Nahki Wells</td><td>6.024444421132405</td></tr><tr><td>Dean Whitehead</td><td>6.022500038146973</td></tr><tr><td>Sandro Ramírez</td><td>6.011250078678131</td></tr><tr><td>Emerson Hyndman</td><td>6.010000228881836</td></tr><tr><td>Dwight McNeil</td><td>6.0</td></tr><tr><td>Ibrahim Afellay</td><td>5.9883333047231035</td></tr><tr><td>Lukas Nmecha</td><td>5.974999904632568</td></tr><tr><td>Ben Hamer</td><td>5.9725000858306885</td></tr><tr><td>Vincent Janssen</td><td>5.96999979019165</td></tr><tr><td>Jay Fulton</td><td>5.9649999141693115</td></tr><tr><td>Jonathan Walters</td><td>5.923333326975505</td></tr><tr><td>Michael Hefele</td><td>5.914999961853027</td></tr><tr><td>Jack Simpson</td><td>5.900000095367432</td></tr><tr><td>Sam Baldock</td><td>5.890000104904175</td></tr><tr><td>Lee Chung-yong</td><td>5.890000025431315</td></tr><tr><td>Freddie Ladapo</td><td>5.889999866485596</td></tr><tr><td>Julien Ngoy</td><td>5.889999866485596</td></tr><tr><td>Michael Obafemi</td><td>5.820000171661377</td></tr><tr><td>Divock Origi</td><td>5.800000190734863</td></tr><tr><td>Josh Tymon</td><td>5.789999961853027</td></tr></tbody></table></div>"
      ]
     },
     "metadata": {
      "application/vnd.databricks.v1+output": {
       "addedWidgets": {},
       "aggData": [],
       "aggError": "",
       "aggOverflow": false,
       "aggSchema": [],
       "aggSeriesLimitReached": false,
       "aggType": "",
       "arguments": {},
       "columnCustomDisplayInfos": {},
       "data": [
        [
         "Philippe Coutinho",
         8.030714239392962
        ],
        [
         "Sergio Agüero",
         7.809999923706055
        ],
        [
         "Kevin De Bruyne",
         7.8032432504602385
        ],
        [
         "Mohamed Salah",
         7.691111127535502
        ],
        [
         "Eden Hazard",
         7.689411794438081
        ],
        [
         "Harry Kane",
         7.596216201782227
        ],
        [
         "David Silva",
         7.578965532368627
        ],
        [
         "Raheem Sterling",
         7.546666665510698
        ],
        [
         "Leroy Sané",
         7.543749988079071
        ],
        [
         "Paulo Gazzaniga",
         7.519999980926514
        ],
        [
         "Aaron Wan-Bissaka",
         7.518571308680943
        ],
        [
         "Paul Pogba",
         7.478888847209789
        ],
        [
         "Fernandinho",
         7.436470578698551
        ],
        [
         "Henri Saivet",
         7.420000076293945
        ],
        [
         "Alexis Sánchez",
         7.416774180627638
        ],
        [
         "Jérémy Pied",
         7.4049999713897705
        ],
        [
         "Christian Eriksen",
         7.399729702923749
        ],
        [
         "Roberto Firmino",
         7.391351390529323
        ],
        [
         "Shkodran Mustafi",
         7.383333294479935
        ],
        [
         "Wilfried Zaha",
         7.38137934125703
        ],
        [
         "Sergio Romero",
         7.340000152587891
        ],
        [
         "Pierre-Emerick Aubameyang",
         7.325384653531588
        ],
        [
         "James Tomkins",
         7.310357178960528
        ],
        [
         "Romelu Lukaku",
         7.287058788187363
        ],
        [
         "Serge Aurier",
         7.2858823607949645
        ],
        [
         "Emre Can",
         7.279999989729661
        ],
        [
         "Kyle Walker-Peters",
         7.276666641235352
        ],
        [
         "Riyad Mahrez",
         7.274166650242275
        ],
        [
         "Sadio Mané",
         7.272068928027975
        ],
        [
         "Aaron Ramsey",
         7.271249969800313
        ],
        [
         "Jan Vertonghen",
         7.255277779367235
        ],
        [
         "Mesut Özil",
         7.246153849821824
        ],
        [
         "N'Golo Kanté",
         7.242058852139642
        ],
        [
         "Chris Smalling",
         7.241724211594154
        ],
        [
         "Virgil van Dijk",
         7.234615380947407
        ],
        [
         "James Tarkowski",
         7.223225808912708
        ],
        [
         "Phil Jones",
         7.206086905106254
        ],
        [
         "Nemanja Matic",
         7.202500038676792
        ],
        [
         "César Azpilicueta",
         7.182702708888698
        ],
        [
         "Shane Duffy",
         7.169189182487694
        ],
        [
         "Kevin Long",
         7.16312500834465
        ],
        [
         "Fabian Delph",
         7.160454554991289
        ],
        [
         "Wilfred Ndidi",
         7.145454565684001
        ],
        [
         "Nacho Monreal",
         7.140357153756278
        ],
        [
         "Nicolás Otamendi",
         7.134117631351247
        ],
        [
         "Marcos Alonso",
         7.1330302267363574
        ],
        [
         "Henrikh Mkhitaryan",
         7.123846200796274
        ],
        [
         "Ben Mee",
         7.1217241287231445
        ],
        [
         "Ashley Young",
         7.117666657765707
        ],
        [
         "Kurt Zouma",
         7.117058838115019
        ],
        [
         "Andros Townsend",
         7.112499965561761
        ],
        [
         "Oleksandr Zinchenko",
         7.111249923706055
        ],
        [
         "Joseph Gomez",
         7.1100000091221025
        ],
        [
         "Christopher Schindler",
         7.103513550113988
        ],
        [
         "Robbie Brady",
         7.103333314259847
        ],
        [
         "Alexander Sørloth",
         7.102500081062317
        ],
        [
         "Cesc Fàbregas",
         7.1006250232458115
        ],
        [
         "Ryan Shawcross",
         7.091111112523962
        ],
        [
         "Aymeric Laporte",
         7.089999993642171
        ],
        [
         "Ben Davies",
         7.089999988161284
        ],
        [
         "Alexandre Lacazette",
         7.0868749767541885
        ],
        [
         "Ruben Loftus-Cheek",
         7.082500060399373
        ],
        [
         "Laurent Koscielny",
         7.082000007629395
        ],
        [
         "Johann Gudmundsson",
         7.081538457136888
        ],
        [
         "Harry Maguire",
         7.0810526546679045
        ],
        [
         "Dele Alli",
         7.079722232288784
        ],
        [
         "Marko Arnautovic",
         7.079354886085756
        ],
        [
         "Antonio Valencia",
         7.071612927221483
        ],
        [
         "Lasse Sorensen",
         7.059999942779541
        ],
        [
         "Florian Lejeune",
         7.052916646003723
        ],
        [
         "Kyle Walker",
         7.046562492847443
        ],
        [
         "Gabriel Jesus",
         7.045862082777353
        ],
        [
         "Younes Kaboul",
         7.039999961853027
        ],
        [
         "Manuel Lanzini",
         7.037777777071352
        ],
        [
         "Jamaal Lascelles",
         7.036666653373024
        ],
        [
         "Vincent Kompany",
         7.036470581503475
        ],
        [
         "Kieran Trippier",
         7.03333334128062
        ],
        [
         "Eric Bailly",
         7.0276923179626465
        ],
        [
         "Lewis Dunk",
         7.022894708733809
        ],
        [
         "Abdoulaye Doucouré",
         7.020540533839045
        ],
        [
         "Andrew Robertson",
         7.020454536784779
        ],
        [
         "Terence Kongolo",
         7.0200000909658575
        ],
        [
         "Badou Ndiaye",
         7.018461520855244
        ],
        [
         "Trent Alexander-Arnold",
         7.017894744873047
        ],
        [
         "Luka Milivojevic",
         7.015555553966099
        ],
        [
         "Craig Dawson",
         7.014642885753086
        ],
        [
         "Arthur Masuaku",
         7.012962977091472
        ],
        [
         "Granit Xhaka",
         7.011315822601318
        ],
        [
         "Willian",
         7.006111145019531
        ],
        [
         "Dejan Lovren",
         6.991034491308804
        ],
        [
         "Son Heung-Min",
         6.985675682892671
        ],
        [
         "Johann Berg Gudmundsson",
         6.985454515977339
        ],
        [
         "Ahmed Hegazi",
         6.984473705291748
        ],
        [
         "Jamie Vardy",
         6.976756753148259
        ],
        [
         "Cuco Martina",
         6.975238028026762
        ],
        [
         "Simon Francis",
         6.969375059008598
        ],
        [
         "Matthew Lowton",
         6.968076926011306
        ],
        [
         "Matt Targett",
         6.965000152587891
        ],
        [
         "Yohan Benalouane",
         6.960000038146973
        ],
        [
         "Alex Oxlade Chamberlain",
         6.9568571363176614
        ],
        [
         "Eric Dier",
         6.955000007853789
        ],
        [
         "Kenedy",
         6.953846124502329
        ],
        [
         "David Ospina",
         6.946000099182129
        ],
        [
         "Idrissa Gueye",
         6.945757620262377
        ],
        [
         "Jordan Henderson",
         6.9455555456655995
        ],
        [
         "Marouane Fellaini",
         6.941250026226044
        ],
        [
         "Davinson Sánchez",
         6.940322599103374
        ],
        [
         "Jesús Gámez",
         6.940000057220459
        ],
        [
         "Michael Keane",
         6.93799999554952
        ],
        [
         "Christian Kabasele",
         6.936428563935416
        ],
        [
         "Álvaro Morata",
         6.935483855585898
        ],
        [
         "Mario Lemina",
         6.934799976348877
        ],
        [
         "Eric Maxim Choupo-Moting",
         6.934000015258789
        ],
        [
         "Nick Pope",
         6.930285685403007
        ],
        [
         "Chris Brunt",
         6.927692321630625
        ],
        [
         "David de Gea",
         6.9249999739907
        ],
        [
         "Oriol Romeu",
         6.924705870011273
        ],
        [
         "Antonio Rüdiger",
         6.9225926046018245
        ],
        [
         "Sead Kolasinac",
         6.9222222080937135
        ],
        [
         "Joel Matip",
         6.921599941253662
        ],
        [
         "James Collins",
         6.917692331167368
        ],
        [
         "Christian Benteke",
         6.9158064319241435
        ],
        [
         "Danilo",
         6.914347814477009
        ],
        [
         "Jordan Ayew",
         6.913333349757725
        ],
        [
         "Mousa Dembélé",
         6.897857172148568
        ],
        [
         "Victor Moses",
         6.894999997956412
        ],
        [
         "José Fonte",
         6.893750011920929
        ],
        [
         "Seamus Coleman",
         6.893333315849304
        ],
        [
         "Mike van der Hoorn",
         6.89291665951411
        ],
        [
         "Lukasz Fabianski",
         6.891842089201274
        ],
        [
         "Steve Cook",
         6.887941178153543
        ],
        [
         "Wesley Hoedt",
         6.887500013623919
        ],
        [
         "Stephen Ward",
         6.887499979564121
        ],
        [
         "Nathan Aké",
         6.887105276710109
        ],
        [
         "John Stones",
         6.8855555057525635
        ],
        [
         "Michail Antonio",
         6.881904760996501
        ],
        [
         "Alex Iwobi",
         6.880769179417537
        ],
        [
         "Joshua King",
         6.880000013293642
        ],
        [
         "Phil Bardsley",
         6.878461507650522
        ],
        [
         "Gylfi Sigurdsson",
         6.877407391866048
        ],
        [
         "Anthony Martial",
         6.875999975204468
        ],
        [
         "Xherdan Shaqiri",
         6.873611132303874
        ],
        [
         "Junior Stanislas",
         6.8726316000285905
        ],
        [
         "Joe Allen",
         6.871666683091058
        ],
        [
         "Jonjoe Kenny",
         6.870526338878431
        ],
        [
         "Aaron Mooy",
         6.868888894716899
        ],
        [
         "Benjamin Mendy",
         6.868571485791888
        ],
        [
         "Juan Mata",
         6.8678571837288995
        ],
        [
         "Mohamed Diamé",
         6.866774159093057
        ],
        [
         "Gary Cahill",
         6.865925894843207
        ],
        [
         "Tiemoué Bakayoko",
         6.865862073569462
        ],
        [
         "Chancel Mbemba",
         6.865555551317003
        ],
        [
         "Nathaniel Chalobah",
         6.8633333047231035
        ],
        [
         "Maya Yoshida",
         6.85875004529953
        ],
        [
         "Luke Shaw",
         6.858181910081343
        ],
        [
         "Mikel Merino",
         6.850833336512248
        ],
        [
         "Peter Crouch",
         6.850322584952077
        ],
        [
         "David Luiz",
         6.848999977111816
        ],
        [
         "Vicente Iborra",
         6.848421046608372
        ],
        [
         "Matt Ritchie",
         6.84028570992606
        ],
        [
         "Daley Blind",
         6.839999948229108
        ],
        [
         "Kyle Naughton",
         6.837647045359892
        ],
        [
         "Pedro Obiang",
         6.836666652134487
        ],
        [
         "Claudio Bravo",
         6.833333492279053
        ],
        [
         "Richarlison",
         6.832631600530524
        ],
        [
         "Jack Wilshere",
         6.829500007629394
        ],
        [
         "Robert Elliot",
         6.828125029802322
        ],
        [
         "Eldin Jakupovic",
         6.825000047683716
        ],
        [
         "Phil Jagielka",
         6.821200008392334
        ],
        [
         "Jesse Lingard",
         6.820303049954501
        ],
        [
         "Joel Ward",
         6.8173684571918685
        ],
        [
         "Ben Chilwell",
         6.817083319028218
        ],
        [
         "Theo Walcott",
         6.8169999599456785
        ],
        [
         "Pascal Groß",
         6.8165789654380395
        ],
        [
         "Mason Holgate",
         6.814000002543131
        ],
        [
         "Christian Fuchs",
         6.8131999588012695
        ],
        [
         "Mark Noble",
         6.810689663064891
        ],
        [
         "Ragnar Klavan",
         6.809999942779541
        ],
        [
         "Alfie Mawson",
         6.809473715330425
        ],
        [
         "Marvin Zeegelaar",
         6.809166709582011
        ],
        [
         "Marc Albrighton",
         6.808823515387142
        ],
        [
         "Mamadou Sakho",
         6.808421084755345
        ],
        [
         "Yohan Cabaye",
         6.802903221499536
        ],
        [
         "Gerard Deulofeu",
         6.802857194628034
        ],
        [
         "Cheikhou Kouyaté",
         6.799696951201468
        ],
        [
         "Andreas Christensen",
         6.799259256433557
        ],
        [
         "Alberto Moreno",
         6.798124998807907
        ],
        [
         "Patrick van Aanholt",
         6.796428544180734
        ],
        [
         "Jack Stephens",
         6.793636365370317
        ],
        [
         "Ciaran Clark",
         6.7910000562667845
        ],
        [
         "Dale Stephens",
         6.790555583106147
        ],
        [
         "Chris Wood",
         6.789583345254262
        ],
        [
         "Anthony Knockaert",
         6.788181839567242
        ],
        [
         "Georginio Wijnaldum",
         6.787272771199544
        ],
        [
         "Adrián",
         6.7863157673885945
        ],
        [
         "Héctor Bellerín",
         6.784571402413505
        ],
        [
         "Bernardo Silva",
         6.784285722460066
        ],
        [
         "James Milner",
         6.782500013709068
        ],
        [
         "Dusan Tadic",
         6.7822222577200995
        ],
        [
         "Steve Mounie",
         6.777857218469892
        ],
        [
         "Paul Dummett",
         6.773000001907349
        ],
        [
         "Angelo Ogbonna",
         6.768437445163727
        ],
        [
         "Salomón Rondón",
         6.765833377838135
        ],
        [
         "Calum Chambers",
         6.765833298365275
        ],
        [
         "Jonathan Hogg",
         6.764000034332275
        ],
        [
         "Jonny Evans",
         6.763928634779794
        ],
        [
         "Daryl Janmaat",
         6.763478237649669
        ],
        [
         "Jack Butland",
         6.76257141658238
        ],
        [
         "Steven Defour",
         6.761249979337056
        ],
        [
         "José Holebas",
         6.7610714094979425
        ],
        [
         "Aleksandar Dragovic",
         6.759090900421143
        ],
        [
         "Federico Fernández",
         6.758333301544189
        ],
        [
         "Marcus Rashford",
         6.757714339665005
        ],
        [
         "DeAndre Yedlin",
         6.756470554015216
        ],
        [
         "Kiko Femenía",
         6.7556521581566855
        ],
        [
         "Mame Biram Diouf",
         6.752000004904611
        ],
        [
         "Charlie Taylor",
         6.7518182234330615
        ],
        [
         "Wayne Hennessey",
         6.7514814624079955
        ],
        [
         "Davy Pröpper",
         6.75142856325422
        ],
        [
         "James McArthur",
         6.750909082817309
        ],
        [
         "Etienne Capoue",
         6.74956518670787
        ],
        [
         "Petr Cech",
         6.747058868408203
        ],
        [
         "Danny Rose",
         6.74399995803833
        ],
        [
         "Hugo Lloris",
         6.743888907962376
        ],
        [
         "Joselu",
         6.742666641871135
        ],
        [
         "Cenk Tosun",
         6.74142861366272
        ],
        [
         "Michel Vorm",
         6.739999771118164
        ],
        [
         "Pablo Zabaleta",
         6.739459475955448
        ],
        [
         "Jack Cork",
         6.738947378961663
        ],
        [
         "Will Hughes",
         6.738000011444091
        ],
        [
         "Ilkay Gündogan",
         6.737666622797648
        ],
        [
         "Lewis Cook",
         6.736551745184537
        ],
        [
         "João Mário",
         6.736153859358567
        ],
        [
         "Mat Ryan",
         6.735263146852192
        ],
        [
         "Ayoze Pérez",
         6.733888891008165
        ],
        [
         "Erik Pieters",
         6.72935482763475
        ],
        [
         "Martin Dubravka",
         6.729166666666667
        ],
        [
         "Adam Smith",
         6.72777779897054
        ],
        [
         "Leighton Baines",
         6.726363637230613
        ],
        [
         "Andrew Surman",
         6.726000022888184
        ],
        [
         "Matt Phillips",
         6.7253333250681555
        ],
        [
         "Dominic Calvert-Lewin",
         6.721562460064888
        ],
        [
         "Bruno",
         6.7136000061035155
        ],
        [
         "Ashley Williams",
         6.711249987284343
        ],
        [
         "Sam Byram",
         6.707999992370605
        ],
        [
         "Zanka",
         6.707105272694638
        ],
        [
         "Ryan Fraser",
         6.706923099664541
        ],
        [
         "Jonjo Shelvey",
         6.7046666463216145
        ],
        [
         "Ederson",
         6.702222228050232
        ],
        [
         "Alex Pritchard",
         6.698571443557739
        ],
        [
         "Loris Karius",
         6.697894723791825
        ],
        [
         "David De Gea",
         6.697333367665609
        ],
        [
         "Rob Holding",
         6.696666717529297
        ],
        [
         "Konstantinos Stafylidis",
         6.6940000534057615
        ],
        [
         "Aaron Cresswell",
         6.689444462458293
        ],
        [
         "Scott Dann",
         6.687647034140194
        ],
        [
         "Kieran Gibbs",
         6.6848484819585625
        ],
        [
         "Toby Alderweireld",
         6.6807142325810025
        ],
        [
         "Sofiane Boufal",
         6.678461496646587
        ],
        [
         "Andy Carroll",
         6.678124934434891
        ],
        [
         "Leroy Fer",
         6.6745000123977665
        ],
        [
         "Geoff Cameron",
         6.6720000267028805
        ],
        [
         "Jan Bednarek",
         6.669999980926514
        ],
        [
         "Per Mertesacker",
         6.666666666666667
        ],
        [
         "Michael Carrick",
         6.664999961853027
        ],
        [
         "Victor Lindelöf",
         6.664117672864129
        ],
        [
         "Karl Darlow",
         6.664000082015991
        ],
        [
         "Pedro",
         6.661612895227248
        ],
        [
         "Boaz Myhill",
         6.659999847412109
        ],
        [
         "Tom Cleverley",
         6.659130386684252
        ],
        [
         "Jeffrey Schlupp",
         6.657083292802175
        ],
        [
         "Ryan Bertrand",
         6.6560000147138325
        ],
        [
         "Ainsley Maitland-Niles",
         6.65533332824707
        ],
        [
         "Marcos Rojo",
         6.648888799879286
        ],
        [
         "Jordon Ibe",
         6.64781254529953
        ],
        [
         "Willy Caballero",
         6.646666526794434
        ],
        [
         "Adrian Mariappa",
         6.64642858505249
        ],
        [
         "Charlie Daniels",
         6.6445713724408835
        ],
        [
         "Emerson",
         6.6420001029968265
        ],
        [
         "Wayne Rooney",
         6.640645134833552
        ],
        [
         "Victor Wanyama",
         6.639999998940362
        ],
        [
         "Oumar Niasse",
         6.638636393980547
        ],
        [
         "Nathan Redmond",
         6.636451598136656
        ],
        [
         "Heurelho Gomes",
         6.635833362738292
        ],
        [
         "Steven Davis",
         6.635217397109322
        ],
        [
         "Scott Arfield",
         6.632222202089098
        ],
        [
         "Moritz Bauer",
         6.632000001271566
        ],
        [
         "Jordan Pickford",
         6.6310526697259204
        ],
        [
         "Thibaut Courtois",
         6.63057143347604
        ],
        [
         "Winston Reid",
         6.628235255970674
        ],
        [
         "Matty James",
         6.627692369314341
        ],
        [
         "Julian Speroni",
         6.625454512509433
        ],
        [
         "José Izquierdo",
         6.619687512516975
        ],
        [
         "Matteo Darmian",
         6.618750095367432
        ],
        [
         "Kyle Bartley",
         6.618000030517578
        ],
        [
         "Guido Carrillo",
         6.617142881665911
        ],
        [
         "André Carrillo",
         6.616785713604519
        ],
        [
         "Jay Rodriguez",
         6.614864864864865
        ],
        [
         "Wes Morgan",
         6.613437458872795
        ],
        [
         "Pierre-Emile Højbjerg",
         6.61260874375053
        ],
        [
         "Grzegorz Krychowiak",
         6.610740679281729
        ],
        [
         "Troy Deeney",
         6.610689689373148
        ],
        [
         "Davide Zappacosta",
         6.610454581000588
        ],
        [
         "Craig Cathcart",
         6.609999929155622
        ],
        [
         "Kasper Schmeichel",
         6.6084848606225215
        ],
        [
         "Ki Sung-yueng",
         6.608400020599365
        ],
        [
         "Ander Herrera",
         6.608076884196355
        ],
        [
         "Olivier Giroud",
         6.601379345203268
        ],
        [
         "Molla Wagué",
         6.600000063578288
        ],
        [
         "Tomer Hemed",
         6.597500056028366
        ],
        [
         "Solly March",
         6.596388869815403
        ],
        [
         "Gaëtan Bong",
         6.594400043487549
        ],
        [
         "Glenn Murray",
         6.585428605760847
        ],
        [
         "James Ward-Prowse",
         6.584333340326945
        ],
        [
         "Chicharito",
         6.581428595951626
        ],
        [
         "Shinji Okazaki",
         6.578518514279966
        ],
        [
         "Allan Nyom",
         6.578275844968599
        ],
        [
         "Danny Simpson",
         6.57750003678458
        ],
        [
         "Timothy Fosu-Mensah",
         6.577142828986759
        ],
        [
         "Dan Gosling",
         6.574285677501133
        ],
        [
         "Cédric Soares",
         6.573437511920929
        ],
        [
         "Laurent Depoitre",
         6.572727261167584
        ],
        [
         "Jonas Lössl",
         6.567894759931062
        ],
        [
         "Ashley Barnes",
         6.567500008477105
        ],
        [
         "Morgan Schneiderlin",
         6.564333359400432
        ],
        [
         "Gareth Barry",
         6.559599990844727
        ],
        [
         "Sebastian Prödl",
         6.544761952899751
        ],
        [
         "Isaac Hayden",
         6.5403846227205715
        ],
        [
         "Callum Wilson",
         6.5364285707473755
        ],
        [
         "Rajiv van La Parra",
         6.534545436049953
        ],
        [
         "Sam Field",
         6.534000015258789
        ],
        [
         "Jake Livermore",
         6.5323529523961685
        ],
        [
         "Shane Long",
         6.53066660563151
        ],
        [
         "Charlie Austin",
         6.530416707197825
        ],
        [
         "Sam Clucas",
         6.527241361552272
        ],
        [
         "Alex McCarthy",
         6.527222183015612
        ],
        [
         "Kevin Wimmer",
         6.524117638083065
        ],
        [
         "Asmir Begovic",
         6.523947364405582
        ],
        [
         "Erik Lamela",
         6.517600021362305
        ],
        [
         "Danny Welbeck",
         6.516428555761065
        ],
        [
         "Tom Carroll",
         6.514324291332348
        ],
        [
         "André Ayew",
         6.512999979654948
        ],
        [
         "Chris Löwe",
         6.510000042293383
        ],
        [
         "Fraser Forster",
         6.508999991416931
        ],
        [
         "Tommy Smith",
         6.507083276907603
        ],
        [
         "Harry Winks",
         6.506874978542328
        ],
        [
         "Miguel Britos",
         6.506666700045268
        ],
        [
         "Florent Hadergjonaj",
         6.505652178888735
        ],
        [
         "Roberto Pereyra",
         6.504062533378601
        ],
        [
         "Yaya Touré",
         6.503999996185303
        ],
        [
         "Ben Foster",
         6.502973002356452
        ],
        [
         "Wilfried Bony",
         6.499333286285401
        ],
        [
         "Daniel Sturridge",
         6.49866673151652
        ],
        [
         "Javier Manquillo",
         6.496666658492315
        ],
        [
         "Christian Atsu",
         6.496071423803057
        ],
        [
         "Thomas Edwards",
         6.493333339691162
        ],
        [
         "Declan Rice",
         6.491923057115995
        ],
        [
         "Dwight Gayle",
         6.4902856826782225
        ],
        [
         "Claudio Yacob",
         6.488750010728836
        ],
        [
         "Nordin Amrabat",
         6.486666679382324
        ],
        [
         "Simon Mignolet",
         6.4857894997847705
        ],
        [
         "Darren Fletcher",
         6.482222221515797
        ],
        [
         "Scott McTominay",
         6.481538442464975
        ],
        [
         "Lucas Moura",
         6.480000019073486
        ],
        [
         "Philip Billing",
         6.478750050067902
        ],
        [
         "Kelechi Iheanacho",
         6.478571460360572
        ],
        [
         "Daniel Drinkwater",
         6.475833336512248
        ],
        [
         "James Morrison",
         6.475000023841858
        ],
        [
         "Harry Arter",
         6.474615427163931
        ],
        [
         "Mohamed Elneny",
         6.472307755396916
        ],
        [
         "Fousseni Diabaté",
         6.46785705430167
        ],
        [
         "Aaron Lennon",
         6.467586204923433
        ],
        [
         "Moussa Sissoko",
         6.466969721245043
        ],
        [
         "Tom Heaton",
         6.460000038146973
        ],
        [
         "Renato Sanches",
         6.459166606267293
        ],
        [
         "Markus Suttner",
         6.458571434020996
        ],
        [
         "Elias Kachunga",
         6.458421079736007
        ],
        [
         "Ramadan Sobhi",
         6.4575000405311584
        ],
        [
         "Sam Vokes",
         6.451000022888183
        ],
        [
         "Tom Ince",
         6.449393937082002
        ],
        [
         "Demarai Gray",
         6.447142859867641
        ],
        [
         "Reiss Nelson",
         6.439999898274739
        ],
        [
         "Aleksandar Mitrovic",
         6.431666771570842
        ],
        [
         "Jesé",
         6.430769260113056
        ],
        [
         "Martin Kelly",
         6.430666700998942
        ],
        [
         "Bruno Martins Indi",
         6.425294090719784
        ],
        [
         "Eliaquim Mangala",
         6.4209091446616435
        ],
        [
         "Sullay Kaikai",
         6.420000076293945
        ],
        [
         "Tom Davies",
         6.4193939440178145
        ],
        [
         "Ashley Westwood",
         6.413157939910889
        ],
        [
         "Tammy Abraham",
         6.41225807128414
        ],
        [
         "Dominic Solanke",
         6.405238128843761
        ],
        [
         "Bakary Sako",
         6.405000001192093
        ],
        [
         "Collin Quaner",
         6.4034615113185005
        ],
        [
         "Connor Goldson",
         6.40333350499471
        ],
        [
         "Adrien Silva",
         6.400000015894572
        ],
        [
         "Ezequiel Schelotto",
         6.392999958992005
        ],
        [
         "Edimilson Fernandes",
         6.391428538731167
        ],
        [
         "Jermain Defoe",
         6.382916669050853
        ],
        [
         "Michy Batshuayi",
         6.382499972979228
        ],
        [
         "Scott Malone",
         6.381363673643633
        ],
        [
         "Andy King",
         6.380909117785367
        ],
        [
         "Callum Hudson-Odoi",
         6.379999876022339
        ],
        [
         "Liam Rosenior",
         6.37666670481364
        ],
        [
         "James McClean",
         6.376333332061767
        ],
        [
         "Daniel Amartey",
         6.3762500286102295
        ],
        [
         "Nikola Vlasic",
         6.3733333349227905
        ],
        [
         "Ross Barkley",
         6.370000123977661
        ],
        [
         "Uwe Hünemeier",
         6.369999885559082
        ],
        [
         "Ramiro Funes Mori",
         6.364999890327454
        ],
        [
         "Stefano Okaka",
         6.363333320617675
        ],
        [
         "Connor Roberts",
         6.350000023841858
        ],
        [
         "Yannick Bolasie",
         6.348124980926514
        ],
        [
         "Danny Williams",
         6.348000001907349
        ],
        [
         "Orestis Karnezis",
         6.344000021616618
        ],
        [
         "Charly Musonda",
         6.34333340326945
        ],
        [
         "Danny Ings",
         6.331250071525574
        ],
        [
         "Jeff Hendrick",
         6.326764667735381
        ],
        [
         "Charlie Adam",
         6.326363650235263
        ],
        [
         "Martin Olsson",
         6.326111117998759
        ],
        [
         "Jairo Riedewald",
         6.320833325386047
        ],
        [
         "Kasey Palmer",
         6.319999933242798
        ],
        [
         "Luciano Narsingh",
         6.319444470935398
        ],
        [
         "Phil Foden",
         6.318000030517578
        ],
        [
         "Nacer Chadli",
         6.315999984741211
        ],
        [
         "Ben Watson",
         6.31125009059906
        ],
        [
         "Rekeem Harper",
         6.309999942779541
        ],
        [
         "Marc Pugh",
         6.30649995803833
        ],
        [
         "Patrice Evra",
         6.3040000915527346
        ],
        [
         "Manolo Gabbiadini",
         6.302857177598136
        ],
        [
         "Ademola Lookman",
         6.298571382250104
        ],
        [
         "Konstantinos Mavropanos",
         6.296666622161865
        ],
        [
         "Abdelhamid Sabiri",
         6.296000003814697
        ],
        [
         "Muhamed Besic",
         6.294999837875366
        ],
        [
         "Jacob Murphy",
         6.293999977111817
        ],
        [
         "Nathan Dyer",
         6.284583310286204
        ],
        [
         "Hal Robson-Kanu",
         6.284285795120966
        ],
        [
         "Roque Mesa",
         6.280909104780718
        ],
        [
         "Lys Mousset",
         6.275217346523119
        ],
        [
         "Josh Sims",
         6.274999936421712
        ],
        [
         "Nathaniel Clyne",
         6.273333390553792
        ],
        [
         "Hamza Choudhury",
         6.271250009536743
        ],
        [
         "Joe Hart",
         6.265789483722887
        ],
        [
         "Rolando Aarons",
         6.262499928474426
        ],
        [
         "Beram Kayal",
         6.26210523906507
        ],
        [
         "Leon Britton",
         6.261999988555909
        ],
        [
         "Oliver McBurnie",
         6.261818192221901
        ],
        [
         "Damien Delaney",
         6.259999990463257
        ],
        [
         "Leonardo Ulloa",
         6.259285722460065
        ],
        [
         "James McCarthy",
         6.254999995231628
        ],
        [
         "Lee Grant",
         6.253333409627278
        ],
        [
         "Oliver Burke",
         6.253333346048991
        ],
        [
         "Levi Lumeka",
         6.25
        ],
        [
         "Glen Johnson",
         6.244444370269775
        ],
        [
         "Andre Gray",
         6.239354841170773
        ],
        [
         "Ethan Ampadu",
         6.230000019073486
        ],
        [
         "Gareth McAuley",
         6.225555472903782
        ],
        [
         "Sam McQueen",
         6.221428598676409
        ],
        [
         "Adam Lallana",
         6.219999988873799
        ],
        [
         "Martin Cranie",
         6.2133331298828125
        ],
        [
         "Tyrone Mings",
         6.210000038146973
        ],
        [
         "Islam Slimani",
         6.208749979734421
        ],
        [
         "Fernando Llorente",
         6.20250004529953
        ],
        [
         "Zlatan Ibrahimovic",
         6.2
        ],
        [
         "Georges-Kévin Nkoudou",
         6.19888883166843
        ],
        [
         "Dodi Lukebakio",
         6.190000057220459
        ],
        [
         "Benik Afobe",
         6.183529433082132
        ],
        [
         "Reece Oxford",
         6.179999828338623
        ],
        [
         "Kevin Mirallas",
         6.177999973297119
        ],
        [
         "Joe Lolley",
         6.171666701634725
        ],
        [
         "Isaiah Brown",
         6.170769214630127
        ],
        [
         "Angel Rangel",
         6.159999966621399
        ],
        [
         "Josh Cullen",
         6.144999980926514
        ],
        [
         "Diafra Sakho",
         6.142142840794155
        ],
        [
         "Jürgen Locadia",
         6.141666730244954
        ],
        [
         "Ben Woodburn",
         6.139999866485596
        ],
        [
         "Francis Coquelin",
         6.138571398598807
        ],
        [
         "Wayne Routledge",
         6.117333348592123
        ],
        [
         "Bojan",
         6.110000133514404
        ],
        [
         "Marko Grujic",
         6.109999974568685
        ],
        [
         "Davy Klaassen",
         6.107142925262451
        ],
        [
         "Jordan Hugill",
         6.106666723887126
        ],
        [
         "Stephen Ireland",
         6.102499961853027
        ],
        [
         "Beni Baningime",
         6.099999964237213
        ],
        [
         "Jerome Sinclair",
         6.099999904632568
        ],
        [
         "Tyrese Campbell",
         6.082499980926514
        ],
        [
         "Brahim Diaz",
         6.082000064849853
        ],
        [
         "Jamie Murphy",
         6.080000042915344
        ],
        [
         "Jason Puncheon",
         6.073999977111816
        ],
        [
         "Saido Berahino",
         6.062666670481364
        ],
        [
         "Chung-Yong Lee",
         6.0624998807907104
        ],
        [
         "Eddie Nketiah",
         6.053333441416423
        ],
        [
         "Pape Souaré",
         6.050000190734863
        ],
        [
         "Harvey Barnes",
         6.046666622161865
        ],
        [
         "Joe Willock",
         6.039999961853027
        ],
        [
         "Massadio Haidara",
         6.039999961853027
        ],
        [
         "Jeremie Boga",
         6.03000020980835
        ],
        [
         "Axel Tuanzebe",
         6.03000020980835
        ],
        [
         "Nahki Wells",
         6.024444421132405
        ],
        [
         "Dean Whitehead",
         6.022500038146973
        ],
        [
         "Sandro Ramírez",
         6.011250078678131
        ],
        [
         "Emerson Hyndman",
         6.010000228881836
        ],
        [
         "Dwight McNeil",
         6.0
        ],
        [
         "Ibrahim Afellay",
         5.9883333047231035
        ],
        [
         "Lukas Nmecha",
         5.974999904632568
        ],
        [
         "Ben Hamer",
         5.9725000858306885
        ],
        [
         "Vincent Janssen",
         5.96999979019165
        ],
        [
         "Jay Fulton",
         5.9649999141693115
        ],
        [
         "Jonathan Walters",
         5.923333326975505
        ],
        [
         "Michael Hefele",
         5.914999961853027
        ],
        [
         "Jack Simpson",
         5.900000095367432
        ],
        [
         "Sam Baldock",
         5.890000104904175
        ],
        [
         "Lee Chung-yong",
         5.890000025431315
        ],
        [
         "Freddie Ladapo",
         5.889999866485596
        ],
        [
         "Julien Ngoy",
         5.889999866485596
        ],
        [
         "Michael Obafemi",
         5.820000171661377
        ],
        [
         "Divock Origi",
         5.800000190734863
        ],
        [
         "Josh Tymon",
         5.789999961853027
        ]
       ],
       "datasetInfos": [],
       "dbfsResultPath": null,
       "isJsonSchema": true,
       "metadata": {},
       "overflow": false,
       "plotOptions": {
        "customPlotOptions": {},
        "displayType": "table",
        "pivotAggregation": null,
        "pivotColumns": null,
        "xColumns": null,
        "yColumns": null
       },
       "removedWidgets": [],
       "schema": [
        {
         "metadata": "{}",
         "name": "JUGADOR",
         "type": "\"string\""
        },
        {
         "metadata": "{}",
         "name": "CALIFICACION_PROMEDIO",
         "type": "\"double\""
        }
       ],
       "type": "table"
      }
     },
     "output_type": "display_data"
    },
    {
     "output_type": "display_data",
     "data": {
      "text/plain": [
       "Databricks visualization. Run in Databricks to view."
      ]
     },
     "metadata": {
      "application/vnd.databricks.v1.subcommand+json": {
       "baseErrorDetails": null,
       "bindings": {},
       "collapsed": false,
       "command": "%sql WITH q AS (SELECT player_name AS JUGADOR, AVG(player_rating) AS CALIFICACION_PROMEDIO \nFROM P_M GROUP BY player_name \nORDER BY Calificacion_Promedio DESC) ,min_max AS (SELECT `CALIFICACION_PROMEDIO`,(SELECT MAX(`CALIFICACION_PROMEDIO`) FROM q) `target_column_max`,(SELECT MIN(`CALIFICACION_PROMEDIO`) FROM q) `target_column_min` FROM q) ,histogram_meta AS (SELECT `CALIFICACION_PROMEDIO`,`target_column_min` `min_value`,IF(`target_column_max` = `target_column_min`,`target_column_max` + 1,`target_column_max`) `max_value`,(`target_column_max` - `target_column_min`) / 10 `step` FROM min_max) SELECT IF(ISNULL(`CALIFICACION_PROMEDIO`),NULL,LEAST(WIDTH_BUCKET(`CALIFICACION_PROMEDIO`,`min_value`,`max_value`,10),10)) `CALIFICACION_PROMEDIO_BIN`,FIRST(`min_value` + ((IF(ISNULL(`CALIFICACION_PROMEDIO`),NULL,LEAST(WIDTH_BUCKET(`CALIFICACION_PROMEDIO`,`min_value`,`max_value`,10),10)) - 1) * `step`)) `CALIFICACION_PROMEDIO_BIN_LOWER_BOUND`,FIRST(`step`) `CALIFICACION_PROMEDIO_BIN_STEP`,COUNT(`CALIFICACION_PROMEDIO`) `COUNT` FROM histogram_meta GROUP BY `CALIFICACION_PROMEDIO_BIN`",
       "commandTitle": "Visualization 1",
       "commandType": "auto",
       "commandVersion": 0,
       "commentThread": [],
       "commentsVisible": false,
       "contentSha256Hex": null,
       "customPlotOptions": {
        "redashChart": [
         {
          "key": "type",
          "value": "CHART"
         },
         {
          "key": "options",
          "value": {
           "alignYAxesAtZero": false,
           "coefficient": 1,
           "columnConfigurationMap": {
            "x": {
             "column": "CALIFICACION_PROMEDIO",
             "id": "column_3bc0955f59"
            }
           },
           "dateTimeFormat": "DD/MM/YYYY HH:mm",
           "direction": {
            "type": "counterclockwise"
           },
           "error_y": {
            "type": "data",
            "visible": true
           },
           "globalSeriesType": "histogram",
           "isAggregationOn": true,
           "legend": {
            "traceorder": "normal"
           },
           "missingValuesAsZero": true,
           "numBins": 10,
           "numberFormat": "0,0.[00000]",
           "percentFormat": "0[.]00%",
           "series": {
            "error_y": {
             "type": "data",
             "visible": true
            },
            "stacking": null
           },
           "seriesOptions": {
            "COUNT": {
             "color": "#660044"
            },
            "JUGADOR": {
             "type": "histogram",
             "yAxis": 0
            },
            "column_3bc0955f53": {
             "type": "histogram",
             "yAxis": 0
            },
            "column_3bc0955f55": {
             "type": "histogram",
             "yAxis": 0
            },
            "column_3bc0955f60": {
             "type": "histogram",
             "yAxis": 0
            },
            "column_3bc0955f61": {
             "type": "histogram",
             "yAxis": 0
            }
           },
           "showDataLabels": false,
           "sizemode": "diameter",
           "sortX": true,
           "sortY": true,
           "swappedAxes": false,
           "textFormat": "",
           "useAggregationsUi": true,
           "valuesOptions": {},
           "version": 2,
           "xAxis": {
            "labels": {
             "enabled": true
            },
            "type": "linear"
           },
           "yAxis": [
            {
             "title": {
              "text": "FRECUENCIA"
             },
             "type": "-"
            },
            {
             "opposite": true,
             "type": "-"
            }
           ]
          }
         }
        ]
       },
       "datasetPreviewNameToCmdIdMap": {},
       "diffDeletes": [],
       "diffInserts": [],
       "displayType": "redashChart",
       "error": null,
       "errorDetails": null,
       "errorSummary": null,
       "errorTraceType": null,
       "finishTime": 0,
       "globalVars": {},
       "guid": "",
       "height": "780.134765625",
       "hideCommandCode": false,
       "hideCommandResult": false,
       "iPythonMetadata": null,
       "inputWidgets": {},
       "isLockedInExamMode": false,
       "latestUser": "a user",
       "latestUserId": null,
       "listResultMetadata": null,
       "metadata": {
        "byteLimit": 2048000,
        "implicitDf": true,
        "rowLimit": 10000
       },
       "nuid": "d1a8bfdd-d10e-4eaa-981e-bdd13426993b",
       "origId": 0,
       "parentHierarchy": [],
       "pivotAggregation": null,
       "pivotColumns": null,
       "position": 7.0,
       "resultDbfsErrorMessage": null,
       "resultDbfsStatus": "INLINED_IN_TREE",
       "results": null,
       "showCommandTitle": false,
       "startTime": 0,
       "state": "finished",
       "streamStates": {},
       "subcommandOptions": {
        "queryPlan": {
         "groups": [
          {
           "column": "CALIFICACION_PROMEDIO_BIN",
           "type": "column"
          }
         ],
         "selects": [
          {
           "alias": "CALIFICACION_PROMEDIO_BIN",
           "args": [
            {
             "column": "CALIFICACION_PROMEDIO",
             "type": "column"
            },
            {
             "number": 10,
             "type": "number"
            }
           ],
           "function": "BIN",
           "type": "function"
          },
          {
           "alias": "CALIFICACION_PROMEDIO_BIN_LOWER_BOUND",
           "args": [
            {
             "column": "CALIFICACION_PROMEDIO",
             "type": "column"
            },
            {
             "number": 10,
             "type": "number"
            }
           ],
           "function": "BIN_LOWER_BOUND",
           "type": "function"
          },
          {
           "alias": "CALIFICACION_PROMEDIO_BIN_STEP",
           "args": [
            {
             "column": "CALIFICACION_PROMEDIO",
             "type": "column"
            },
            {
             "number": 10,
             "type": "number"
            }
           ],
           "function": "BIN_STEP",
           "type": "function"
          },
          {
           "alias": "COUNT",
           "args": [
            {
             "column": "CALIFICACION_PROMEDIO",
             "type": "column"
            }
           ],
           "function": "COUNT",
           "type": "function"
          }
         ]
        }
       },
       "submitTime": 0,
       "subtype": "tableResultSubCmd.visualization",
       "tableResultIndex": 0,
       "useConsistentColors": false,
       "version": "CommandV1",
       "width": "1219",
       "workflows": [],
       "xColumns": null,
       "yColumns": null
      }
     },
     "output_type": "display_data"
    }
   ],
   "source": [
    "%sql\n",
    "-- Distribución de la calificación promedio de los jugadores a lo largo de la temporada\n",
    "\n",
    "SELECT player_name AS JUGADOR, AVG(player_rating) AS CALIFICACION_PROMEDIO \n",
    "FROM P_M GROUP BY player_name \n",
    "ORDER BY Calificacion_Promedio DESC"
   ]
  },
  {
   "cell_type": "code",
   "execution_count": 0,
   "metadata": {
    "application/vnd.databricks.v1+cell": {
     "cellMetadata": {
      "byteLimit": 2048000,
      "implicitDf": true,
      "rowLimit": 10000
     },
     "inputWidgets": {},
     "nuid": "0de15404-9b44-4e7f-a99d-025c2d46e510",
     "showTitle": false,
     "title": ""
    }
   },
   "outputs": [
    {
     "output_type": "display_data",
     "data": {
      "text/html": [
       "<style scoped>\n",
       "  .table-result-container {\n",
       "    max-height: 300px;\n",
       "    overflow: auto;\n",
       "  }\n",
       "  table, th, td {\n",
       "    border: 1px solid black;\n",
       "    border-collapse: collapse;\n",
       "  }\n",
       "  th, td {\n",
       "    padding: 5px;\n",
       "  }\n",
       "  th {\n",
       "    text-align: left;\n",
       "  }\n",
       "</style><div class='table-result-container'><table class='table-result'><thead style='background-color: white'><tr><th>EQUIPO</th><th>GOLES</th></tr></thead><tbody><tr><td>Manchester City FC</td><td>106</td></tr><tr><td>Liverpool FC</td><td>84</td></tr><tr><td>Tottenham Hotspur</td><td>74</td></tr><tr><td>Arsenal FC</td><td>74</td></tr><tr><td>Manchester United FC</td><td>68</td></tr><tr><td>Chelsea FC</td><td>62</td></tr><tr><td>Leicester City</td><td>56</td></tr><tr><td>West Ham United</td><td>48</td></tr><tr><td>Crystal Palace FC</td><td>45</td></tr><tr><td>AFC Bournemouth</td><td>45</td></tr><tr><td>Watford FC</td><td>44</td></tr><tr><td>Everton FC</td><td>44</td></tr><tr><td>Newcastle United FC</td><td>39</td></tr><tr><td>Southampton FC</td><td>37</td></tr><tr><td>Burnley FC</td><td>36</td></tr><tr><td>Stoke City</td><td>35</td></tr><tr><td>Brighton & Hove Albion</td><td>34</td></tr><tr><td>West Bromwich Albion FC</td><td>31</td></tr><tr><td>Swansea City</td><td>28</td></tr><tr><td>Huddersfield Town</td><td>28</td></tr></tbody></table></div>"
      ]
     },
     "metadata": {
      "application/vnd.databricks.v1+output": {
       "addedWidgets": {},
       "aggData": [],
       "aggError": "",
       "aggOverflow": false,
       "aggSchema": [],
       "aggSeriesLimitReached": false,
       "aggType": "",
       "arguments": {},
       "columnCustomDisplayInfos": {},
       "data": [
        [
         "Manchester City FC",
         106
        ],
        [
         "Liverpool FC",
         84
        ],
        [
         "Tottenham Hotspur",
         74
        ],
        [
         "Arsenal FC",
         74
        ],
        [
         "Manchester United FC",
         68
        ],
        [
         "Chelsea FC",
         62
        ],
        [
         "Leicester City",
         56
        ],
        [
         "West Ham United",
         48
        ],
        [
         "Crystal Palace FC",
         45
        ],
        [
         "AFC Bournemouth",
         45
        ],
        [
         "Watford FC",
         44
        ],
        [
         "Everton FC",
         44
        ],
        [
         "Newcastle United FC",
         39
        ],
        [
         "Southampton FC",
         37
        ],
        [
         "Burnley FC",
         36
        ],
        [
         "Stoke City",
         35
        ],
        [
         "Brighton & Hove Albion",
         34
        ],
        [
         "West Bromwich Albion FC",
         31
        ],
        [
         "Swansea City",
         28
        ],
        [
         "Huddersfield Town",
         28
        ]
       ],
       "datasetInfos": [],
       "dbfsResultPath": null,
       "isJsonSchema": true,
       "metadata": {},
       "overflow": false,
       "plotOptions": {
        "customPlotOptions": {},
        "displayType": "table",
        "pivotAggregation": null,
        "pivotColumns": null,
        "xColumns": null,
        "yColumns": null
       },
       "removedWidgets": [],
       "schema": [
        {
         "metadata": "{}",
         "name": "EQUIPO",
         "type": "\"string\""
        },
        {
         "metadata": "{}",
         "name": "GOLES",
         "type": "\"long\""
        }
       ],
       "type": "table"
      }
     },
     "output_type": "display_data"
    },
    {
     "output_type": "display_data",
     "data": {
      "text/plain": [
       "Databricks visualization. Run in Databricks to view."
      ]
     },
     "metadata": {
      "application/vnd.databricks.v1.subcommand+json": {
       "baseErrorDetails": null,
       "bindings": {},
       "collapsed": false,
       "command": "%sql WITH q AS (SELECT team_name AS EQUIPO, SUM(goals) AS GOLES\nFROM Fusion \nGROUP BY team_name\nORDER BY GOLES DESC) SELECT `EQUIPO`,SUM(`GOLES`) `column_3bc0955f12` FROM q GROUP BY `EQUIPO`",
       "commandTitle": "Visualization 1",
       "commandType": "auto",
       "commandVersion": 0,
       "commentThread": [],
       "commentsVisible": false,
       "contentSha256Hex": null,
       "customPlotOptions": {
        "redashChart": [
         {
          "key": "type",
          "value": "CHART"
         },
         {
          "key": "options",
          "value": {
           "alignYAxesAtZero": true,
           "coefficient": 1,
           "columnConfigurationMap": {
            "x": {
             "column": "EQUIPO",
             "id": "column_3bc0955f11"
            },
            "y": [
             {
              "column": "GOLES",
              "id": "column_3bc0955f12",
              "transform": "SUM"
             }
            ]
           },
           "dateTimeFormat": "DD/MM/YYYY HH:mm",
           "direction": {
            "type": "counterclockwise"
           },
           "error_y": {
            "type": "data",
            "visible": true
           },
           "globalSeriesType": "column",
           "isAggregationOn": true,
           "legend": {
            "traceorder": "normal"
           },
           "missingValuesAsZero": true,
           "numberFormat": "0,0.[00000]",
           "percentFormat": "0[.]00%",
           "series": {
            "error_y": {
             "type": "data",
             "visible": true
            },
            "stacking": null
           },
           "seriesOptions": {
            "column_3bc0955f12": {
             "color": "#C63FA9",
             "name": "GOLES",
             "yAxis": 0
            }
           },
           "showDataLabels": false,
           "sizemode": "diameter",
           "sortX": false,
           "sortY": true,
           "swappedAxes": true,
           "textFormat": "",
           "useAggregationsUi": true,
           "valuesOptions": {},
           "version": 2,
           "xAxis": {
            "labels": {
             "enabled": true
            },
            "type": "-"
           },
           "yAxis": [
            {
             "type": "-"
            },
            {
             "opposite": true,
             "type": "-"
            }
           ]
          }
         }
        ]
       },
       "datasetPreviewNameToCmdIdMap": {},
       "diffDeletes": [],
       "diffInserts": [],
       "displayType": "redashChart",
       "error": null,
       "errorDetails": null,
       "errorSummary": null,
       "errorTraceType": null,
       "finishTime": 0,
       "globalVars": {},
       "guid": "",
       "height": "629",
       "hideCommandCode": false,
       "hideCommandResult": false,
       "iPythonMetadata": null,
       "inputWidgets": {},
       "isLockedInExamMode": false,
       "latestUser": "a user",
       "latestUserId": null,
       "listResultMetadata": null,
       "metadata": {
        "byteLimit": 2048000,
        "implicitDf": true,
        "rowLimit": 10000
       },
       "nuid": "47f0cd84-eb7f-4379-af2a-dd6e5475e8a8",
       "origId": 0,
       "parentHierarchy": [],
       "pivotAggregation": null,
       "pivotColumns": null,
       "position": 8.0,
       "resultDbfsErrorMessage": null,
       "resultDbfsStatus": "INLINED_IN_TREE",
       "results": null,
       "showCommandTitle": false,
       "startTime": 0,
       "state": "finished",
       "streamStates": {},
       "subcommandOptions": {
        "queryPlan": {
         "groups": [
          {
           "column": "EQUIPO",
           "type": "column"
          }
         ],
         "selects": [
          {
           "column": "EQUIPO",
           "type": "column"
          },
          {
           "alias": "column_3bc0955f12",
           "args": [
            {
             "column": "GOLES",
             "type": "column"
            }
           ],
           "function": "SUM",
           "type": "function"
          }
         ]
        }
       },
       "submitTime": 0,
       "subtype": "tableResultSubCmd.visualization",
       "tableResultIndex": 0,
       "useConsistentColors": false,
       "version": "CommandV1",
       "width": "1299",
       "workflows": [],
       "xColumns": null,
       "yColumns": null
      }
     },
     "output_type": "display_data"
    }
   ],
   "source": [
    "%sql\n",
    "-- Goles anotados totales de un equipo a lo largo de la temporada \n",
    "\n",
    "SELECT team_name AS EQUIPO, SUM(goals) AS GOLES\n",
    "FROM Fusion \n",
    "GROUP BY team_name\n",
    "ORDER BY GOLES DESC"
   ]
  },
  {
   "cell_type": "code",
   "execution_count": 0,
   "metadata": {
    "application/vnd.databricks.v1+cell": {
     "cellMetadata": {
      "byteLimit": 2048000,
      "implicitDf": true,
      "rowLimit": 10000
     },
     "inputWidgets": {},
     "nuid": "23ae1b56-29c6-44d4-8a0a-0188e244c719",
     "showTitle": false,
     "title": ""
    }
   },
   "outputs": [
    {
     "output_type": "display_data",
     "data": {
      "text/html": [
       "<style scoped>\n",
       "  .table-result-container {\n",
       "    max-height: 300px;\n",
       "    overflow: auto;\n",
       "  }\n",
       "  table, th, td {\n",
       "    border: 1px solid black;\n",
       "    border-collapse: collapse;\n",
       "  }\n",
       "  th, td {\n",
       "    padding: 5px;\n",
       "  }\n",
       "  th {\n",
       "    text-align: left;\n",
       "  }\n",
       "</style><div class='table-result-container'><table class='table-result'><thead style='background-color: white'><tr><th>JUGADOR</th><th>GOLES</th></tr></thead><tbody><tr><td>Mohamed Salah</td><td>32</td></tr><tr><td>Harry Kane</td><td>30</td></tr><tr><td>Sergio Agüero</td><td>21</td></tr><tr><td>Jamie Vardy</td><td>20</td></tr><tr><td>Raheem Sterling</td><td>18</td></tr></tbody></table></div>"
      ]
     },
     "metadata": {
      "application/vnd.databricks.v1+output": {
       "addedWidgets": {},
       "aggData": [],
       "aggError": "",
       "aggOverflow": false,
       "aggSchema": [],
       "aggSeriesLimitReached": false,
       "aggType": "",
       "arguments": {},
       "columnCustomDisplayInfos": {},
       "data": [
        [
         "Mohamed Salah",
         32
        ],
        [
         "Harry Kane",
         30
        ],
        [
         "Sergio Agüero",
         21
        ],
        [
         "Jamie Vardy",
         20
        ],
        [
         "Raheem Sterling",
         18
        ]
       ],
       "datasetInfos": [],
       "dbfsResultPath": null,
       "isJsonSchema": true,
       "metadata": {},
       "overflow": false,
       "plotOptions": {
        "customPlotOptions": {},
        "displayType": "table",
        "pivotAggregation": null,
        "pivotColumns": null,
        "xColumns": null,
        "yColumns": null
       },
       "removedWidgets": [],
       "schema": [
        {
         "metadata": "{}",
         "name": "JUGADOR",
         "type": "\"string\""
        },
        {
         "metadata": "{}",
         "name": "GOLES",
         "type": "\"long\""
        }
       ],
       "type": "table"
      }
     },
     "output_type": "display_data"
    },
    {
     "output_type": "display_data",
     "data": {
      "text/plain": [
       "Databricks visualization. Run in Databricks to view."
      ]
     },
     "metadata": {
      "application/vnd.databricks.v1.subcommand+json": {
       "baseErrorDetails": null,
       "bindings": {},
       "collapsed": false,
       "command": "%sql WITH q AS (SELECT player_name AS JUGADOR, SUM(goals) AS GOLES\nFROM P_M \nGROUP BY JUGADOR\nORDER BY GOLES DESC\nlimit 5) SELECT `JUGADOR`,SUM(`GOLES`) `column_3bc0955f48` FROM q GROUP BY `JUGADOR`",
       "commandTitle": "Visualization 1",
       "commandType": "auto",
       "commandVersion": 0,
       "commentThread": [],
       "commentsVisible": false,
       "contentSha256Hex": null,
       "customPlotOptions": {
        "redashChart": [
         {
          "key": "type",
          "value": "CHART"
         },
         {
          "key": "options",
          "value": {
           "alignYAxesAtZero": true,
           "coefficient": 1,
           "columnConfigurationMap": {
            "x": {
             "column": "JUGADOR",
             "id": "column_3bc0955f45"
            },
            "y": [
             {
              "column": "GOLES",
              "id": "column_3bc0955f48",
              "transform": "SUM"
             }
            ]
           },
           "dateTimeFormat": "DD/MM/YYYY HH:mm",
           "direction": {
            "type": "counterclockwise"
           },
           "error_y": {
            "type": "data",
            "visible": true
           },
           "globalSeriesType": "column",
           "hideYAxes": false,
           "isAggregationOn": true,
           "legend": {
            "traceorder": "normal"
           },
           "missingValuesAsZero": true,
           "numberFormat": "0,0.[00000]",
           "percentFormat": "0[.]00%",
           "series": {
            "error_y": {
             "type": "data",
             "visible": true
            },
            "stacking": null
           },
           "seriesOptions": {
            "column_3bc0955f48": {
             "color": "#660044",
             "name": "",
             "type": "column",
             "yAxis": 0
            }
           },
           "showDataLabels": true,
           "sizemode": "diameter",
           "sortX": true,
           "sortY": true,
           "swappedAxes": false,
           "textFormat": "{{ @@y }} Totales",
           "useAggregationsUi": true,
           "valuesOptions": {},
           "version": 2,
           "xAxis": {
            "labels": {
             "enabled": true
            },
            "type": "-"
           },
           "yAxis": [
            {
             "title": {
              "text": "GOLES"
             },
             "type": "-"
            },
            {
             "opposite": true,
             "type": "-"
            }
           ]
          }
         }
        ]
       },
       "datasetPreviewNameToCmdIdMap": {},
       "diffDeletes": [],
       "diffInserts": [],
       "displayType": "redashChart",
       "error": null,
       "errorDetails": null,
       "errorSummary": null,
       "errorTraceType": null,
       "finishTime": 0,
       "globalVars": {},
       "guid": "",
       "height": "auto",
       "hideCommandCode": false,
       "hideCommandResult": false,
       "iPythonMetadata": null,
       "inputWidgets": {},
       "isLockedInExamMode": false,
       "latestUser": "a user",
       "latestUserId": null,
       "listResultMetadata": null,
       "metadata": {
        "byteLimit": 2048000,
        "implicitDf": true,
        "rowLimit": 10000
       },
       "nuid": "9b0e23a9-da00-4c98-9746-32224f4a19cb",
       "origId": 0,
       "parentHierarchy": [],
       "pivotAggregation": null,
       "pivotColumns": null,
       "position": 9.0,
       "resultDbfsErrorMessage": null,
       "resultDbfsStatus": "INLINED_IN_TREE",
       "results": null,
       "showCommandTitle": false,
       "startTime": 0,
       "state": "finished",
       "streamStates": {},
       "subcommandOptions": {
        "queryPlan": {
         "groups": [
          {
           "column": "JUGADOR",
           "type": "column"
          }
         ],
         "selects": [
          {
           "column": "JUGADOR",
           "type": "column"
          },
          {
           "alias": "column_3bc0955f48",
           "args": [
            {
             "column": "GOLES",
             "type": "column"
            }
           ],
           "function": "SUM",
           "type": "function"
          }
         ]
        }
       },
       "submitTime": 0,
       "subtype": "tableResultSubCmd.visualization",
       "tableResultIndex": 0,
       "useConsistentColors": false,
       "version": "CommandV1",
       "width": "auto",
       "workflows": [],
       "xColumns": null,
       "yColumns": null
      }
     },
     "output_type": "display_data"
    }
   ],
   "source": [
    "%sql\n",
    "-- Top 5 máximos goleadores de la temporada\n",
    "\n",
    "SELECT player_name AS JUGADOR, SUM(goals) AS GOLES\n",
    "FROM P_M \n",
    "GROUP BY JUGADOR\n",
    "ORDER BY GOLES DESC\n",
    "limit 5;"
   ]
  },
  {
   "cell_type": "code",
   "execution_count": 0,
   "metadata": {
    "application/vnd.databricks.v1+cell": {
     "cellMetadata": {
      "byteLimit": 2048000,
      "implicitDf": true,
      "rowLimit": 10000
     },
     "inputWidgets": {},
     "nuid": "ce00a36b-69e9-4b7e-85ea-277aad03977b",
     "showTitle": false,
     "title": ""
    }
   },
   "outputs": [
    {
     "output_type": "display_data",
     "data": {
      "text/html": [
       "<style scoped>\n",
       "  .table-result-container {\n",
       "    max-height: 300px;\n",
       "    overflow: auto;\n",
       "  }\n",
       "  table, th, td {\n",
       "    border: 1px solid black;\n",
       "    border-collapse: collapse;\n",
       "  }\n",
       "  th, td {\n",
       "    padding: 5px;\n",
       "  }\n",
       "  th {\n",
       "    text-align: left;\n",
       "  }\n",
       "</style><div class='table-result-container'><table class='table-result'><thead style='background-color: white'><tr><th>EQUIPO</th><th>PASES_ACERTADOS</th></tr></thead><tbody><tr><td>Stoke City</td><td>9222</td></tr><tr><td>West Bromwich Albion FC</td><td>9566</td></tr><tr><td>Burnley FC</td><td>9570</td></tr><tr><td>Newcastle United FC</td><td>10147</td></tr><tr><td>Crystal Palace FC</td><td>10835</td></tr><tr><td>West Ham United</td><td>10852</td></tr><tr><td>Everton FC</td><td>10961</td></tr><tr><td>Brighton & Hove Albion</td><td>10992</td></tr><tr><td>Huddersfield Town</td><td>11064</td></tr><tr><td>Leicester City</td><td>11349</td></tr><tr><td>Watford FC</td><td>11828</td></tr><tr><td>Swansea City</td><td>12288</td></tr><tr><td>AFC Bournemouth</td><td>12421</td></tr><tr><td>Southampton FC</td><td>13305</td></tr><tr><td>Manchester United FC</td><td>16765</td></tr><tr><td>Chelsea FC</td><td>17922</td></tr><tr><td>Tottenham Hotspur</td><td>18153</td></tr><tr><td>Liverpool FC</td><td>19230</td></tr><tr><td>Arsenal FC</td><td>19820</td></tr><tr><td>Manchester City FC</td><td>25142</td></tr></tbody></table></div>"
      ]
     },
     "metadata": {
      "application/vnd.databricks.v1+output": {
       "addedWidgets": {},
       "aggData": [],
       "aggError": "",
       "aggOverflow": false,
       "aggSchema": [],
       "aggSeriesLimitReached": false,
       "aggType": "",
       "arguments": {},
       "columnCustomDisplayInfos": {},
       "data": [
        [
         "Stoke City",
         9222
        ],
        [
         "West Bromwich Albion FC",
         9566
        ],
        [
         "Burnley FC",
         9570
        ],
        [
         "Newcastle United FC",
         10147
        ],
        [
         "Crystal Palace FC",
         10835
        ],
        [
         "West Ham United",
         10852
        ],
        [
         "Everton FC",
         10961
        ],
        [
         "Brighton & Hove Albion",
         10992
        ],
        [
         "Huddersfield Town",
         11064
        ],
        [
         "Leicester City",
         11349
        ],
        [
         "Watford FC",
         11828
        ],
        [
         "Swansea City",
         12288
        ],
        [
         "AFC Bournemouth",
         12421
        ],
        [
         "Southampton FC",
         13305
        ],
        [
         "Manchester United FC",
         16765
        ],
        [
         "Chelsea FC",
         17922
        ],
        [
         "Tottenham Hotspur",
         18153
        ],
        [
         "Liverpool FC",
         19230
        ],
        [
         "Arsenal FC",
         19820
        ],
        [
         "Manchester City FC",
         25142
        ]
       ],
       "datasetInfos": [],
       "dbfsResultPath": null,
       "isJsonSchema": true,
       "metadata": {},
       "overflow": false,
       "plotOptions": {
        "customPlotOptions": {},
        "displayType": "table",
        "pivotAggregation": null,
        "pivotColumns": null,
        "xColumns": null,
        "yColumns": null
       },
       "removedWidgets": [],
       "schema": [
        {
         "metadata": "{}",
         "name": "EQUIPO",
         "type": "\"string\""
        },
        {
         "metadata": "{}",
         "name": "PASES_ACERTADOS",
         "type": "\"long\""
        }
       ],
       "type": "table"
      }
     },
     "output_type": "display_data"
    },
    {
     "output_type": "display_data",
     "data": {
      "text/plain": [
       "Databricks visualization. Run in Databricks to view."
      ]
     },
     "metadata": {
      "application/vnd.databricks.v1.subcommand+json": {
       "baseErrorDetails": null,
       "bindings": {},
       "collapsed": false,
       "command": "%sql WITH q AS (SELECT team_name AS EQUIPO, SUM(accurate_pass) AS PASES_ACERTADOS \nFROM P_M \nGROUP BY EQUIPO\nORDER BY PASES_ACERTADOS ASC) SELECT `EQUIPO`,SUM(`PASES_ACERTADOS`) `column_3bc0955f74` FROM q GROUP BY `EQUIPO`",
       "commandTitle": "Visualization 1",
       "commandType": "auto",
       "commandVersion": 0,
       "commentThread": [],
       "commentsVisible": false,
       "contentSha256Hex": null,
       "customPlotOptions": {
        "redashChart": [
         {
          "key": "type",
          "value": "CHART"
         },
         {
          "key": "options",
          "value": {
           "alignYAxesAtZero": true,
           "coefficient": 0.05,
           "columnConfigurationMap": {
            "x": {
             "column": "EQUIPO",
             "id": "column_3bc0955f62"
            },
            "y": [
             {
              "column": "PASES_ACERTADOS",
              "id": "column_3bc0955f74",
              "transform": "SUM"
             }
            ]
           },
           "dateTimeFormat": "DD/MM/YYYY HH:mm",
           "direction": {
            "type": "counterclockwise"
           },
           "error_y": {
            "type": "data",
            "visible": true
           },
           "globalSeriesType": "column",
           "hideXAxis": false,
           "isAggregationOn": true,
           "legend": {
            "traceorder": "normal"
           },
           "missingValuesAsZero": true,
           "numberFormat": "‘0’",
           "percentFormat": "0[.]00%",
           "series": {
            "error_y": {
             "type": "data",
             "visible": true
            },
            "stacking": null
           },
           "seriesOptions": {
            "Liverpool FC": {
             "color": "#E92828",
             "type": "column"
            },
            "Manchester City FC": {
             "color": "#50F5ED",
             "type": "column"
            },
            "Manchester United FC": {
             "color": "#E92828",
             "type": "column"
            },
            "PASES_ACERTADOS": {
             "color": "#A58AFF",
             "name": "PASES_ACERTADOS",
             "type": "column",
             "yAxis": 0
            },
            "Tottenham Hotspur": {
             "color": "#002FB4",
             "type": "column"
            },
            "Watford FC": {
             "color": "#FB8D3D",
             "type": "column"
            },
            "West Bromwich Albion FC": {
             "color": "#8CFFB4",
             "type": "column"
            },
            "West Ham United": {
             "color": "#981717",
             "type": "column"
            },
            "column_3bc0955f63": {
             "color": "#B554FF",
             "name": "PASES_ACERTADOS",
             "type": "column",
             "yAxis": 0
            },
            "column_3bc0955f74": {
             "color": "#660044",
             "name": "PASES_ACERTADOS",
             "type": "column",
             "yAxis": 0
            }
           },
           "showDataLabels": true,
           "sizemode": "area",
           "sortX": false,
           "sortY": true,
           "swappedAxes": false,
           "textFormat": "",
           "useAggregationsUi": true,
           "valuesOptions": {},
           "version": 2,
           "xAxis": {
            "labels": {
             "enabled": true
            },
            "type": "-"
           },
           "yAxis": [
            {
             "type": "-"
            },
            {
             "opposite": true,
             "type": "-"
            }
           ]
          }
         }
        ]
       },
       "datasetPreviewNameToCmdIdMap": {},
       "diffDeletes": [],
       "diffInserts": [],
       "displayType": "redashChart",
       "error": null,
       "errorDetails": null,
       "errorSummary": null,
       "errorTraceType": null,
       "finishTime": 0,
       "globalVars": {},
       "guid": "",
       "height": "736",
       "hideCommandCode": false,
       "hideCommandResult": false,
       "iPythonMetadata": null,
       "inputWidgets": {},
       "isLockedInExamMode": false,
       "latestUser": "a user",
       "latestUserId": null,
       "listResultMetadata": null,
       "metadata": {
        "byteLimit": 2048000,
        "implicitDf": true,
        "rowLimit": 10000
       },
       "nuid": "c393adca-1f35-4128-96c7-aee68bcbc2ef",
       "origId": 0,
       "parentHierarchy": [],
       "pivotAggregation": null,
       "pivotColumns": null,
       "position": 10.0,
       "resultDbfsErrorMessage": null,
       "resultDbfsStatus": "INLINED_IN_TREE",
       "results": null,
       "showCommandTitle": false,
       "startTime": 0,
       "state": "finished",
       "streamStates": {},
       "subcommandOptions": {
        "queryPlan": {
         "groups": [
          {
           "column": "EQUIPO",
           "type": "column"
          }
         ],
         "selects": [
          {
           "column": "EQUIPO",
           "type": "column"
          },
          {
           "alias": "column_3bc0955f74",
           "args": [
            {
             "column": "PASES_ACERTADOS",
             "type": "column"
            }
           ],
           "function": "SUM",
           "type": "function"
          }
         ]
        }
       },
       "submitTime": 0,
       "subtype": "tableResultSubCmd.visualization",
       "tableResultIndex": 0,
       "useConsistentColors": false,
       "version": "CommandV1",
       "width": "1504",
       "workflows": [],
       "xColumns": null,
       "yColumns": null
      }
     },
     "output_type": "display_data"
    }
   ],
   "source": [
    "%sql\n",
    "-- Pases acertados por equipo a lo largo de toda la temporada\n",
    "\n",
    "SELECT team_name AS EQUIPO, SUM(accurate_pass) AS PASES_ACERTADOS \n",
    "FROM P_M \n",
    "GROUP BY EQUIPO\n",
    "ORDER BY PASES_ACERTADOS ASC"
   ]
  },
  {
   "cell_type": "code",
   "execution_count": 0,
   "metadata": {
    "application/vnd.databricks.v1+cell": {
     "cellMetadata": {
      "byteLimit": 2048000,
      "implicitDf": true,
      "rowLimit": 10000
     },
     "inputWidgets": {},
     "nuid": "89898ea5-a92e-4958-8639-2c6b19740775",
     "showTitle": false,
     "title": ""
    }
   },
   "outputs": [
    {
     "output_type": "display_data",
     "data": {
      "text/html": [
       "<style scoped>\n",
       "  .table-result-container {\n",
       "    max-height: 300px;\n",
       "    overflow: auto;\n",
       "  }\n",
       "  table, th, td {\n",
       "    border: 1px solid black;\n",
       "    border-collapse: collapse;\n",
       "  }\n",
       "  th, td {\n",
       "    padding: 5px;\n",
       "  }\n",
       "  th {\n",
       "    text-align: left;\n",
       "  }\n",
       "</style><div class='table-result-container'><table class='table-result'><thead style='background-color: white'><tr><th>EQUIPO</th><th>PORCENTAJE_POSESION</th></tr></thead><tbody><tr><td>West Bromwich Albion FC</td><td>40.27631614082738</td></tr><tr><td>Stoke City</td><td>41.01315789473684</td></tr><tr><td>Newcastle United FC</td><td>41.6105264362536</td></tr><tr><td>Brighton & Hove Albion</td><td>43.415789553993626</td></tr><tr><td>Burnley FC</td><td>43.53421075720536</td></tr><tr><td>West Ham United</td><td>44.67105258138556</td></tr><tr><td>Swansea City</td><td>45.057894807112845</td></tr><tr><td>Crystal Palace FC</td><td>45.09473675175717</td></tr><tr><td>Everton FC</td><td>45.489473493475664</td></tr><tr><td>Huddersfield Town</td><td>45.65789488742226</td></tr><tr><td>Leicester City</td><td>47.91315806539435</td></tr><tr><td>AFC Bournemouth</td><td>48.115789564032305</td></tr><tr><td>Watford FC</td><td>49.72368370859247</td></tr><tr><td>Southampton FC</td><td>51.49999969883969</td></tr><tr><td>Manchester United FC</td><td>54.75526342893902</td></tr><tr><td>Chelsea FC</td><td>55.68421037573563</td></tr><tr><td>Liverpool FC</td><td>60.760526857878034</td></tr><tr><td>Arsenal FC</td><td>61.847368340743216</td></tr><tr><td>Tottenham Hotspur</td><td>62.12894720780222</td></tr><tr><td>Manchester City FC</td><td>71.75000040154708</td></tr></tbody></table></div>"
      ]
     },
     "metadata": {
      "application/vnd.databricks.v1+output": {
       "addedWidgets": {},
       "aggData": [],
       "aggError": "",
       "aggOverflow": false,
       "aggSchema": [],
       "aggSeriesLimitReached": false,
       "aggType": "",
       "arguments": {},
       "columnCustomDisplayInfos": {},
       "data": [
        [
         "West Bromwich Albion FC",
         40.27631614082738
        ],
        [
         "Stoke City",
         41.01315789473684
        ],
        [
         "Newcastle United FC",
         41.6105264362536
        ],
        [
         "Brighton & Hove Albion",
         43.415789553993626
        ],
        [
         "Burnley FC",
         43.53421075720536
        ],
        [
         "West Ham United",
         44.67105258138556
        ],
        [
         "Swansea City",
         45.057894807112845
        ],
        [
         "Crystal Palace FC",
         45.09473675175717
        ],
        [
         "Everton FC",
         45.489473493475664
        ],
        [
         "Huddersfield Town",
         45.65789488742226
        ],
        [
         "Leicester City",
         47.91315806539435
        ],
        [
         "AFC Bournemouth",
         48.115789564032305
        ],
        [
         "Watford FC",
         49.72368370859247
        ],
        [
         "Southampton FC",
         51.49999969883969
        ],
        [
         "Manchester United FC",
         54.75526342893902
        ],
        [
         "Chelsea FC",
         55.68421037573563
        ],
        [
         "Liverpool FC",
         60.760526857878034
        ],
        [
         "Arsenal FC",
         61.847368340743216
        ],
        [
         "Tottenham Hotspur",
         62.12894720780222
        ],
        [
         "Manchester City FC",
         71.75000040154708
        ]
       ],
       "datasetInfos": [],
       "dbfsResultPath": null,
       "isJsonSchema": true,
       "metadata": {},
       "overflow": false,
       "plotOptions": {
        "customPlotOptions": {},
        "displayType": "table",
        "pivotAggregation": null,
        "pivotColumns": null,
        "xColumns": null,
        "yColumns": null
       },
       "removedWidgets": [],
       "schema": [
        {
         "metadata": "{}",
         "name": "EQUIPO",
         "type": "\"string\""
        },
        {
         "metadata": "{}",
         "name": "PORCENTAJE_POSESION",
         "type": "\"double\""
        }
       ],
       "type": "table"
      }
     },
     "output_type": "display_data"
    },
    {
     "output_type": "display_data",
     "data": {
      "text/plain": [
       "Databricks visualization. Run in Databricks to view."
      ]
     },
     "metadata": {
      "application/vnd.databricks.v1.subcommand+json": {
       "baseErrorDetails": null,
       "bindings": {},
       "collapsed": false,
       "command": "%sql WITH q AS (SELECT team_name AS EQUIPO, AVG(possession_percentage) AS PORCENTAJE_POSESION\nFROM Fusion\nGROUP BY EQUIPO\nORDER BY PORCENTAJE_POSESION ASC) SELECT `EQUIPO`,SUM(`PORCENTAJE_POSESION`) `column_3bc0955f91` FROM q GROUP BY `EQUIPO`",
       "commandTitle": "Visualization 1",
       "commandType": "auto",
       "commandVersion": 0,
       "commentThread": [],
       "commentsVisible": false,
       "contentSha256Hex": null,
       "customPlotOptions": {
        "redashChart": [
         {
          "key": "type",
          "value": "CHART"
         },
         {
          "key": "options",
          "value": {
           "alignYAxesAtZero": true,
           "coefficient": 1,
           "columnConfigurationMap": {
            "x": {
             "column": "EQUIPO",
             "id": "column_3bc0955f90"
            },
            "y": [
             {
              "column": "PORCENTAJE_POSESION",
              "id": "column_3bc0955f91",
              "transform": "SUM"
             }
            ]
           },
           "dateTimeFormat": "DD/MM/YYYY HH:mm",
           "direction": {
            "type": "counterclockwise"
           },
           "error_y": {
            "type": "data",
            "visible": true
           },
           "globalSeriesType": "column",
           "isAggregationOn": true,
           "legend": {
            "traceorder": "normal"
           },
           "missingValuesAsZero": true,
           "numberFormat": "0,0.[00000]",
           "percentFormat": "0[.]00%",
           "series": {
            "error_y": {
             "type": "data",
             "visible": true
            },
            "stacking": null
           },
           "seriesOptions": {
            "column_3bc0955f91": {
             "color": "#C63FA9",
             "name": "PORCENTAJE_POSESION",
             "yAxis": 0
            }
           },
           "showDataLabels": false,
           "sizemode": "diameter",
           "sortX": false,
           "sortY": true,
           "swappedAxes": true,
           "textFormat": "",
           "useAggregationsUi": true,
           "valuesOptions": {},
           "version": 2,
           "xAxis": {
            "labels": {
             "enabled": true
            },
            "type": "-"
           },
           "yAxis": [
            {
             "type": "-"
            },
            {
             "opposite": true,
             "type": "-"
            }
           ]
          }
         }
        ]
       },
       "datasetPreviewNameToCmdIdMap": {},
       "diffDeletes": [],
       "diffInserts": [],
       "displayType": "redashChart",
       "error": null,
       "errorDetails": null,
       "errorSummary": null,
       "errorTraceType": null,
       "finishTime": 0,
       "globalVars": {},
       "guid": "",
       "height": "auto",
       "hideCommandCode": false,
       "hideCommandResult": false,
       "iPythonMetadata": null,
       "inputWidgets": {},
       "isLockedInExamMode": false,
       "latestUser": "a user",
       "latestUserId": null,
       "listResultMetadata": null,
       "metadata": {
        "byteLimit": 2048000,
        "implicitDf": true,
        "rowLimit": 10000
       },
       "nuid": "e258ebff-b39e-402e-a6d1-d40fe8f6449c",
       "origId": 0,
       "parentHierarchy": [],
       "pivotAggregation": null,
       "pivotColumns": null,
       "position": 11.0,
       "resultDbfsErrorMessage": null,
       "resultDbfsStatus": "INLINED_IN_TREE",
       "results": null,
       "showCommandTitle": false,
       "startTime": 0,
       "state": "finished",
       "streamStates": {},
       "subcommandOptions": {
        "queryPlan": {
         "groups": [
          {
           "column": "EQUIPO",
           "type": "column"
          }
         ],
         "selects": [
          {
           "column": "EQUIPO",
           "type": "column"
          },
          {
           "alias": "column_3bc0955f91",
           "args": [
            {
             "column": "PORCENTAJE_POSESION",
             "type": "column"
            }
           ],
           "function": "SUM",
           "type": "function"
          }
         ]
        }
       },
       "submitTime": 0,
       "subtype": "tableResultSubCmd.visualization",
       "tableResultIndex": 0,
       "useConsistentColors": false,
       "version": "CommandV1",
       "width": "auto",
       "workflows": [],
       "xColumns": null,
       "yColumns": null
      }
     },
     "output_type": "display_data"
    }
   ],
   "source": [
    "%sql\n",
    "-- Porcentaje posesión promedio de un equipo a lo largo de la temporada \n",
    "\n",
    "SELECT team_name AS EQUIPO, AVG(possession_percentage) AS PORCENTAJE_POSESION\n",
    "FROM Fusion\n",
    "GROUP BY EQUIPO\n",
    "ORDER BY PORCENTAJE_POSESION ASC"
   ]
  },
  {
   "cell_type": "code",
   "execution_count": 0,
   "metadata": {
    "application/vnd.databricks.v1+cell": {
     "cellMetadata": {
      "byteLimit": 2048000,
      "implicitDf": true,
      "rowLimit": 10000
     },
     "inputWidgets": {},
     "nuid": "08d9599f-9368-4d7c-b492-2cddd95490f4",
     "showTitle": false,
     "title": ""
    }
   },
   "outputs": [
    {
     "output_type": "display_data",
     "data": {
      "text/html": [
       "<style scoped>\n",
       "  .table-result-container {\n",
       "    max-height: 300px;\n",
       "    overflow: auto;\n",
       "  }\n",
       "  table, th, td {\n",
       "    border: 1px solid black;\n",
       "    border-collapse: collapse;\n",
       "  }\n",
       "  th, td {\n",
       "    padding: 5px;\n",
       "  }\n",
       "  th {\n",
       "    text-align: left;\n",
       "  }\n",
       "</style><div class='table-result-container'><table class='table-result'><thead style='background-color: white'><tr><th>JUGADOR</th><th>ASISTENCIAS</th></tr></thead><tbody><tr><td>Kevin De Bruyne</td><td>16</td></tr><tr><td>Leroy Sané</td><td>15</td></tr><tr><td>Raheem Sterling</td><td>11</td></tr><tr><td>David Silva</td><td>11</td></tr><tr><td>Christian Eriksen</td><td>10</td></tr></tbody></table></div>"
      ]
     },
     "metadata": {
      "application/vnd.databricks.v1+output": {
       "addedWidgets": {},
       "aggData": [],
       "aggError": "",
       "aggOverflow": false,
       "aggSchema": [],
       "aggSeriesLimitReached": false,
       "aggType": "",
       "arguments": {},
       "columnCustomDisplayInfos": {},
       "data": [
        [
         "Kevin De Bruyne",
         16
        ],
        [
         "Leroy Sané",
         15
        ],
        [
         "Raheem Sterling",
         11
        ],
        [
         "David Silva",
         11
        ],
        [
         "Christian Eriksen",
         10
        ]
       ],
       "datasetInfos": [],
       "dbfsResultPath": null,
       "isJsonSchema": true,
       "metadata": {},
       "overflow": false,
       "plotOptions": {
        "customPlotOptions": {},
        "displayType": "table",
        "pivotAggregation": null,
        "pivotColumns": null,
        "xColumns": null,
        "yColumns": null
       },
       "removedWidgets": [],
       "schema": [
        {
         "metadata": "{}",
         "name": "JUGADOR",
         "type": "\"string\""
        },
        {
         "metadata": "{}",
         "name": "ASISTENCIAS",
         "type": "\"long\""
        }
       ],
       "type": "table"
      }
     },
     "output_type": "display_data"
    },
    {
     "output_type": "display_data",
     "data": {
      "text/plain": [
       "Databricks visualization. Run in Databricks to view."
      ]
     },
     "metadata": {
      "application/vnd.databricks.v1.subcommand+json": {
       "baseErrorDetails": null,
       "bindings": {},
       "collapsed": false,
       "command": "%sql WITH q AS (SELECT player_name AS JUGADOR, SUM(goal_assist) AS ASISTENCIAS\nFROM P_M \nGROUP BY  JUGADOR\nORDER BY ASISTENCIAS DESC\nlimit 5) SELECT `JUGADOR`,SUM(`ASISTENCIAS`) `column_3bc0955f100` FROM q GROUP BY `JUGADOR`",
       "commandTitle": "Visualization 1",
       "commandType": "auto",
       "commandVersion": 0,
       "commentThread": [],
       "commentsVisible": false,
       "contentSha256Hex": null,
       "customPlotOptions": {
        "redashChart": [
         {
          "key": "type",
          "value": "CHART"
         },
         {
          "key": "options",
          "value": {
           "alignYAxesAtZero": true,
           "coefficient": 1,
           "columnConfigurationMap": {
            "x": {
             "column": "JUGADOR",
             "id": "column_3bc0955f106"
            },
            "y": [
             {
              "column": "ASISTENCIAS",
              "id": "column_3bc0955f100",
              "transform": "SUM"
             }
            ]
           },
           "dateTimeFormat": "DD/MM/YYYY HH:mm",
           "direction": {
            "type": "counterclockwise"
           },
           "error_y": {
            "type": "data",
            "visible": true
           },
           "globalSeriesType": "column",
           "isAggregationOn": true,
           "legend": {
            "traceorder": "normal"
           },
           "missingValuesAsZero": true,
           "numberFormat": "0,0.[00000]",
           "percentFormat": "0[.]00%",
           "series": {
            "error_y": {
             "type": "data",
             "visible": true
            },
            "stacking": null
           },
           "seriesOptions": {
            "column_3bc0955f100": {
             "color": "#660044",
             "name": "ASISTENCIAS",
             "yAxis": 0
            }
           },
           "showDataLabels": true,
           "sizemode": "diameter",
           "sortX": false,
           "sortY": true,
           "swappedAxes": true,
           "textFormat": "",
           "useAggregationsUi": true,
           "valuesOptions": {},
           "version": 2,
           "xAxis": {
            "labels": {
             "enabled": true
            },
            "type": "-"
           },
           "yAxis": [
            {
             "type": "-"
            },
            {
             "opposite": true,
             "type": "-"
            }
           ]
          }
         }
        ]
       },
       "datasetPreviewNameToCmdIdMap": {},
       "diffDeletes": [],
       "diffInserts": [],
       "displayType": "redashChart",
       "error": null,
       "errorDetails": null,
       "errorSummary": null,
       "errorTraceType": null,
       "finishTime": 0,
       "globalVars": {},
       "guid": "",
       "height": "auto",
       "hideCommandCode": false,
       "hideCommandResult": false,
       "iPythonMetadata": null,
       "inputWidgets": {},
       "isLockedInExamMode": false,
       "latestUser": "a user",
       "latestUserId": null,
       "listResultMetadata": null,
       "metadata": {
        "byteLimit": 2048000,
        "implicitDf": true,
        "rowLimit": 10000
       },
       "nuid": "eb39d567-d17c-4cdf-ae8f-cddca32b3cbc",
       "origId": 0,
       "parentHierarchy": [],
       "pivotAggregation": null,
       "pivotColumns": null,
       "position": 12.0,
       "resultDbfsErrorMessage": null,
       "resultDbfsStatus": "INLINED_IN_TREE",
       "results": null,
       "showCommandTitle": false,
       "startTime": 0,
       "state": "finished",
       "streamStates": {},
       "subcommandOptions": {
        "queryPlan": {
         "groups": [
          {
           "column": "JUGADOR",
           "type": "column"
          }
         ],
         "selects": [
          {
           "column": "JUGADOR",
           "type": "column"
          },
          {
           "alias": "column_3bc0955f100",
           "args": [
            {
             "column": "ASISTENCIAS",
             "type": "column"
            }
           ],
           "function": "SUM",
           "type": "function"
          }
         ]
        }
       },
       "submitTime": 0,
       "subtype": "tableResultSubCmd.visualization",
       "tableResultIndex": 0,
       "useConsistentColors": false,
       "version": "CommandV1",
       "width": "auto",
       "workflows": [],
       "xColumns": null,
       "yColumns": null
      }
     },
     "output_type": "display_data"
    }
   ],
   "source": [
    "%sql\n",
    "-- Top 5 máximos asistidores a lo largo de la temporada\n",
    "\n",
    "SELECT player_name AS JUGADOR, SUM(goal_assist) AS ASISTENCIAS\n",
    "FROM P_M \n",
    "GROUP BY  JUGADOR\n",
    "ORDER BY ASISTENCIAS DESC\n",
    "limit 5;"
   ]
  },
  {
   "cell_type": "code",
   "execution_count": 0,
   "metadata": {
    "application/vnd.databricks.v1+cell": {
     "cellMetadata": {
      "byteLimit": 2048000,
      "implicitDf": true,
      "rowLimit": 10000
     },
     "inputWidgets": {},
     "nuid": "9948735c-7f3a-489f-aacd-0b65eb74547d",
     "showTitle": false,
     "title": ""
    }
   },
   "outputs": [
    {
     "output_type": "display_data",
     "data": {
      "text/html": [
       "<style scoped>\n",
       "  .table-result-container {\n",
       "    max-height: 300px;\n",
       "    overflow: auto;\n",
       "  }\n",
       "  table, th, td {\n",
       "    border: 1px solid black;\n",
       "    border-collapse: collapse;\n",
       "  }\n",
       "  th, td {\n",
       "    padding: 5px;\n",
       "  }\n",
       "  th {\n",
       "    text-align: left;\n",
       "  }\n",
       "</style><div class='table-result-container'><table class='table-result'><thead style='background-color: white'><tr><th>EQUIPO</th><th>DUELOS_1VS1_GANADOS</th></tr></thead><tbody><tr><td>Chelsea FC</td><td>511</td></tr><tr><td>Manchester City FC</td><td>503</td></tr><tr><td>Crystal Palace FC</td><td>478</td></tr><tr><td>Manchester United FC</td><td>466</td></tr><tr><td>Liverpool FC</td><td>441</td></tr><tr><td>Tottenham Hotspur</td><td>436</td></tr><tr><td>Leicester City</td><td>422</td></tr><tr><td>West Ham United</td><td>421</td></tr><tr><td>Arsenal FC</td><td>382</td></tr><tr><td>Southampton FC</td><td>379</td></tr><tr><td>AFC Bournemouth</td><td>343</td></tr><tr><td>Watford FC</td><td>332</td></tr><tr><td>Stoke City</td><td>325</td></tr><tr><td>West Bromwich Albion FC</td><td>320</td></tr><tr><td>Swansea City</td><td>316</td></tr><tr><td>Newcastle United FC</td><td>305</td></tr><tr><td>Brighton & Hove Albion</td><td>296</td></tr><tr><td>Huddersfield Town</td><td>275</td></tr><tr><td>Everton FC</td><td>264</td></tr><tr><td>Burnley FC</td><td>216</td></tr></tbody></table></div>"
      ]
     },
     "metadata": {
      "application/vnd.databricks.v1+output": {
       "addedWidgets": {},
       "aggData": [],
       "aggError": "",
       "aggOverflow": false,
       "aggSchema": [],
       "aggSeriesLimitReached": false,
       "aggType": "",
       "arguments": {},
       "columnCustomDisplayInfos": {},
       "data": [
        [
         "Chelsea FC",
         511
        ],
        [
         "Manchester City FC",
         503
        ],
        [
         "Crystal Palace FC",
         478
        ],
        [
         "Manchester United FC",
         466
        ],
        [
         "Liverpool FC",
         441
        ],
        [
         "Tottenham Hotspur",
         436
        ],
        [
         "Leicester City",
         422
        ],
        [
         "West Ham United",
         421
        ],
        [
         "Arsenal FC",
         382
        ],
        [
         "Southampton FC",
         379
        ],
        [
         "AFC Bournemouth",
         343
        ],
        [
         "Watford FC",
         332
        ],
        [
         "Stoke City",
         325
        ],
        [
         "West Bromwich Albion FC",
         320
        ],
        [
         "Swansea City",
         316
        ],
        [
         "Newcastle United FC",
         305
        ],
        [
         "Brighton & Hove Albion",
         296
        ],
        [
         "Huddersfield Town",
         275
        ],
        [
         "Everton FC",
         264
        ],
        [
         "Burnley FC",
         216
        ]
       ],
       "datasetInfos": [],
       "dbfsResultPath": null,
       "isJsonSchema": true,
       "metadata": {},
       "overflow": false,
       "plotOptions": {
        "customPlotOptions": {},
        "displayType": "table",
        "pivotAggregation": null,
        "pivotColumns": null,
        "xColumns": null,
        "yColumns": null
       },
       "removedWidgets": [],
       "schema": [
        {
         "metadata": "{}",
         "name": "EQUIPO",
         "type": "\"string\""
        },
        {
         "metadata": "{}",
         "name": "DUELOS_1VS1_GANADOS",
         "type": "\"long\""
        }
       ],
       "type": "table"
      }
     },
     "output_type": "display_data"
    },
    {
     "output_type": "display_data",
     "data": {
      "text/plain": [
       "Databricks visualization. Run in Databricks to view."
      ]
     },
     "metadata": {
      "application/vnd.databricks.v1.subcommand+json": {
       "baseErrorDetails": null,
       "bindings": {},
       "collapsed": false,
       "command": "%sql WITH q AS (SELECT team_name AS EQUIPO, SUM(won_contest) AS DUELOS_1VS1_GANADOS\nFROM Fusion \nGROUP BY EQUIPO\nORDER BY DUELOS_1VS1_GANADOS DESC) SELECT `EQUIPO`,`DUELOS_1VS1_GANADOS`,`DUELOS_1VS1_GANADOS` FROM q",
       "commandTitle": "Visualization 1",
       "commandType": "auto",
       "commandVersion": 0,
       "commentThread": [],
       "commentsVisible": false,
       "contentSha256Hex": null,
       "customPlotOptions": {
        "redashChart": [
         {
          "key": "type",
          "value": "CHART"
         },
         {
          "key": "options",
          "value": {
           "alignYAxesAtZero": true,
           "coefficient": 0.08,
           "columnConfigurationMap": {
            "size": {
             "column": "DUELOS_1VS1_GANADOS",
             "id": "column_3bc0955f112"
            },
            "x": {
             "column": "EQUIPO",
             "id": "column_3bc0955f107"
            },
            "y": [
             {
              "column": "DUELOS_1VS1_GANADOS",
              "id": "column_3bc0955f108"
             }
            ]
           },
           "dateTimeFormat": "DD/MM/YYYY HH:mm",
           "direction": {
            "type": "counterclockwise"
           },
           "error_y": {
            "type": "data",
            "visible": true
           },
           "globalSeriesType": "bubble",
           "legend": {
            "traceorder": "normal"
           },
           "missingValuesAsZero": true,
           "numberFormat": "0,0.[00000]",
           "percentFormat": "0[.]00%",
           "reverseX": true,
           "series": {
            "error_y": {
             "type": "data",
             "visible": true
            },
            "stacking": null
           },
           "seriesOptions": {
            "DUELOS_1VS1_GANADOS": {
             "color": "#C63FA9",
             "name": "DUELOS_1VS1_GANADOS",
             "type": "bubble",
             "yAxis": 0
            },
            "column_3bc0955f108": {
             "name": "DUELOS_1VS1_GANADOS",
             "type": "bubble",
             "yAxis": 0
            }
           },
           "showDataLabels": false,
           "sizemode": "diameter",
           "sortX": true,
           "sortY": true,
           "swappedAxes": false,
           "textFormat": "",
           "useAggregationsUi": true,
           "valuesOptions": {},
           "version": 2,
           "xAxis": {
            "labels": {
             "enabled": true
            },
            "type": "-"
           },
           "yAxis": [
            {
             "type": "-"
            },
            {
             "opposite": true,
             "type": "-"
            }
           ]
          }
         }
        ]
       },
       "datasetPreviewNameToCmdIdMap": {},
       "diffDeletes": [],
       "diffInserts": [],
       "displayType": "redashChart",
       "error": null,
       "errorDetails": null,
       "errorSummary": null,
       "errorTraceType": null,
       "finishTime": 0,
       "globalVars": {},
       "guid": "",
       "height": "auto",
       "hideCommandCode": false,
       "hideCommandResult": false,
       "iPythonMetadata": null,
       "inputWidgets": {},
       "isLockedInExamMode": false,
       "latestUser": "a user",
       "latestUserId": null,
       "listResultMetadata": null,
       "metadata": {
        "byteLimit": 2048000,
        "implicitDf": true,
        "rowLimit": 10000
       },
       "nuid": "5bba08cd-bd83-482d-abc8-67a916a8cdea",
       "origId": 0,
       "parentHierarchy": [],
       "pivotAggregation": null,
       "pivotColumns": null,
       "position": 13.0,
       "resultDbfsErrorMessage": null,
       "resultDbfsStatus": "INLINED_IN_TREE",
       "results": null,
       "showCommandTitle": false,
       "startTime": 0,
       "state": "finished",
       "streamStates": {},
       "subcommandOptions": {
        "queryPlan": {
         "selects": [
          {
           "column": "EQUIPO",
           "type": "column"
          },
          {
           "column": "DUELOS_1VS1_GANADOS",
           "type": "column"
          },
          {
           "column": "DUELOS_1VS1_GANADOS",
           "type": "column"
          }
         ]
        }
       },
       "submitTime": 0,
       "subtype": "tableResultSubCmd.visualization",
       "tableResultIndex": 0,
       "useConsistentColors": false,
       "version": "CommandV1",
       "width": "auto",
       "workflows": [],
       "xColumns": null,
       "yColumns": null
      }
     },
     "output_type": "display_data"
    }
   ],
   "source": [
    "%sql\n",
    "-- Duelos 1 vs 1 (que un jugador rebase un jugador) por equipo a lo largo de toda la temporada\n",
    "\n",
    "SELECT team_name AS EQUIPO, SUM(won_contest) AS DUELOS_1VS1_GANADOS\n",
    "FROM Fusion \n",
    "GROUP BY EQUIPO\n",
    "ORDER BY DUELOS_1VS1_GANADOS DESC"
   ]
  },
  {
   "cell_type": "code",
   "execution_count": 0,
   "metadata": {
    "application/vnd.databricks.v1+cell": {
     "cellMetadata": {
      "byteLimit": 2048000,
      "implicitDf": true,
      "rowLimit": 10000
     },
     "inputWidgets": {},
     "nuid": "e88256ed-8bc5-4cb8-9f0d-8b2e036863f3",
     "showTitle": false,
     "title": ""
    }
   },
   "outputs": [
    {
     "output_type": "display_data",
     "data": {
      "text/html": [
       "<style scoped>\n",
       "  .table-result-container {\n",
       "    max-height: 300px;\n",
       "    overflow: auto;\n",
       "  }\n",
       "  table, th, td {\n",
       "    border: 1px solid black;\n",
       "    border-collapse: collapse;\n",
       "  }\n",
       "  th, td {\n",
       "    padding: 5px;\n",
       "  }\n",
       "  th {\n",
       "    text-align: left;\n",
       "  }\n",
       "</style><div class='table-result-container'><table class='table-result'><thead style='background-color: white'><tr><th>EQUIPO</th><th>PAIS</th></tr></thead><tbody><tr><td>Crystal Palace FC</td><td>14</td></tr><tr><td>Swansea City</td><td>12</td></tr><tr><td>Burnley FC</td><td>6</td></tr><tr><td>Newcastle United FC</td><td>11</td></tr><tr><td>Stoke City</td><td>11</td></tr><tr><td>Southampton FC</td><td>12</td></tr><tr><td>AFC Bournemouth</td><td>11</td></tr><tr><td>Chelsea FC</td><td>10</td></tr><tr><td>West Bromwich Albion FC</td><td>10</td></tr><tr><td>Watford FC</td><td>17</td></tr><tr><td>Manchester United FC</td><td>12</td></tr><tr><td>Manchester City FC</td><td>11</td></tr><tr><td>Leicester City</td><td>15</td></tr><tr><td>Everton FC</td><td>12</td></tr><tr><td>Tottenham Hotspur</td><td>10</td></tr><tr><td>Brighton & Hove Albion</td><td>13</td></tr><tr><td>Liverpool FC</td><td>14</td></tr><tr><td>Huddersfield Town</td><td>12</td></tr><tr><td>West Ham United</td><td>14</td></tr><tr><td>Arsenal FC</td><td>14</td></tr></tbody></table></div>"
      ]
     },
     "metadata": {
      "application/vnd.databricks.v1+output": {
       "addedWidgets": {},
       "aggData": [],
       "aggError": "",
       "aggOverflow": false,
       "aggSchema": [],
       "aggSeriesLimitReached": false,
       "aggType": "",
       "arguments": {},
       "columnCustomDisplayInfos": {},
       "data": [
        [
         "Crystal Palace FC",
         14
        ],
        [
         "Swansea City",
         12
        ],
        [
         "Burnley FC",
         6
        ],
        [
         "Newcastle United FC",
         11
        ],
        [
         "Stoke City",
         11
        ],
        [
         "Southampton FC",
         12
        ],
        [
         "AFC Bournemouth",
         11
        ],
        [
         "Chelsea FC",
         10
        ],
        [
         "West Bromwich Albion FC",
         10
        ],
        [
         "Watford FC",
         17
        ],
        [
         "Manchester United FC",
         12
        ],
        [
         "Manchester City FC",
         11
        ],
        [
         "Leicester City",
         15
        ],
        [
         "Everton FC",
         12
        ],
        [
         "Tottenham Hotspur",
         10
        ],
        [
         "Brighton & Hove Albion",
         13
        ],
        [
         "Liverpool FC",
         14
        ],
        [
         "Huddersfield Town",
         12
        ],
        [
         "West Ham United",
         14
        ],
        [
         "Arsenal FC",
         14
        ]
       ],
       "datasetInfos": [],
       "dbfsResultPath": null,
       "isJsonSchema": true,
       "metadata": {},
       "overflow": false,
       "plotOptions": {
        "customPlotOptions": {},
        "displayType": "table",
        "pivotAggregation": null,
        "pivotColumns": null,
        "xColumns": null,
        "yColumns": null
       },
       "removedWidgets": [],
       "schema": [
        {
         "metadata": "{}",
         "name": "EQUIPO",
         "type": "\"string\""
        },
        {
         "metadata": "{}",
         "name": "PAIS",
         "type": "\"long\""
        }
       ],
       "type": "table"
      }
     },
     "output_type": "display_data"
    },
    {
     "output_type": "display_data",
     "data": {
      "text/plain": [
       "Databricks visualization. Run in Databricks to view."
      ]
     },
     "metadata": {
      "application/vnd.databricks.v1.subcommand+json": {
       "baseErrorDetails": null,
       "bindings": {},
       "collapsed": false,
       "command": "%sql WITH q AS (SELECT  club AS EQUIPO,  COUNT(DISTINCT nationality) AS PAIS \nFROM P_T\nGROUP BY EQUIPO) SELECT `EQUIPO`,SUM(`PAIS`) `column_3bc0955f119` FROM q GROUP BY `EQUIPO`",
       "commandTitle": "Visualization 1",
       "commandType": "auto",
       "commandVersion": 0,
       "commentThread": [],
       "commentsVisible": false,
       "contentSha256Hex": null,
       "customPlotOptions": {
        "redashChart": [
         {
          "key": "type",
          "value": "CHART"
         },
         {
          "key": "options",
          "value": {
           "alignYAxesAtZero": true,
           "coefficient": 1,
           "columnConfigurationMap": {
            "x": {
             "column": "EQUIPO",
             "id": "column_3bc0955f118"
            },
            "y": [
             {
              "column": "PAIS",
              "id": "column_3bc0955f119",
              "transform": "SUM"
             }
            ]
           },
           "dateTimeFormat": "DD/MM/YYYY HH:mm",
           "direction": {
            "type": "counterclockwise"
           },
           "error_y": {
            "type": "data",
            "visible": true
           },
           "globalSeriesType": "combo",
           "isAggregationOn": true,
           "legend": {
            "traceorder": "normal"
           },
           "missingValuesAsZero": true,
           "numberFormat": "0,0.[00000]",
           "percentFormat": "0[.]00%",
           "series": {
            "error_y": {
             "type": "data",
             "visible": true
            },
            "stacking": null
           },
           "seriesOptions": {
            "column_3bc0955f119": {
             "color": "#604F91",
             "name": "PAIS",
             "type": "column",
             "yAxis": 0
            },
            "column_3bc0955f122": {
             "color": "#FF7DE3",
             "type": "line",
             "yAxis": 0
            }
           },
           "showDataLabels": true,
           "sizemode": "diameter",
           "sortX": true,
           "sortY": true,
           "swappedAxes": false,
           "textFormat": "",
           "useAggregationsUi": true,
           "valuesOptions": {},
           "version": 2,
           "xAxis": {
            "labels": {
             "enabled": true
            },
            "type": "-"
           },
           "yAxis": [
            {
             "type": "-"
            },
            {
             "opposite": true,
             "type": "-"
            }
           ]
          }
         }
        ]
       },
       "datasetPreviewNameToCmdIdMap": {},
       "diffDeletes": [],
       "diffInserts": [],
       "displayType": "redashChart",
       "error": null,
       "errorDetails": null,
       "errorSummary": null,
       "errorTraceType": null,
       "finishTime": 0,
       "globalVars": {},
       "guid": "",
       "height": "590",
       "hideCommandCode": false,
       "hideCommandResult": false,
       "iPythonMetadata": null,
       "inputWidgets": {},
       "isLockedInExamMode": false,
       "latestUser": "a user",
       "latestUserId": null,
       "listResultMetadata": null,
       "metadata": {
        "byteLimit": 2048000,
        "implicitDf": true,
        "rowLimit": 10000
       },
       "nuid": "8844e073-ffd0-468b-bd6d-77a48c65a12f",
       "origId": 0,
       "parentHierarchy": [],
       "pivotAggregation": null,
       "pivotColumns": null,
       "position": 15.0,
       "resultDbfsErrorMessage": null,
       "resultDbfsStatus": "INLINED_IN_TREE",
       "results": null,
       "showCommandTitle": false,
       "startTime": 0,
       "state": "finished",
       "streamStates": {},
       "subcommandOptions": {
        "queryPlan": {
         "groups": [
          {
           "column": "EQUIPO",
           "type": "column"
          }
         ],
         "selects": [
          {
           "column": "EQUIPO",
           "type": "column"
          },
          {
           "alias": "column_3bc0955f119",
           "args": [
            {
             "column": "PAIS",
             "type": "column"
            }
           ],
           "function": "SUM",
           "type": "function"
          }
         ]
        }
       },
       "submitTime": 0,
       "subtype": "tableResultSubCmd.visualization",
       "tableResultIndex": 0,
       "useConsistentColors": false,
       "version": "CommandV1",
       "width": "1481",
       "workflows": [],
       "xColumns": null,
       "yColumns": null
      }
     },
     "output_type": "display_data"
    }
   ],
   "source": [
    "%sql\n",
    "-- Numero de total de nacionalidades presentes en cada equipo \n",
    "\n",
    "SELECT  club AS EQUIPO,  COUNT(DISTINCT nationality) AS PAIS \n",
    "FROM P_T\n",
    "GROUP BY EQUIPO"
   ]
  },
  {
   "cell_type": "code",
   "execution_count": 0,
   "metadata": {
    "application/vnd.databricks.v1+cell": {
     "cellMetadata": {
      "byteLimit": 2048000,
      "implicitDf": true,
      "rowLimit": 10000
     },
     "inputWidgets": {},
     "nuid": "ebf74fe2-f5c3-4b3a-ae37-2e1ebdd0d079",
     "showTitle": false,
     "title": ""
    }
   },
   "outputs": [
    {
     "output_type": "display_data",
     "data": {
      "text/html": [
       "<style scoped>\n",
       "  .table-result-container {\n",
       "    max-height: 300px;\n",
       "    overflow: auto;\n",
       "  }\n",
       "  table, th, td {\n",
       "    border: 1px solid black;\n",
       "    border-collapse: collapse;\n",
       "  }\n",
       "  th, td {\n",
       "    padding: 5px;\n",
       "  }\n",
       "  th {\n",
       "    text-align: left;\n",
       "  }\n",
       "</style><div class='table-result-container'><table class='table-result'><thead style='background-color: white'><tr><th>EQUIPO</th><th>TIROS_TOTALES</th></tr></thead><tbody><tr><td>Swansea City</td><td>336</td></tr><tr><td>Everton FC</td><td>360</td></tr><tr><td>Huddersfield Town</td><td>360</td></tr><tr><td>West Ham United</td><td>373</td></tr><tr><td>West Bromwich Albion FC</td><td>375</td></tr><tr><td>Burnley FC</td><td>379</td></tr><tr><td>Stoke City</td><td>382</td></tr><tr><td>Brighton & Hove Albion</td><td>383</td></tr><tr><td>Leicester City</td><td>422</td></tr><tr><td>Watford FC</td><td>440</td></tr><tr><td>Newcastle United FC</td><td>449</td></tr><tr><td>Southampton FC</td><td>451</td></tr><tr><td>AFC Bournemouth</td><td>467</td></tr><tr><td>Crystal Palace FC</td><td>475</td></tr><tr><td>Manchester United FC</td><td>513</td></tr><tr><td>Arsenal FC</td><td>593</td></tr><tr><td>Chelsea FC</td><td>606</td></tr><tr><td>Tottenham Hotspur</td><td>622</td></tr><tr><td>Liverpool FC</td><td>640</td></tr><tr><td>Manchester City FC</td><td>664</td></tr></tbody></table></div>"
      ]
     },
     "metadata": {
      "application/vnd.databricks.v1+output": {
       "addedWidgets": {},
       "aggData": [],
       "aggError": "",
       "aggOverflow": false,
       "aggSchema": [],
       "aggSeriesLimitReached": false,
       "aggType": "",
       "arguments": {},
       "columnCustomDisplayInfos": {},
       "data": [
        [
         "Swansea City",
         336
        ],
        [
         "Everton FC",
         360
        ],
        [
         "Huddersfield Town",
         360
        ],
        [
         "West Ham United",
         373
        ],
        [
         "West Bromwich Albion FC",
         375
        ],
        [
         "Burnley FC",
         379
        ],
        [
         "Stoke City",
         382
        ],
        [
         "Brighton & Hove Albion",
         383
        ],
        [
         "Leicester City",
         422
        ],
        [
         "Watford FC",
         440
        ],
        [
         "Newcastle United FC",
         449
        ],
        [
         "Southampton FC",
         451
        ],
        [
         "AFC Bournemouth",
         467
        ],
        [
         "Crystal Palace FC",
         475
        ],
        [
         "Manchester United FC",
         513
        ],
        [
         "Arsenal FC",
         593
        ],
        [
         "Chelsea FC",
         606
        ],
        [
         "Tottenham Hotspur",
         622
        ],
        [
         "Liverpool FC",
         640
        ],
        [
         "Manchester City FC",
         664
        ]
       ],
       "datasetInfos": [],
       "dbfsResultPath": null,
       "isJsonSchema": true,
       "metadata": {},
       "overflow": false,
       "plotOptions": {
        "customPlotOptions": {},
        "displayType": "table",
        "pivotAggregation": null,
        "pivotColumns": null,
        "xColumns": null,
        "yColumns": null
       },
       "removedWidgets": [],
       "schema": [
        {
         "metadata": "{}",
         "name": "EQUIPO",
         "type": "\"string\""
        },
        {
         "metadata": "{}",
         "name": "TIROS_TOTALES",
         "type": "\"long\""
        }
       ],
       "type": "table"
      }
     },
     "output_type": "display_data"
    },
    {
     "output_type": "display_data",
     "data": {
      "text/plain": [
       "Databricks visualization. Run in Databricks to view."
      ]
     },
     "metadata": {
      "application/vnd.databricks.v1.subcommand+json": {
       "baseErrorDetails": null,
       "bindings": {},
       "collapsed": false,
       "command": "%sql WITH q AS (SELECT team_name AS EQUIPO, SUM(`Total Shots`) AS TIROS_TOTALES\nFROM Fusion \nGROUP BY EQUIPO\nORDER BY TIROS_TOTALES ASC) SELECT `EQUIPO`,SUM(`TIROS_TOTALES`) `column_3bc0955f131` FROM q GROUP BY `EQUIPO`",
       "commandTitle": "Visualization 1",
       "commandType": "auto",
       "commandVersion": 0,
       "commentThread": [],
       "commentsVisible": false,
       "contentSha256Hex": null,
       "customPlotOptions": {
        "redashChart": [
         {
          "key": "type",
          "value": "CHART"
         },
         {
          "key": "options",
          "value": {
           "alignYAxesAtZero": true,
           "coefficient": 0.07,
           "columnConfigurationMap": {
            "x": {
             "column": "EQUIPO",
             "id": "column_3bc0955f113"
            },
            "y": [
             {
              "column": "TIROS_TOTALES",
              "id": "column_3bc0955f131",
              "transform": "SUM"
             }
            ]
           },
           "dateTimeFormat": "DD/MM/YYYY HH:mm",
           "direction": {
            "type": "counterclockwise"
           },
           "error_y": {
            "type": "data",
            "visible": true
           },
           "globalSeriesType": "column",
           "isAggregationOn": true,
           "legend": {
            "traceorder": "normal"
           },
           "missingValuesAsZero": true,
           "numberFormat": "0,0.[00000]",
           "percentFormat": "0[.]00%",
           "series": {
            "error_y": {
             "type": "data",
             "visible": true
            },
            "stacking": null
           },
           "seriesOptions": {
            "TIROS_A_PORTERIA": {
             "color": "#C63FA9",
             "name": "TIROS_A_PORTERIA",
             "type": "column",
             "yAxis": 0
            },
            "TIROS_TOTALES": {
             "color": "#C63FA9",
             "type": "column",
             "yAxis": 0
            },
            "column_3bc0955f114": {
             "name": "TIROS_A_PORTERIA",
             "type": "column",
             "yAxis": 0
            },
            "column_3bc0955f131": {
             "color": "#660044",
             "type": "column",
             "yAxis": 0
            }
           },
           "showDataLabels": true,
           "sizemode": "diameter",
           "sortX": false,
           "sortY": true,
           "swappedAxes": false,
           "textFormat": "",
           "useAggregationsUi": true,
           "valuesOptions": {},
           "version": 2,
           "xAxis": {
            "labels": {
             "enabled": true
            },
            "type": "-"
           },
           "yAxis": [
            {
             "type": "-"
            },
            {
             "opposite": true,
             "type": "-"
            }
           ]
          }
         }
        ]
       },
       "datasetPreviewNameToCmdIdMap": {},
       "diffDeletes": [],
       "diffInserts": [],
       "displayType": "redashChart",
       "error": null,
       "errorDetails": null,
       "errorSummary": null,
       "errorTraceType": null,
       "finishTime": 0,
       "globalVars": {},
       "guid": "",
       "height": "auto",
       "hideCommandCode": false,
       "hideCommandResult": false,
       "iPythonMetadata": null,
       "inputWidgets": {},
       "isLockedInExamMode": false,
       "latestUser": "a user",
       "latestUserId": null,
       "listResultMetadata": null,
       "metadata": {
        "byteLimit": 2048000,
        "implicitDf": true,
        "rowLimit": 10000
       },
       "nuid": "f1544eaf-260a-4204-9170-b6b1ac478b1e",
       "origId": 0,
       "parentHierarchy": [],
       "pivotAggregation": null,
       "pivotColumns": null,
       "position": 14.0,
       "resultDbfsErrorMessage": null,
       "resultDbfsStatus": "INLINED_IN_TREE",
       "results": null,
       "showCommandTitle": false,
       "startTime": 0,
       "state": "finished",
       "streamStates": {},
       "subcommandOptions": {
        "queryPlan": {
         "groups": [
          {
           "column": "EQUIPO",
           "type": "column"
          }
         ],
         "selects": [
          {
           "column": "EQUIPO",
           "type": "column"
          },
          {
           "alias": "column_3bc0955f131",
           "args": [
            {
             "column": "TIROS_TOTALES",
             "type": "column"
            }
           ],
           "function": "SUM",
           "type": "function"
          }
         ]
        }
       },
       "submitTime": 0,
       "subtype": "tableResultSubCmd.visualization",
       "tableResultIndex": 0,
       "useConsistentColors": false,
       "version": "CommandV1",
       "width": "auto",
       "workflows": [],
       "xColumns": null,
       "yColumns": null
      }
     },
     "output_type": "display_data"
    }
   ],
   "source": [
    "%sql\n",
    "-- Tiros totales por equipo a lo largo de toda la temporada\n",
    "\n",
    "SELECT team_name AS EQUIPO, SUM(`Total Shots`) AS TIROS_TOTALES\n",
    "FROM Fusion \n",
    "GROUP BY EQUIPO\n",
    "ORDER BY TIROS_TOTALES ASC;"
   ]
  },
  {
   "cell_type": "code",
   "execution_count": 0,
   "metadata": {
    "application/vnd.databricks.v1+cell": {
     "cellMetadata": {
      "byteLimit": 2048000,
      "implicitDf": true,
      "rowLimit": 10000
     },
     "inputWidgets": {},
     "nuid": "77c7b94e-f33e-4f0a-8998-e778456b2da8",
     "showTitle": false,
     "title": ""
    }
   },
   "outputs": [
    {
     "output_type": "display_data",
     "data": {
      "text/html": [
       "<style scoped>\n",
       "  .table-result-container {\n",
       "    max-height: 300px;\n",
       "    overflow: auto;\n",
       "  }\n",
       "  table, th, td {\n",
       "    border: 1px solid black;\n",
       "    border-collapse: collapse;\n",
       "  }\n",
       "  th, td {\n",
       "    padding: 5px;\n",
       "  }\n",
       "  th {\n",
       "    text-align: left;\n",
       "  }\n",
       "</style><div class='table-result-container'><table class='table-result'><thead style='background-color: white'><tr><th>EQUIPO</th><th>NUMERO_EDAD</th></tr></thead><tbody><tr><td>Brighton & Hove Albion</td><td>28.318181818181817</td></tr><tr><td>West Bromwich Albion FC</td><td>28.210526315789473</td></tr><tr><td>Crystal Palace FC</td><td>28.047619047619047</td></tr><tr><td>Stoke City</td><td>28.045454545454547</td></tr><tr><td>Watford FC</td><td>28.041666666666668</td></tr><tr><td>Burnley FC</td><td>27.944444444444443</td></tr><tr><td>West Ham United</td><td>27.363636363636363</td></tr><tr><td>Leicester City</td><td>27.25</td></tr><tr><td>Chelsea FC</td><td>27.05</td></tr><tr><td>Swansea City</td><td>27.0</td></tr><tr><td>Manchester City FC</td><td>27.0</td></tr><tr><td>AFC Bournemouth</td><td>26.875</td></tr><tr><td>Arsenal FC</td><td>26.678571428571427</td></tr><tr><td>Newcastle United FC</td><td>26.428571428571427</td></tr><tr><td>Everton FC</td><td>26.214285714285715</td></tr><tr><td>Huddersfield Town</td><td>26.0</td></tr><tr><td>Tottenham Hotspur</td><td>25.65</td></tr><tr><td>Manchester United FC</td><td>25.56</td></tr><tr><td>Southampton FC</td><td>24.956521739130434</td></tr><tr><td>Liverpool FC</td><td>24.77777777777778</td></tr></tbody></table></div>"
      ]
     },
     "metadata": {
      "application/vnd.databricks.v1+output": {
       "addedWidgets": {},
       "aggData": [],
       "aggError": "",
       "aggOverflow": false,
       "aggSchema": [],
       "aggSeriesLimitReached": false,
       "aggType": "",
       "arguments": {},
       "columnCustomDisplayInfos": {},
       "data": [
        [
         "Brighton & Hove Albion",
         28.318181818181817
        ],
        [
         "West Bromwich Albion FC",
         28.210526315789473
        ],
        [
         "Crystal Palace FC",
         28.047619047619047
        ],
        [
         "Stoke City",
         28.045454545454547
        ],
        [
         "Watford FC",
         28.041666666666668
        ],
        [
         "Burnley FC",
         27.944444444444443
        ],
        [
         "West Ham United",
         27.363636363636363
        ],
        [
         "Leicester City",
         27.25
        ],
        [
         "Chelsea FC",
         27.05
        ],
        [
         "Swansea City",
         27.0
        ],
        [
         "Manchester City FC",
         27.0
        ],
        [
         "AFC Bournemouth",
         26.875
        ],
        [
         "Arsenal FC",
         26.678571428571427
        ],
        [
         "Newcastle United FC",
         26.428571428571427
        ],
        [
         "Everton FC",
         26.214285714285715
        ],
        [
         "Huddersfield Town",
         26.0
        ],
        [
         "Tottenham Hotspur",
         25.65
        ],
        [
         "Manchester United FC",
         25.56
        ],
        [
         "Southampton FC",
         24.956521739130434
        ],
        [
         "Liverpool FC",
         24.77777777777778
        ]
       ],
       "datasetInfos": [],
       "dbfsResultPath": null,
       "isJsonSchema": true,
       "metadata": {},
       "overflow": false,
       "plotOptions": {
        "customPlotOptions": {},
        "displayType": "table",
        "pivotAggregation": null,
        "pivotColumns": null,
        "xColumns": null,
        "yColumns": null
       },
       "removedWidgets": [],
       "schema": [
        {
         "metadata": "{}",
         "name": "EQUIPO",
         "type": "\"string\""
        },
        {
         "metadata": "{}",
         "name": "NUMERO_EDAD",
         "type": "\"double\""
        }
       ],
       "type": "table"
      }
     },
     "output_type": "display_data"
    },
    {
     "output_type": "display_data",
     "data": {
      "text/plain": [
       "Databricks visualization. Run in Databricks to view."
      ]
     },
     "metadata": {
      "application/vnd.databricks.v1.subcommand+json": {
       "baseErrorDetails": null,
       "bindings": {},
       "collapsed": false,
       "command": "%sql WITH q AS (SELECT  club AS EQUIPO, AVG(age) AS NUMERO_EDAD\nFROM P_T\nGROUP BY EQUIPO\nORDER BY NUMERO_EDAD DESC\nLIMIT 300) SELECT `EQUIPO`,AVG(`NUMERO_EDAD`) `column_3bc0955f140` FROM q GROUP BY `EQUIPO`",
       "commandTitle": "Visualization 1",
       "commandType": "auto",
       "commandVersion": 0,
       "commentThread": [],
       "commentsVisible": false,
       "contentSha256Hex": null,
       "customPlotOptions": {
        "redashChart": [
         {
          "key": "type",
          "value": "CHART"
         },
         {
          "key": "options",
          "value": {
           "alignYAxesAtZero": false,
           "coefficient": 1,
           "colorScheme": "Jet",
           "columnConfigurationMap": {
            "x": {
             "column": "EQUIPO",
             "id": "column_3bc0955f139"
            },
            "y": [
             {
              "column": "NUMERO_EDAD",
              "id": "column_3bc0955f140",
              "transform": "AVG"
             }
            ]
           },
           "dateTimeFormat": "DD/MM/YYYY HH:mm",
           "direction": {
            "type": "counterclockwise"
           },
           "error_y": {
            "type": "data",
            "visible": true
           },
           "globalSeriesType": "combo",
           "hideYAxes": false,
           "isAggregationOn": true,
           "legend": {
            "title": "NUMERO_EDAD",
            "traceorder": "normal"
           },
           "missingValuesAsZero": true,
           "numberFormat": "0,0.[0]",
           "percentFormat": "0[.]00%",
           "reverseX": false,
           "series": {
            "error_y": {
             "type": "data",
             "visible": true
            },
            "stacking": null
           },
           "seriesOptions": {
            "column_3bc0955f137": {
             "name": "NUMERO_EDAD",
             "type": "line",
             "yAxis": 0
            },
            "column_3bc0955f140": {
             "color": "#C63FA9",
             "type": "column",
             "yAxis": 0
            },
            "column_3bc0955f150": {
             "color": "#FF7DE3",
             "type": "line",
             "yAxis": 0
            }
           },
           "showDataLabels": true,
           "sizemode": "diameter",
           "sortX": false,
           "sortY": false,
           "swappedAxes": false,
           "textFormat": "",
           "useAggregationsUi": true,
           "valuesOptions": {},
           "version": 2,
           "xAxis": {
            "labels": {
             "enabled": true
            },
            "type": "-"
           },
           "yAxis": [
            {
             "rangeMax": 35,
             "rangeMin": 15,
             "title": {
              "text": "EDAD"
             },
             "type": "-"
            },
            {
             "opposite": true,
             "type": "-"
            }
           ]
          }
         }
        ]
       },
       "datasetPreviewNameToCmdIdMap": {},
       "diffDeletes": [],
       "diffInserts": [],
       "displayType": "redashChart",
       "error": null,
       "errorDetails": null,
       "errorSummary": null,
       "errorTraceType": null,
       "finishTime": 0,
       "globalVars": {},
       "guid": "",
       "height": "883",
       "hideCommandCode": false,
       "hideCommandResult": false,
       "iPythonMetadata": null,
       "inputWidgets": {},
       "isLockedInExamMode": false,
       "latestUser": "a user",
       "latestUserId": null,
       "listResultMetadata": null,
       "metadata": {
        "byteLimit": 2048000,
        "implicitDf": true,
        "rowLimit": 10000
       },
       "nuid": "9bf181a5-9386-414d-b68f-463e3c23461a",
       "origId": 0,
       "parentHierarchy": [],
       "pivotAggregation": null,
       "pivotColumns": null,
       "position": 16.0,
       "resultDbfsErrorMessage": null,
       "resultDbfsStatus": "INLINED_IN_TREE",
       "results": null,
       "showCommandTitle": false,
       "startTime": 0,
       "state": "finished",
       "streamStates": {},
       "subcommandOptions": {
        "queryPlan": {
         "groups": [
          {
           "column": "EQUIPO",
           "type": "column"
          }
         ],
         "selects": [
          {
           "column": "EQUIPO",
           "type": "column"
          },
          {
           "alias": "column_3bc0955f140",
           "args": [
            {
             "column": "NUMERO_EDAD",
             "type": "column"
            }
           ],
           "function": "AVG",
           "type": "function"
          }
         ]
        }
       },
       "submitTime": 0,
       "subtype": "tableResultSubCmd.visualization",
       "tableResultIndex": 0,
       "useConsistentColors": false,
       "version": "CommandV1",
       "width": "1110",
       "workflows": [],
       "xColumns": null,
       "yColumns": null
      }
     },
     "output_type": "display_data"
    }
   ],
   "source": [
    "%sql\n",
    "-- Promedio de edad de jugadores de los equipos\n",
    "\n",
    "SELECT  club AS EQUIPO, AVG(age) AS NUMERO_EDAD\n",
    "FROM P_T\n",
    "GROUP BY EQUIPO\n",
    "ORDER BY NUMERO_EDAD DESC\n",
    "LIMIT 300;"
   ]
  },
  {
   "cell_type": "code",
   "execution_count": 0,
   "metadata": {
    "application/vnd.databricks.v1+cell": {
     "cellMetadata": {
      "byteLimit": 2048000,
      "implicitDf": true,
      "rowLimit": 10000
     },
     "inputWidgets": {},
     "nuid": "45f83d66-bc16-4638-8c71-3c901650db44",
     "showTitle": false,
     "title": ""
    }
   },
   "outputs": [
    {
     "output_type": "display_data",
     "data": {
      "text/html": [
       "<style scoped>\n",
       "  .table-result-container {\n",
       "    max-height: 300px;\n",
       "    overflow: auto;\n",
       "  }\n",
       "  table, th, td {\n",
       "    border: 1px solid black;\n",
       "    border-collapse: collapse;\n",
       "  }\n",
       "  th, td {\n",
       "    padding: 5px;\n",
       "  }\n",
       "  th {\n",
       "    text-align: left;\n",
       "  }\n",
       "</style><div class='table-result-container'><table class='table-result'><thead style='background-color: white'><tr><th>team_name</th><th>NUMERO_VICTORIAS</th></tr></thead><tbody><tr><td>Manchester City FC</td><td>32</td></tr><tr><td>Manchester United FC</td><td>25</td></tr><tr><td>Tottenham Hotspur</td><td>23</td></tr><tr><td>Chelsea FC</td><td>21</td></tr><tr><td>Liverpool FC</td><td>21</td></tr><tr><td>Arsenal FC</td><td>19</td></tr><tr><td>Burnley FC</td><td>14</td></tr><tr><td>Everton FC</td><td>13</td></tr><tr><td>Newcastle United FC</td><td>12</td></tr><tr><td>Leicester City</td><td>12</td></tr><tr><td>Crystal Palace FC</td><td>11</td></tr><tr><td>AFC Bournemouth</td><td>11</td></tr><tr><td>Watford FC</td><td>11</td></tr><tr><td>West Ham United</td><td>10</td></tr><tr><td>Brighton & Hove Albion</td><td>9</td></tr><tr><td>Huddersfield Town</td><td>9</td></tr><tr><td>Swansea City</td><td>8</td></tr><tr><td>Stoke City</td><td>7</td></tr><tr><td>Southampton FC</td><td>7</td></tr><tr><td>West Bromwich Albion FC</td><td>6</td></tr></tbody></table></div>"
      ]
     },
     "metadata": {
      "application/vnd.databricks.v1+output": {
       "addedWidgets": {},
       "aggData": [],
       "aggError": "",
       "aggOverflow": false,
       "aggSchema": [],
       "aggSeriesLimitReached": false,
       "aggType": "",
       "arguments": {},
       "columnCustomDisplayInfos": {},
       "data": [
        [
         "Manchester City FC",
         32
        ],
        [
         "Manchester United FC",
         25
        ],
        [
         "Tottenham Hotspur",
         23
        ],
        [
         "Chelsea FC",
         21
        ],
        [
         "Liverpool FC",
         21
        ],
        [
         "Arsenal FC",
         19
        ],
        [
         "Burnley FC",
         14
        ],
        [
         "Everton FC",
         13
        ],
        [
         "Newcastle United FC",
         12
        ],
        [
         "Leicester City",
         12
        ],
        [
         "Crystal Palace FC",
         11
        ],
        [
         "AFC Bournemouth",
         11
        ],
        [
         "Watford FC",
         11
        ],
        [
         "West Ham United",
         10
        ],
        [
         "Brighton & Hove Albion",
         9
        ],
        [
         "Huddersfield Town",
         9
        ],
        [
         "Swansea City",
         8
        ],
        [
         "Stoke City",
         7
        ],
        [
         "Southampton FC",
         7
        ],
        [
         "West Bromwich Albion FC",
         6
        ]
       ],
       "datasetInfos": [],
       "dbfsResultPath": null,
       "isJsonSchema": true,
       "metadata": {},
       "overflow": false,
       "plotOptions": {
        "customPlotOptions": {},
        "displayType": "table",
        "pivotAggregation": null,
        "pivotColumns": null,
        "xColumns": null,
        "yColumns": null
       },
       "removedWidgets": [],
       "schema": [
        {
         "metadata": "{}",
         "name": "team_name",
         "type": "\"string\""
        },
        {
         "metadata": "{}",
         "name": "NUMERO_VICTORIAS",
         "type": "\"long\""
        }
       ],
       "type": "table"
      }
     },
     "output_type": "display_data"
    },
    {
     "output_type": "display_data",
     "data": {
      "text/plain": [
       "Databricks visualization. Run in Databricks to view."
      ]
     },
     "metadata": {
      "application/vnd.databricks.v1.subcommand+json": {
       "baseErrorDetails": null,
       "bindings": {},
       "collapsed": false,
       "command": "%sql WITH q AS (SELECT team_name, COUNT(*) AS NUMERO_VICTORIAS\nFROM Fusion\nWHERE Resultado = 'Ganó'\nGROUP BY team_name\nORDER BY NUMERO_VICTORIAS DESC) SELECT `team_name`,SUM(`NUMERO_VICTORIAS`) `column_3eb25e4310` FROM q GROUP BY `team_name`",
       "commandTitle": "Visualization 1",
       "commandType": "auto",
       "commandVersion": 0,
       "commentThread": [],
       "commentsVisible": false,
       "contentSha256Hex": null,
       "customPlotOptions": {
        "redashChart": [
         {
          "key": "type",
          "value": "CHART"
         },
         {
          "key": "options",
          "value": {
           "alignYAxesAtZero": true,
           "coefficient": 2,
           "columnConfigurationMap": {
            "x": {
             "column": "team_name",
             "id": "column_3eb25e437"
            },
            "y": [
             {
              "column": "NUMERO_VICTORIAS",
              "id": "column_3eb25e4310",
              "transform": "SUM"
             }
            ]
           },
           "dateTimeFormat": "DD/MM/YYYY HH:mm",
           "direction": {
            "type": "counterclockwise"
           },
           "error_y": {
            "type": "data",
            "visible": true
           },
           "globalSeriesType": "column",
           "isAggregationOn": true,
           "legend": {
            "traceorder": "normal"
           },
           "missingValuesAsZero": true,
           "numBins": 10,
           "numberFormat": "0,0.[00000]",
           "percentFormat": "0[.]00%",
           "reverseX": false,
           "series": {
            "error_y": {
             "type": "data",
             "visible": true
            },
            "stacking": null
           },
           "seriesOptions": {
            "NUMERO_VICTORIAS": {
             "color": "#C63FA9",
             "type": "column",
             "yAxis": 0
            },
            "column_3bc0955f164": {
             "color": "#604F91",
             "type": "column",
             "yAxis": 0
            },
            "column_3bc0955f173": {
             "color": "#C63FA9",
             "type": "column",
             "yAxis": 0
            },
            "column_3eb25e4310": {
             "color": "#C63FA9",
             "type": "column",
             "yAxis": 0
            },
            "column_3eb25e435": {
             "color": "#C63FA9",
             "type": "column",
             "yAxis": 0
            }
           },
           "showDataLabels": false,
           "sizemode": "diameter",
           "sortX": false,
           "sortY": true,
           "swappedAxes": false,
           "textFormat": "",
           "useAggregationsUi": true,
           "valuesOptions": {},
           "version": 2,
           "xAxis": {
            "labels": {
             "enabled": true
            },
            "title": {
             "text": "EQUIPO"
            },
            "type": "-"
           },
           "yAxis": [
            {
             "title": {
              "text": "VICTORIAS"
             },
             "type": "linear"
            },
            {
             "opposite": true,
             "title": {
              "text": null
             },
             "type": "-"
            }
           ]
          }
         }
        ]
       },
       "datasetPreviewNameToCmdIdMap": {},
       "diffDeletes": [],
       "diffInserts": [],
       "displayType": "redashChart",
       "error": null,
       "errorDetails": null,
       "errorSummary": null,
       "errorTraceType": null,
       "finishTime": 0,
       "globalVars": {},
       "guid": "",
       "height": "742",
       "hideCommandCode": false,
       "hideCommandResult": false,
       "iPythonMetadata": null,
       "inputWidgets": {},
       "isLockedInExamMode": false,
       "latestUser": "a user",
       "latestUserId": null,
       "listResultMetadata": null,
       "metadata": {
        "byteLimit": 2048000,
        "implicitDf": true,
        "rowLimit": 10000
       },
       "nuid": "33889b6c-9262-46bc-9abd-92766b715807",
       "origId": 0,
       "parentHierarchy": [],
       "pivotAggregation": null,
       "pivotColumns": null,
       "position": 17.0,
       "resultDbfsErrorMessage": null,
       "resultDbfsStatus": "INLINED_IN_TREE",
       "results": null,
       "showCommandTitle": false,
       "startTime": 0,
       "state": "finished",
       "streamStates": {},
       "subcommandOptions": {
        "queryPlan": {
         "groups": [
          {
           "column": "team_name",
           "type": "column"
          }
         ],
         "selects": [
          {
           "column": "team_name",
           "type": "column"
          },
          {
           "alias": "column_3eb25e4310",
           "args": [
            {
             "column": "NUMERO_VICTORIAS",
             "type": "column"
            }
           ],
           "function": "SUM",
           "type": "function"
          }
         ]
        }
       },
       "submitTime": 0,
       "subtype": "tableResultSubCmd.visualization",
       "tableResultIndex": 0,
       "useConsistentColors": false,
       "version": "CommandV1",
       "width": "auto",
       "workflows": [],
       "xColumns": null,
       "yColumns": null
      }
     },
     "output_type": "display_data"
    }
   ],
   "source": [
    "%sql\n",
    "-- Numero de victorias totales en la temporada 17-18\n",
    "\n",
    "SELECT team_name, COUNT(*) AS NUMERO_VICTORIAS\n",
    "FROM Fusion\n",
    "WHERE Resultado = 'Ganó'\n",
    "GROUP BY team_name\n",
    "ORDER BY NUMERO_VICTORIAS DESC"
   ]
  },
  {
   "cell_type": "markdown",
   "metadata": {
    "application/vnd.databricks.v1+cell": {
     "cellMetadata": {
      "byteLimit": 2048000,
      "rowLimit": 10000
     },
     "inputWidgets": {},
     "nuid": "11a17b57-4160-49ae-a1fe-a2e11222dbff",
     "showTitle": false,
     "title": ""
    }
   },
   "source": [
    "# Sobre los equipos"
   ]
  },
  {
   "cell_type": "code",
   "execution_count": 0,
   "metadata": {
    "application/vnd.databricks.v1+cell": {
     "cellMetadata": {
      "byteLimit": 2048000,
      "implicitDf": true,
      "rowLimit": 10000
     },
     "inputWidgets": {},
     "nuid": "94887703-949c-48a2-8aca-68924b77218a",
     "showTitle": false,
     "title": ""
    }
   },
   "outputs": [
    {
     "output_type": "display_data",
     "data": {
      "text/html": [
       "<style scoped>\n",
       "  .table-result-container {\n",
       "    max-height: 300px;\n",
       "    overflow: auto;\n",
       "  }\n",
       "  table, th, td {\n",
       "    border: 1px solid black;\n",
       "    border-collapse: collapse;\n",
       "  }\n",
       "  th, td {\n",
       "    padding: 5px;\n",
       "  }\n",
       "  th {\n",
       "    text-align: left;\n",
       "  }\n",
       "</style><div class='table-result-container'><table class='table-result'><thead style='background-color: white'><tr><th>player_name</th><th>sum(man_of_the_match)</th><th>total_motm</th></tr></thead><tbody><tr><td>Álvaro Morata</td><td>1</td><td>Álvaro Morata</td></tr><tr><td>Zlatan Ibrahimovic</td><td>0</td><td>Zlatan Ibrahimovic</td></tr><tr><td>Zanka</td><td>1</td><td>Zanka</td></tr><tr><td>Younes Kaboul</td><td>0</td><td>Younes Kaboul</td></tr><tr><td>Yohan Cabaye</td><td>1</td><td>Yohan Cabaye</td></tr><tr><td>Yohan Benalouane</td><td>0</td><td>Yohan Benalouane</td></tr><tr><td>Yaya Touré</td><td>0</td><td>Yaya Touré</td></tr><tr><td>Yannick Bolasie</td><td>0</td><td>Yannick Bolasie</td></tr><tr><td>Xherdan Shaqiri</td><td>2</td><td>Xherdan Shaqiri</td></tr><tr><td>Winston Reid</td><td>0</td><td>Winston Reid</td></tr></tbody></table></div>"
      ]
     },
     "metadata": {
      "application/vnd.databricks.v1+output": {
       "addedWidgets": {},
       "aggData": [],
       "aggError": "",
       "aggOverflow": false,
       "aggSchema": [],
       "aggSeriesLimitReached": false,
       "aggType": "",
       "arguments": {},
       "columnCustomDisplayInfos": {},
       "data": [
        [
         "Álvaro Morata",
         1,
         "Álvaro Morata"
        ],
        [
         "Zlatan Ibrahimovic",
         0,
         "Zlatan Ibrahimovic"
        ],
        [
         "Zanka",
         1,
         "Zanka"
        ],
        [
         "Younes Kaboul",
         0,
         "Younes Kaboul"
        ],
        [
         "Yohan Cabaye",
         1,
         "Yohan Cabaye"
        ],
        [
         "Yohan Benalouane",
         0,
         "Yohan Benalouane"
        ],
        [
         "Yaya Touré",
         0,
         "Yaya Touré"
        ],
        [
         "Yannick Bolasie",
         0,
         "Yannick Bolasie"
        ],
        [
         "Xherdan Shaqiri",
         2,
         "Xherdan Shaqiri"
        ],
        [
         "Winston Reid",
         0,
         "Winston Reid"
        ]
       ],
       "datasetInfos": [],
       "dbfsResultPath": null,
       "isJsonSchema": true,
       "metadata": {},
       "overflow": false,
       "plotOptions": {
        "customPlotOptions": {},
        "displayType": "table",
        "pivotAggregation": null,
        "pivotColumns": null,
        "xColumns": null,
        "yColumns": null
       },
       "removedWidgets": [],
       "schema": [
        {
         "metadata": "{}",
         "name": "player_name",
         "type": "\"string\""
        },
        {
         "metadata": "{\"__autoGeneratedAlias\":\"true\"}",
         "name": "sum(man_of_the_match)",
         "type": "\"long\""
        },
        {
         "metadata": "{}",
         "name": "total_motm",
         "type": "\"string\""
        }
       ],
       "type": "table"
      }
     },
     "output_type": "display_data"
    }
   ],
   "source": [
    "%sql\n",
    "SELECT player_name, SUM(man_of_the_match), player_name AS total_motm\n",
    "FROM P_M\n",
    "GROUP BY player_name\n",
    "ORDER BY total_motm DESC\n",
    "LIMIT 10;"
   ]
  },
  {
   "cell_type": "markdown",
   "metadata": {
    "application/vnd.databricks.v1+cell": {
     "cellMetadata": {
      "byteLimit": 2048000,
      "rowLimit": 10000
     },
     "inputWidgets": {},
     "nuid": "b27aadb0-19cb-4e83-952f-b7517e0ce4fb",
     "showTitle": false,
     "title": ""
    }
   },
   "source": [
    "# Sobre los Jugadores"
   ]
  },
  {
   "cell_type": "code",
   "execution_count": 0,
   "metadata": {
    "application/vnd.databricks.v1+cell": {
     "cellMetadata": {
      "byteLimit": 2048000,
      "implicitDf": true,
      "rowLimit": 10000
     },
     "inputWidgets": {},
     "nuid": "da13e401-7ed0-4264-931d-c5f35d5300ca",
     "showTitle": false,
     "title": ""
    }
   },
   "outputs": [
    {
     "output_type": "display_data",
     "data": {
      "text/html": [
       "<style scoped>\n",
       "  .table-result-container {\n",
       "    max-height: 300px;\n",
       "    overflow: auto;\n",
       "  }\n",
       "  table, th, td {\n",
       "    border: 1px solid black;\n",
       "    border-collapse: collapse;\n",
       "  }\n",
       "  th, td {\n",
       "    padding: 5px;\n",
       "  }\n",
       "  th {\n",
       "    text-align: left;\n",
       "  }\n",
       "</style><div class='table-result-container'><table class='table-result'><thead style='background-color: white'><tr><th>team_name</th><th>player_name</th><th>avg_player_rating</th></tr></thead><tbody><tr><td>Liverpool FC</td><td>Philippe Coutinho</td><td>8.030714239392962</td></tr><tr><td>Manchester City FC</td><td>Sergio Agüero</td><td>7.809999923706055</td></tr><tr><td>Arsenal FC</td><td>Alex Oxlade Chamberlain</td><td>7.806666533152263</td></tr><tr><td>Manchester City FC</td><td>Kevin De Bruyne</td><td>7.8032432504602385</td></tr><tr><td>Liverpool FC</td><td>Mohamed Salah</td><td>7.691111127535502</td></tr></tbody></table></div>"
      ]
     },
     "metadata": {
      "application/vnd.databricks.v1+output": {
       "addedWidgets": {},
       "aggData": [],
       "aggError": "",
       "aggOverflow": false,
       "aggSchema": [],
       "aggSeriesLimitReached": false,
       "aggType": "",
       "arguments": {},
       "columnCustomDisplayInfos": {},
       "data": [
        [
         "Liverpool FC",
         "Philippe Coutinho",
         8.030714239392962
        ],
        [
         "Manchester City FC",
         "Sergio Agüero",
         7.809999923706055
        ],
        [
         "Arsenal FC",
         "Alex Oxlade Chamberlain",
         7.806666533152263
        ],
        [
         "Manchester City FC",
         "Kevin De Bruyne",
         7.8032432504602385
        ],
        [
         "Liverpool FC",
         "Mohamed Salah",
         7.691111127535502
        ]
       ],
       "datasetInfos": [],
       "dbfsResultPath": null,
       "isJsonSchema": true,
       "metadata": {},
       "overflow": false,
       "plotOptions": {
        "customPlotOptions": {},
        "displayType": "table",
        "pivotAggregation": null,
        "pivotColumns": null,
        "xColumns": null,
        "yColumns": null
       },
       "removedWidgets": [],
       "schema": [
        {
         "metadata": "{}",
         "name": "team_name",
         "type": "\"string\""
        },
        {
         "metadata": "{}",
         "name": "player_name",
         "type": "\"string\""
        },
        {
         "metadata": "{}",
         "name": "avg_player_rating",
         "type": "\"double\""
        }
       ],
       "type": "table"
      }
     },
     "output_type": "display_data"
    }
   ],
   "source": [
    "%sql\n",
    "SELECT team_name, player_name, AVG(player_rating) AS avg_player_rating\n",
    "FROM P_M\n",
    "GROUP BY team_name, player_name\n",
    "ORDER BY avg_player_rating DESC\n",
    "LIMIT 5;"
   ]
  },
  {
   "cell_type": "code",
   "execution_count": 0,
   "metadata": {
    "application/vnd.databricks.v1+cell": {
     "cellMetadata": {},
     "inputWidgets": {},
     "nuid": "ef0e9222-1985-452e-9d8e-2941e1b07a76",
     "showTitle": false,
     "title": ""
    }
   },
   "outputs": [],
   "source": [
    "%sql\n",
    "SELECT player_name, SUM(man_of_the_match), player_name AS total_motm\n",
    "FROM P_M\n",
    "GROUP BY player_name\n",
    "ORDER BY total_motm DESC\n",
    "LIMIT 10;"
   ]
  },
  {
   "cell_type": "code",
   "execution_count": 0,
   "metadata": {
    "application/vnd.databricks.v1+cell": {
     "cellMetadata": {
      "byteLimit": 2048000,
      "implicitDf": true,
      "rowLimit": 10000
     },
     "inputWidgets": {},
     "nuid": "2300948f-ecdc-4dda-9d65-a415745ba775",
     "showTitle": false,
     "title": ""
    }
   },
   "outputs": [
    {
     "output_type": "display_data",
     "data": {
      "text/html": [
       "<style scoped>\n",
       "  .table-result-container {\n",
       "    max-height: 300px;\n",
       "    overflow: auto;\n",
       "  }\n",
       "  table, th, td {\n",
       "    border: 1px solid black;\n",
       "    border-collapse: collapse;\n",
       "  }\n",
       "  th, td {\n",
       "    padding: 5px;\n",
       "  }\n",
       "  th {\n",
       "    text-align: left;\n",
       "  }\n",
       "</style><div class='table-result-container'><table class='table-result'><thead style='background-color: white'><tr><th>player_name</th><th>total_tackles</th><th>total_clearances</th><th>total_last_man_tackles</th></tr></thead><tbody><tr><td>Wilfred Ndidi</td><td>139</td><td>0</td><td>0</td></tr><tr><td>Idrissa Gueye</td><td>117</td><td>0</td><td>0</td></tr><tr><td>N'Golo Kanté</td><td>113</td><td>0</td><td>1</td></tr><tr><td>Aaron Mooy</td><td>103</td><td>1</td><td>0</td></tr><tr><td>Dale Stephens</td><td>102</td><td>1</td><td>0</td></tr><tr><td>Joe Allen</td><td>96</td><td>0</td><td>0</td></tr><tr><td>Pablo Zabaleta</td><td>94</td><td>0</td><td>0</td></tr><tr><td>Jonathan Hogg</td><td>93</td><td>1</td><td>0</td></tr><tr><td>Oriol Romeu</td><td>93</td><td>0</td><td>0</td></tr><tr><td>Kyle Naughton</td><td>92</td><td>0</td><td>1</td></tr></tbody></table></div>"
      ]
     },
     "metadata": {
      "application/vnd.databricks.v1+output": {
       "addedWidgets": {},
       "aggData": [],
       "aggError": "",
       "aggOverflow": false,
       "aggSchema": [],
       "aggSeriesLimitReached": false,
       "aggType": "",
       "arguments": {},
       "columnCustomDisplayInfos": {},
       "data": [
        [
         "Wilfred Ndidi",
         139,
         0,
         0
        ],
        [
         "Idrissa Gueye",
         117,
         0,
         0
        ],
        [
         "N'Golo Kanté",
         113,
         0,
         1
        ],
        [
         "Aaron Mooy",
         103,
         1,
         0
        ],
        [
         "Dale Stephens",
         102,
         1,
         0
        ],
        [
         "Joe Allen",
         96,
         0,
         0
        ],
        [
         "Pablo Zabaleta",
         94,
         0,
         0
        ],
        [
         "Jonathan Hogg",
         93,
         1,
         0
        ],
        [
         "Oriol Romeu",
         93,
         0,
         0
        ],
        [
         "Kyle Naughton",
         92,
         0,
         1
        ]
       ],
       "datasetInfos": [],
       "dbfsResultPath": null,
       "isJsonSchema": true,
       "metadata": {},
       "overflow": false,
       "plotOptions": {
        "customPlotOptions": {},
        "displayType": "table",
        "pivotAggregation": null,
        "pivotColumns": null,
        "xColumns": null,
        "yColumns": null
       },
       "removedWidgets": [],
       "schema": [
        {
         "metadata": "{}",
         "name": "player_name",
         "type": "\"string\""
        },
        {
         "metadata": "{}",
         "name": "total_tackles",
         "type": "\"long\""
        },
        {
         "metadata": "{}",
         "name": "total_clearances",
         "type": "\"long\""
        },
        {
         "metadata": "{}",
         "name": "total_last_man_tackles",
         "type": "\"long\""
        }
       ],
       "type": "table"
      }
     },
     "output_type": "display_data"
    }
   ],
   "source": [
    "%sql\n",
    "SELECT player_name, \n",
    "       SUM(total_tackle) AS total_tackles, \n",
    "       SUM(clearance_off_line) AS total_clearances,\n",
    "       SUM(last_man_tackle) AS total_last_man_tackles\n",
    "FROM P_M\n",
    "GROUP BY player_name\n",
    "ORDER BY total_tackles DESC, total_clearances DESC, total_last_man_tackles DESC\n",
    "LIMIT 10;"
   ]
  },
  {
   "cell_type": "code",
   "execution_count": 0,
   "metadata": {
    "application/vnd.databricks.v1+cell": {
     "cellMetadata": {
      "byteLimit": 2048000,
      "implicitDf": true,
      "rowLimit": 10000
     },
     "inputWidgets": {},
     "nuid": "dac1b833-6b61-42ad-82a3-5be72f7c13e0",
     "showTitle": false,
     "title": ""
    }
   },
   "outputs": [
    {
     "output_type": "display_data",
     "data": {
      "text/html": [
       "<style scoped>\n",
       "  .table-result-container {\n",
       "    max-height: 300px;\n",
       "    overflow: auto;\n",
       "  }\n",
       "  table, th, td {\n",
       "    border: 1px solid black;\n",
       "    border-collapse: collapse;\n",
       "  }\n",
       "  th, td {\n",
       "    padding: 5px;\n",
       "  }\n",
       "  th {\n",
       "    text-align: left;\n",
       "  }\n",
       "</style><div class='table-result-container'><table class='table-result'><thead style='background-color: white'><tr><th>player_name</th><th>total_fouls</th><th>total_yellow_cards</th><th>total_red_cards</th></tr></thead><tbody><tr><td>Luka Milivojevic</td><td>69</td><td>8</td><td>0</td></tr><tr><td>Jordan Ayew</td><td>63</td><td>2</td><td>1</td></tr><tr><td>Glenn Murray</td><td>60</td><td>9</td><td>0</td></tr><tr><td>Wilfred Ndidi</td><td>60</td><td>6</td><td>2</td></tr><tr><td>Erik Pieters</td><td>58</td><td>5</td><td>0</td></tr><tr><td>Granit Xhaka</td><td>57</td><td>10</td><td>0</td></tr><tr><td>Roberto Firmino</td><td>57</td><td>1</td><td>0</td></tr><tr><td>Oriol Romeu</td><td>53</td><td>11</td><td>0</td></tr><tr><td>Ashley Barnes</td><td>53</td><td>10</td><td>0</td></tr><tr><td>Idrissa Gueye</td><td>50</td><td>6</td><td>1</td></tr><tr><td>Dale Stephens</td><td>50</td><td>6</td><td>0</td></tr><tr><td>Tiemoué Bakayoko</td><td>50</td><td>3</td><td>1</td></tr><tr><td>Joe Allen</td><td>49</td><td>8</td><td>0</td></tr><tr><td>Christian Benteke</td><td>48</td><td>6</td><td>0</td></tr><tr><td>Mousa Dembélé</td><td>48</td><td>6</td><td>0</td></tr><tr><td>Dusan Tadic</td><td>46</td><td>4</td><td>0</td></tr><tr><td>Zanka</td><td>45</td><td>6</td><td>0</td></tr><tr><td>Cheikhou Kouyaté</td><td>45</td><td>5</td><td>0</td></tr><tr><td>Wilfried Zaha</td><td>45</td><td>5</td><td>0</td></tr><tr><td>Joshua King</td><td>45</td><td>3</td><td>0</td></tr><tr><td>Abdoulaye Doucouré</td><td>44</td><td>10</td><td>0</td></tr><tr><td>Paul Pogba</td><td>44</td><td>5</td><td>1</td></tr><tr><td>James McArthur</td><td>44</td><td>5</td><td>0</td></tr><tr><td>Mohamed Diamé</td><td>44</td><td>3</td><td>0</td></tr><tr><td>Dele Alli</td><td>43</td><td>7</td><td>0</td></tr><tr><td>Dominic Calvert-Lewin</td><td>43</td><td>4</td><td>0</td></tr><tr><td>Jay Rodriguez</td><td>43</td><td>2</td><td>0</td></tr><tr><td>Jake Livermore</td><td>42</td><td>5</td><td>0</td></tr><tr><td>Salomón Rondón</td><td>42</td><td>4</td><td>0</td></tr><tr><td>Fernandinho</td><td>41</td><td>7</td><td>0</td></tr><tr><td>Álvaro Morata</td><td>41</td><td>7</td><td>0</td></tr><tr><td>N'Golo Kanté</td><td>41</td><td>3</td><td>0</td></tr><tr><td>Davy Pröpper</td><td>41</td><td>2</td><td>1</td></tr><tr><td>Peter Crouch</td><td>40</td><td>4</td><td>0</td></tr><tr><td>Morgan Schneiderlin</td><td>39</td><td>5</td><td>1</td></tr><tr><td>Raheem Sterling</td><td>39</td><td>3</td><td>1</td></tr><tr><td>Dan Gosling</td><td>38</td><td>8</td><td>0</td></tr><tr><td>Antonio Valencia</td><td>38</td><td>7</td><td>0</td></tr><tr><td>Tom Davies</td><td>38</td><td>7</td><td>0</td></tr><tr><td>Mame Biram Diouf</td><td>38</td><td>6</td><td>0</td></tr><tr><td>José Holebas</td><td>37</td><td>7</td><td>0</td></tr><tr><td>Matt Ritchie</td><td>37</td><td>6</td><td>0</td></tr><tr><td>Richarlison</td><td>37</td><td>4</td><td>0</td></tr><tr><td>Callum Wilson</td><td>37</td><td>0</td><td>0</td></tr><tr><td>Lewis Dunk</td><td>36</td><td>7</td><td>0</td></tr><tr><td>Héctor Bellerín</td><td>36</td><td>5</td><td>0</td></tr><tr><td>Ayoze Pérez</td><td>36</td><td>3</td><td>0</td></tr><tr><td>James McClean</td><td>35</td><td>7</td><td>0</td></tr><tr><td>Yohan Cabaye</td><td>35</td><td>7</td><td>0</td></tr><tr><td>Craig Dawson</td><td>35</td><td>6</td><td>0</td></tr><tr><td>Marko Arnautovic</td><td>35</td><td>5</td><td>1</td></tr><tr><td>Wayne Rooney</td><td>35</td><td>5</td><td>0</td></tr><tr><td>Harry Maguire</td><td>34</td><td>7</td><td>0</td></tr><tr><td>Shane Long</td><td>34</td><td>6</td><td>0</td></tr><tr><td>Harry Kane</td><td>34</td><td>5</td><td>0</td></tr><tr><td>Jesse Lingard</td><td>34</td><td>2</td><td>0</td></tr><tr><td>Pablo Zabaleta</td><td>33</td><td>9</td><td>0</td></tr><tr><td>Shane Duffy</td><td>33</td><td>8</td><td>0</td></tr><tr><td>Nemanja Matic</td><td>33</td><td>6</td><td>0</td></tr><tr><td>Lewis Cook</td><td>33</td><td>5</td><td>0</td></tr><tr><td>Pascal Groß</td><td>33</td><td>2</td><td>0</td></tr><tr><td>Tom Cleverley</td><td>33</td><td>1</td><td>1</td></tr><tr><td>Jonathan Hogg</td><td>32</td><td>8</td><td>1</td></tr><tr><td>Pierre-Emile Højbjerg</td><td>32</td><td>6</td><td>0</td></tr><tr><td>DeAndre Yedlin</td><td>32</td><td>5</td><td>0</td></tr><tr><td>Adrian Mariappa</td><td>32</td><td>4</td><td>0</td></tr><tr><td>Sead Kolasinac</td><td>32</td><td>3</td><td>0</td></tr><tr><td>Ryan Bertrand</td><td>32</td><td>2</td><td>0</td></tr><tr><td>Christian Kabasele</td><td>31</td><td>5</td><td>0</td></tr><tr><td>Alexis Sánchez</td><td>31</td><td>5</td><td>0</td></tr><tr><td>Wes Morgan</td><td>31</td><td>4</td><td>0</td></tr><tr><td>Romelu Lukaku</td><td>31</td><td>4</td><td>0</td></tr><tr><td>Grzegorz Krychowiak</td><td>31</td><td>2</td><td>0</td></tr><tr><td>Oumar Niasse</td><td>31</td><td>2</td><td>0</td></tr><tr><td>Kyle Naughton</td><td>31</td><td>1</td><td>0</td></tr><tr><td>Isaac Hayden</td><td>30</td><td>7</td><td>0</td></tr><tr><td>Christopher Schindler</td><td>30</td><td>6</td><td>1</td></tr><tr><td>Arthur Masuaku</td><td>30</td><td>5</td><td>0</td></tr><tr><td>Mikel Merino</td><td>30</td><td>4</td><td>0</td></tr><tr><td>Kevin De Bruyne</td><td>30</td><td>2</td><td>0</td></tr><tr><td>Joselu</td><td>30</td><td>2</td><td>0</td></tr><tr><td>Ashley Young</td><td>29</td><td>7</td><td>0</td></tr><tr><td>Federico Fernández</td><td>29</td><td>5</td><td>0</td></tr><tr><td>Rajiv van La Parra</td><td>29</td><td>3</td><td>1</td></tr><tr><td>Solly March</td><td>29</td><td>3</td><td>0</td></tr><tr><td>James Milner</td><td>29</td><td>3</td><td>0</td></tr><tr><td>Jamie Vardy</td><td>29</td><td>3</td><td>0</td></tr><tr><td>Nicolás Otamendi</td><td>28</td><td>9</td><td>0</td></tr><tr><td>Mark Noble</td><td>28</td><td>6</td><td>0</td></tr><tr><td>Gabriel Jesus</td><td>28</td><td>6</td><td>0</td></tr><tr><td>Andy Carroll</td><td>28</td><td>5</td><td>1</td></tr><tr><td>Leroy Fer</td><td>28</td><td>5</td><td>0</td></tr><tr><td>Xherdan Shaqiri</td><td>28</td><td>5</td><td>0</td></tr><tr><td>Ander Herrera</td><td>28</td><td>5</td><td>0</td></tr><tr><td>Gareth Barry</td><td>28</td><td>4</td><td>0</td></tr><tr><td>Steve Mounie</td><td>28</td><td>2</td><td>0</td></tr><tr><td>Mario Lemina</td><td>28</td><td>2</td><td>0</td></tr><tr><td>Alexandre Lacazette</td><td>28</td><td>1</td><td>0</td></tr><tr><td>Laurent Depoitre</td><td>28</td><td>1</td><td>0</td></tr><tr><td>Aaron Ramsey</td><td>28</td><td>0</td><td>0</td></tr><tr><td>Emre Can</td><td>27</td><td>8</td><td>0</td></tr><tr><td>Martin Olsson</td><td>27</td><td>7</td><td>0</td></tr><tr><td>Nathan Aké</td><td>27</td><td>5</td><td>0</td></tr><tr><td>Pedro Obiang</td><td>27</td><td>3</td><td>0</td></tr><tr><td>Sofiane Boufal</td><td>27</td><td>1</td><td>0</td></tr><tr><td>Jonny Evans</td><td>26</td><td>7</td><td>0</td></tr><tr><td>Shkodran Mustafi</td><td>26</td><td>6</td><td>0</td></tr><tr><td>Marcos Alonso</td><td>26</td><td>6</td><td>0</td></tr><tr><td>Antonio Rüdiger</td><td>26</td><td>4</td><td>0</td></tr><tr><td>Aaron Mooy</td><td>26</td><td>4</td><td>0</td></tr><tr><td>Ryan Shawcross</td><td>26</td><td>2</td><td>0</td></tr><tr><td>Jordan Henderson</td><td>26</td><td>1</td><td>0</td></tr><tr><td>Cuco Martina</td><td>26</td><td>1</td><td>0</td></tr><tr><td>James Tarkowski</td><td>25</td><td>5</td><td>0</td></tr><tr><td>Claudio Yacob</td><td>25</td><td>5</td><td>0</td></tr><tr><td>Cesc Fàbregas</td><td>25</td><td>4</td><td>1</td></tr><tr><td>Joel Ward</td><td>25</td><td>4</td><td>0</td></tr><tr><td>Ashley Williams</td><td>25</td><td>3</td><td>1</td></tr><tr><td>Davinson Sánchez</td><td>25</td><td>1</td><td>1</td></tr><tr><td>César Azpilicueta</td><td>25</td><td>1</td><td>0</td></tr><tr><td>Cenk Tosun</td><td>25</td><td>0</td><td>0</td></tr><tr><td>Simon Francis</td><td>24</td><td>8</td><td>1</td></tr><tr><td>Badou Ndiaye</td><td>24</td><td>5</td><td>0</td></tr><tr><td>André Ayew</td><td>24</td><td>5</td><td>0</td></tr><tr><td>Ahmed Hegazi</td><td>24</td><td>4</td><td>0</td></tr><tr><td>Erik Lamela</td><td>24</td><td>4</td><td>0</td></tr><tr><td>Leroy Sané</td><td>24</td><td>4</td><td>0</td></tr><tr><td>Chris Smalling</td><td>24</td><td>4</td><td>0</td></tr><tr><td>Sadio Mané</td><td>24</td><td>3</td><td>1</td></tr><tr><td>Ben Davies</td><td>24</td><td>3</td><td>0</td></tr><tr><td>Javier Manquillo</td><td>24</td><td>2</td><td>0</td></tr><tr><td>Troy Deeney</td><td>24</td><td>1</td><td>1</td></tr><tr><td>Jack Cork</td><td>23</td><td>7</td><td>0</td></tr><tr><td>Adam Smith</td><td>23</td><td>6</td><td>0</td></tr><tr><td>Eric Dier</td><td>23</td><td>4</td><td>0</td></tr><tr><td>Tom Carroll</td><td>23</td><td>3</td><td>0</td></tr><tr><td>Moussa Sissoko</td><td>23</td><td>3</td><td>0</td></tr><tr><td>Dwight Gayle</td><td>23</td><td>3</td><td>0</td></tr><tr><td>Victor Moses</td><td>23</td><td>3</td><td>0</td></tr><tr><td>Jonjo Shelvey</td><td>23</td><td>2</td><td>2</td></tr><tr><td>Riyad Mahrez</td><td>23</td><td>2</td><td>0</td></tr><tr><td>Henrikh Mkhitaryan</td><td>23</td><td>2</td><td>0</td></tr><tr><td>Wesley Hoedt</td><td>22</td><td>7</td><td>0</td></tr><tr><td>Phil Bardsley</td><td>22</td><td>5</td><td>0</td></tr><tr><td>Steve Cook</td><td>22</td><td>5</td><td>0</td></tr><tr><td>Anthony Knockaert</td><td>22</td><td>4</td><td>1</td></tr><tr><td>Mike van der Hoorn</td><td>22</td><td>4</td><td>0</td></tr><tr><td>Kieran Gibbs</td><td>22</td><td>3</td><td>0</td></tr><tr><td>Tom Ince</td><td>22</td><td>0</td><td>0</td></tr><tr><td>Sebastian Prödl</td><td>21</td><td>5</td><td>0</td></tr><tr><td>David Silva</td><td>21</td><td>5</td><td>0</td></tr><tr><td>Danny Simpson</td><td>21</td><td>4</td><td>0</td></tr><tr><td>Etienne Capoue</td><td>21</td><td>3</td><td>0</td></tr><tr><td>Scott Arfield</td><td>21</td><td>3</td><td>0</td></tr><tr><td>Eric Maxim Choupo-Moting</td><td>21</td><td>3</td><td>0</td></tr><tr><td>Michael Keane</td><td>21</td><td>3</td><td>0</td></tr><tr><td>Marcus Rashford</td><td>21</td><td>3</td><td>0</td></tr><tr><td>Matty James</td><td>21</td><td>2</td><td>0</td></tr><tr><td>Stefano Okaka</td><td>21</td><td>2</td><td>0</td></tr><tr><td>Aaron Lennon</td><td>21</td><td>2</td><td>0</td></tr><tr><td>Serge Aurier</td><td>21</td><td>1</td><td>1</td></tr><tr><td>James Tomkins</td><td>20</td><td>8</td><td>0</td></tr><tr><td>Aaron Cresswell</td><td>20</td><td>7</td><td>0</td></tr><tr><td>Allan Nyom</td><td>20</td><td>7</td><td>0</td></tr><tr><td>Tommy Smith</td><td>20</td><td>7</td><td>0</td></tr><tr><td>Marc Albrighton</td><td>20</td><td>5</td><td>1</td></tr><tr><td>Kevin Wimmer</td><td>20</td><td>5</td><td>0</td></tr><tr><td>Jan Vertonghen</td><td>20</td><td>4</td><td>0</td></tr><tr><td>Robbie Brady</td><td>20</td><td>3</td><td>0</td></tr><tr><td>Sam Vokes</td><td>20</td><td>3</td><td>0</td></tr><tr><td>Hal Robson-Kanu</td><td>20</td><td>2</td><td>1</td></tr><tr><td>José Izquierdo</td><td>20</td><td>2</td><td>0</td></tr><tr><td>Shinji Okazaki</td><td>20</td><td>2</td><td>0</td></tr><tr><td>Elias Kachunga</td><td>20</td><td>1</td><td>0</td></tr><tr><td>Moritz Bauer</td><td>19</td><td>4</td><td>0</td></tr><tr><td>Bruno</td><td>19</td><td>3</td><td>0</td></tr><tr><td>Nacho Monreal</td><td>19</td><td>3</td><td>0</td></tr><tr><td>Joel Matip</td><td>19</td><td>3</td><td>0</td></tr><tr><td>Scott Malone</td><td>19</td><td>3</td><td>0</td></tr><tr><td>Nathan Redmond</td><td>19</td><td>3</td><td>0</td></tr><tr><td>Alfie Mawson</td><td>19</td><td>3</td><td>0</td></tr><tr><td>Maya Yoshida</td><td>19</td><td>2</td><td>1</td></tr><tr><td>Gylfi Sigurdsson</td><td>19</td><td>2</td><td>0</td></tr><tr><td>Matthew Lowton</td><td>19</td><td>1</td><td>0</td></tr><tr><td>Kurt Zouma</td><td>19</td><td>1</td><td>0</td></tr><tr><td>Jeff Hendrick</td><td>19</td><td>1</td><td>0</td></tr><tr><td>Vicente Iborra</td><td>19</td><td>0</td><td>0</td></tr><tr><td>Will Hughes</td><td>19</td><td>0</td><td>0</td></tr><tr><td>Patrick van Aanholt</td><td>18</td><td>7</td><td>0</td></tr><tr><td>Vincent Kompany</td><td>18</td><td>6</td><td>0</td></tr><tr><td>Mesut Özil</td><td>18</td><td>4</td><td>0</td></tr><tr><td>Roberto Pereyra</td><td>18</td><td>3</td><td>0</td></tr><tr><td>Jeffrey Schlupp</td><td>18</td><td>3</td><td>0</td></tr><tr><td>James Ward-Prowse</td><td>18</td><td>3</td><td>0</td></tr><tr><td>Timothy Fosu-Mensah</td><td>18</td><td>2</td><td>0</td></tr><tr><td>Kieran Trippier</td><td>18</td><td>1</td><td>0</td></tr><tr><td>Chris Wood</td><td>18</td><td>1</td><td>0</td></tr><tr><td>Marvin Zeegelaar</td><td>17</td><td>4</td><td>1</td></tr><tr><td>Ciaran Clark</td><td>17</td><td>3</td><td>0</td></tr><tr><td>Alex Oxlade Chamberlain</td><td>17</td><td>3</td><td>0</td></tr><tr><td>Florent Hadergjonaj</td><td>17</td><td>3</td><td>0</td></tr><tr><td>Florian Lejeune</td><td>17</td><td>3</td><td>0</td></tr><tr><td>Kyle Walker</td><td>17</td><td>2</td><td>1</td></tr><tr><td>Jonjoe Kenny</td><td>17</td><td>2</td><td>0</td></tr><tr><td>Danny Williams</td><td>17</td><td>2</td><td>0</td></tr><tr><td>Kelechi Iheanacho</td><td>17</td><td>2</td><td>0</td></tr><tr><td>Nathan Dyer</td><td>17</td><td>2</td><td>0</td></tr><tr><td>Gary Cahill</td><td>17</td><td>1</td><td>1</td></tr><tr><td>Ruben Loftus-Cheek</td><td>17</td><td>1</td><td>0</td></tr><tr><td>Michail Antonio</td><td>17</td><td>1</td><td>0</td></tr><tr><td>Anthony Martial</td><td>17</td><td>1</td><td>0</td></tr><tr><td>Jamaal Lascelles</td><td>16</td><td>5</td><td>0</td></tr><tr><td>Cédric Soares</td><td>16</td><td>3</td><td>0</td></tr><tr><td>Gaëtan Bong</td><td>16</td><td>2</td><td>0</td></tr><tr><td>Charlie Austin</td><td>16</td><td>2</td><td>0</td></tr><tr><td>Geoff Cameron</td><td>16</td><td>2</td><td>0</td></tr><tr><td>Mohamed Salah</td><td>16</td><td>1</td><td>0</td></tr><tr><td>Jack Wilshere</td><td>15</td><td>6</td><td>0</td></tr><tr><td>Chris Brunt</td><td>15</td><td>5</td><td>0</td></tr><tr><td>Dejan Lovren</td><td>15</td><td>4</td><td>0</td></tr><tr><td>Angelo Ogbonna</td><td>15</td><td>3</td><td>0</td></tr><tr><td>Chicharito</td><td>15</td><td>3</td><td>0</td></tr><tr><td>Joseph Gomez</td><td>15</td><td>3</td><td>0</td></tr><tr><td>Andrew Robertson</td><td>15</td><td>2</td><td>0</td></tr><tr><td>Beram Kayal</td><td>15</td><td>2</td><td>0</td></tr><tr><td>Fabian Delph</td><td>15</td><td>2</td><td>0</td></tr><tr><td>Kevin Long</td><td>15</td><td>1</td><td>0</td></tr><tr><td>Kenedy</td><td>15</td><td>1</td><td>0</td></tr><tr><td>Tammy Abraham</td><td>15</td><td>0</td><td>0</td></tr><tr><td>Son Heung-Min</td><td>15</td><td>0</td><td>0</td></tr><tr><td>Ben Mee</td><td>14</td><td>5</td><td>0</td></tr><tr><td>Winston Reid</td><td>14</td><td>5</td><td>0</td></tr><tr><td>Jason Puncheon</td><td>14</td><td>5</td><td>0</td></tr><tr><td>Collin Quaner</td><td>14</td><td>4</td><td>0</td></tr><tr><td>Laurent Koscielny</td><td>14</td><td>4</td><td>0</td></tr><tr><td>Roque Mesa</td><td>14</td><td>3</td><td>0</td></tr><tr><td>Ilkay Gündogan</td><td>14</td><td>3</td><td>0</td></tr><tr><td>Philip Billing</td><td>14</td><td>3</td><td>0</td></tr><tr><td>Matt Phillips</td><td>14</td><td>3</td><td>0</td></tr><tr><td>Daryl Janmaat</td><td>14</td><td>3</td><td>0</td></tr><tr><td>Ramadan Sobhi</td><td>14</td><td>2</td><td>0</td></tr><tr><td>Manolo Gabbiadini</td><td>14</td><td>2</td><td>0</td></tr><tr><td>Virgil van Dijk</td><td>14</td><td>1</td><td>0</td></tr><tr><td>Christian Eriksen</td><td>14</td><td>0</td><td>0</td></tr><tr><td>Darren Fletcher</td><td>14</td><td>0</td><td>0</td></tr><tr><td>João Mário</td><td>14</td><td>0</td><td>0</td></tr><tr><td>Jack Stephens</td><td>13</td><td>6</td><td>1</td></tr><tr><td>Steven Defour</td><td>13</td><td>6</td><td>0</td></tr><tr><td>James Collins</td><td>13</td><td>3</td><td>0</td></tr><tr><td>Eden Hazard</td><td>13</td><td>2</td><td>0</td></tr><tr><td>Ashley Westwood</td><td>13</td><td>2</td><td>0</td></tr><tr><td>Victor Wanyama</td><td>13</td><td>2</td><td>0</td></tr><tr><td>André Carrillo</td><td>13</td><td>2</td><td>0</td></tr><tr><td>Ben Chilwell</td><td>13</td><td>1</td><td>1</td></tr><tr><td>Chris Löwe</td><td>13</td><td>1</td><td>0</td></tr><tr><td>Danny Welbeck</td><td>13</td><td>1</td><td>0</td></tr><tr><td>Georginio Wijnaldum</td><td>13</td><td>1</td><td>0</td></tr><tr><td>Marouane Fellaini</td><td>13</td><td>1</td><td>0</td></tr><tr><td>Dominic Solanke</td><td>13</td><td>0</td><td>0</td></tr><tr><td>Olivier Giroud</td><td>13</td><td>0</td><td>0</td></tr><tr><td>David Luiz</td><td>12</td><td>4</td><td>1</td></tr><tr><td>Danny Rose</td><td>12</td><td>4</td><td>0</td></tr><tr><td>Scott Dann</td><td>12</td><td>4</td><td>0</td></tr><tr><td>Mason Holgate</td><td>12</td><td>3</td><td>0</td></tr><tr><td>Bruno Martins Indi</td><td>12</td><td>3</td><td>0</td></tr><tr><td>Trent Alexander-Arnold</td><td>12</td><td>3</td><td>0</td></tr><tr><td>Danilo</td><td>12</td><td>2</td><td>0</td></tr><tr><td>Christian Fuchs</td><td>12</td><td>1</td><td>0</td></tr><tr><td>Juan Mata</td><td>12</td><td>1</td><td>0</td></tr><tr><td>Jermain Defoe</td><td>12</td><td>1</td><td>0</td></tr><tr><td>Yannick Bolasie</td><td>12</td><td>0</td><td>0</td></tr><tr><td>Andros Townsend</td><td>11</td><td>3</td><td>0</td></tr><tr><td>Sam Field</td><td>11</td><td>2</td><td>0</td></tr><tr><td>Stephen Ward</td><td>11</td><td>1</td><td>0</td></tr><tr><td>Andre Gray</td><td>11</td><td>1</td><td>0</td></tr><tr><td>Lys Mousset</td><td>11</td><td>1</td><td>0</td></tr><tr><td>Ben Watson</td><td>11</td><td>1</td><td>0</td></tr><tr><td>Alex Iwobi</td><td>11</td><td>1</td><td>0</td></tr><tr><td>Sam Clucas</td><td>10</td><td>2</td><td>0</td></tr><tr><td>Ki Sung-yueng</td><td>10</td><td>2</td><td>0</td></tr><tr><td>Eric Bailly</td><td>10</td><td>2</td><td>0</td></tr><tr><td>Sergio Agüero</td><td>10</td><td>2</td><td>0</td></tr><tr><td>Phil Jones</td><td>10</td><td>2</td><td>0</td></tr><tr><td>Aymeric Laporte</td><td>10</td><td>1</td><td>0</td></tr><tr><td>Christian Atsu</td><td>10</td><td>1</td><td>0</td></tr><tr><td>Calum Chambers</td><td>10</td><td>1</td><td>0</td></tr><tr><td>Victor Lindelöf</td><td>10</td><td>1</td><td>0</td></tr><tr><td>Ainsley Maitland-Niles</td><td>10</td><td>1</td><td>0</td></tr><tr><td>Jordon Ibe</td><td>10</td><td>1</td><td>0</td></tr><tr><td>Willian</td><td>10</td><td>1</td><td>0</td></tr><tr><td>Tomer Hemed</td><td>10</td><td>0</td><td>0</td></tr><tr><td>Daniel Drinkwater</td><td>10</td><td>0</td><td>0</td></tr><tr><td>Manuel Lanzini</td><td>9</td><td>4</td><td>0</td></tr><tr><td>Harry Arter</td><td>9</td><td>4</td><td>0</td></tr><tr><td>Adrien Silva</td><td>9</td><td>3</td><td>0</td></tr><tr><td>Rob Holding</td><td>9</td><td>3</td><td>0</td></tr><tr><td>Johann Berg Gudmundsson</td><td>9</td><td>2</td><td>0</td></tr><tr><td>Andrew Surman</td><td>9</td><td>2</td><td>0</td></tr><tr><td>Andy King</td><td>9</td><td>2</td><td>0</td></tr><tr><td>Wayne Routledge</td><td>9</td><td>1</td><td>0</td></tr><tr><td>Pedro</td><td>9</td><td>1</td><td>0</td></tr><tr><td>Bernardo Silva</td><td>9</td><td>0</td><td>0</td></tr><tr><td>Benik Afobe</td><td>9</td><td>0</td><td>0</td></tr><tr><td>Johann Gudmundsson</td><td>9</td><td>0</td><td>0</td></tr><tr><td>Marcos Rojo</td><td>8</td><td>6</td><td>0</td></tr><tr><td>Miguel Britos</td><td>8</td><td>3</td><td>1</td></tr><tr><td>Ezequiel Schelotto</td><td>8</td><td>3</td><td>0</td></tr><tr><td>Toby Alderweireld</td><td>8</td><td>3</td><td>0</td></tr><tr><td>Charlie Adam</td><td>8</td><td>2</td><td>1</td></tr><tr><td>Phil Jagielka</td><td>8</td><td>2</td><td>0</td></tr><tr><td>Martin Kelly</td><td>8</td><td>1</td><td>0</td></tr><tr><td>Renato Sanches</td><td>8</td><td>1</td><td>0</td></tr><tr><td>Paul Dummett</td><td>8</td><td>1</td><td>0</td></tr><tr><td>Alberto Moreno</td><td>8</td><td>1</td><td>0</td></tr><tr><td>Harry Winks</td><td>8</td><td>0</td><td>0</td></tr><tr><td>Bakary Sako</td><td>8</td><td>0</td><td>0</td></tr><tr><td>Steven Davis</td><td>8</td><td>0</td><td>0</td></tr><tr><td>Andreas Christensen</td><td>8</td><td>0</td><td>0</td></tr><tr><td>Jacob Murphy</td><td>8</td><td>0</td><td>0</td></tr><tr><td>Charlie Taylor</td><td>7</td><td>3</td><td>0</td></tr><tr><td>Demarai Gray</td><td>7</td><td>2</td><td>0</td></tr><tr><td>Aleksandar Dragovic</td><td>7</td><td>2</td><td>0</td></tr><tr><td>Marc Pugh</td><td>7</td><td>2</td><td>0</td></tr><tr><td>Kiko Femenía</td><td>7</td><td>2</td><td>0</td></tr><tr><td>Wilfried Bony</td><td>7</td><td>2</td><td>0</td></tr><tr><td>Scott McTominay</td><td>7</td><td>2</td><td>0</td></tr><tr><td>Theo Walcott</td><td>7</td><td>2</td><td>0</td></tr><tr><td>Leon Britton</td><td>7</td><td>1</td><td>0</td></tr><tr><td>Oleksandr Zinchenko</td><td>7</td><td>1</td><td>0</td></tr><tr><td>Leighton Baines</td><td>7</td><td>1</td><td>0</td></tr><tr><td>Ragnar Klavan</td><td>7</td><td>0</td><td>0</td></tr><tr><td>Leonardo Ulloa</td><td>7</td><td>0</td><td>0</td></tr><tr><td>Guido Carrillo</td><td>7</td><td>0</td><td>0</td></tr><tr><td>Charlie Daniels</td><td>7</td><td>0</td><td>0</td></tr><tr><td>Davide Zappacosta</td><td>7</td><td>0</td><td>0</td></tr><tr><td>Nikola Vlasic</td><td>7</td><td>0</td><td>0</td></tr><tr><td>Glen Johnson</td><td>6</td><td>3</td><td>0</td></tr><tr><td>Benjamin Mendy</td><td>6</td><td>2</td><td>0</td></tr><tr><td>Junior Stanislas</td><td>6</td><td>1</td><td>0</td></tr><tr><td>Danny Ings</td><td>6</td><td>0</td><td>0</td></tr><tr><td>Saido Berahino</td><td>6</td><td>0</td><td>0</td></tr><tr><td>John Stones</td><td>6</td><td>0</td><td>0</td></tr><tr><td>José Fonte</td><td>6</td><td>0</td><td>0</td></tr><tr><td>Ryan Fraser</td><td>6</td><td>0</td><td>0</td></tr><tr><td>Nordin Amrabat</td><td>6</td><td>0</td><td>0</td></tr><tr><td>Alexander Sørloth</td><td>6</td><td>0</td><td>0</td></tr><tr><td>Kyle Bartley</td><td>5</td><td>2</td><td>0</td></tr><tr><td>Yaya Touré</td><td>5</td><td>1</td><td>0</td></tr><tr><td>Hamza Choudhury</td><td>5</td><td>1</td><td>0</td></tr><tr><td>Declan Rice</td><td>5</td><td>1</td><td>0</td></tr><tr><td>Edimilson Fernandes</td><td>5</td><td>1</td><td>0</td></tr><tr><td>Alex Pritchard</td><td>5</td><td>1</td><td>0</td></tr><tr><td>Daniel Amartey</td><td>5</td><td>0</td><td>1</td></tr><tr><td>Ademola Lookman</td><td>5</td><td>0</td><td>0</td></tr><tr><td>Chancel Mbemba</td><td>5</td><td>0</td><td>0</td></tr><tr><td>Philippe Coutinho</td><td>5</td><td>0</td><td>0</td></tr><tr><td>Davy Klaassen</td><td>5</td><td>0</td><td>0</td></tr><tr><td>Markus Suttner</td><td>5</td><td>0</td><td>0</td></tr><tr><td>Matteo Darmian</td><td>5</td><td>0</td><td>0</td></tr><tr><td>Terence Kongolo</td><td>5</td><td>0</td><td>0</td></tr><tr><td>Jesé</td><td>5</td><td>0</td><td>0</td></tr><tr><td>Molla Wagué</td><td>5</td><td>0</td><td>0</td></tr><tr><td>Mohamed Elneny</td><td>4</td><td>3</td><td>1</td></tr><tr><td>Luke Shaw</td><td>4</td><td>2</td><td>0</td></tr><tr><td>Kasey Palmer</td><td>4</td><td>2</td><td>0</td></tr><tr><td>Diafra Sakho</td><td>4</td><td>2</td><td>0</td></tr><tr><td>Sam Byram</td><td>4</td><td>1</td><td>0</td></tr><tr><td>Georges-Kévin Nkoudou</td><td>4</td><td>1</td><td>0</td></tr><tr><td>Adam Lallana</td><td>4</td><td>1</td><td>0</td></tr><tr><td>Abdelhamid Sabiri</td><td>4</td><td>1</td><td>0</td></tr><tr><td>Beni Baningime</td><td>4</td><td>1</td><td>0</td></tr><tr><td>Nathaniel Clyne</td><td>4</td><td>1</td><td>0</td></tr><tr><td>Fernando Llorente</td><td>4</td><td>1</td><td>0</td></tr><tr><td>Daley Blind</td><td>4</td><td>0</td><td>0</td></tr><tr><td>Nahki Wells</td><td>4</td><td>0</td><td>0</td></tr><tr><td>Oliver McBurnie</td><td>4</td><td>0</td><td>0</td></tr><tr><td>Lucas Moura</td><td>4</td><td>0</td><td>0</td></tr><tr><td>Michy Batshuayi</td><td>4</td><td>0</td><td>0</td></tr><tr><td>Konstantinos Stafylidis</td><td>4</td><td>0</td><td>0</td></tr><tr><td>Nathaniel Chalobah</td><td>3</td><td>1</td><td>0</td></tr><tr><td>Ramiro Funes Mori</td><td>3</td><td>1</td><td>0</td></tr><tr><td>Mamadou Sakho</td><td>3</td><td>1</td><td>0</td></tr><tr><td>Jan Bednarek</td><td>3</td><td>1</td><td>0</td></tr><tr><td>Islam Slimani</td><td>3</td><td>1</td><td>0</td></tr><tr><td>Joe Lolley</td><td>3</td><td>1</td><td>0</td></tr><tr><td>Charly Musonda</td><td>3</td><td>0</td><td>0</td></tr><tr><td>Joe Willock</td><td>3</td><td>0</td><td>0</td></tr><tr><td>James McCarthy</td><td>3</td><td>0</td><td>0</td></tr><tr><td>Eliaquim Mangala</td><td>3</td><td>0</td><td>0</td></tr><tr><td>Luciano Narsingh</td><td>3</td><td>0</td><td>0</td></tr><tr><td>Thomas Edwards</td><td>3</td><td>0</td><td>0</td></tr><tr><td>Emerson</td><td>3</td><td>0</td><td>0</td></tr><tr><td>Jairo Riedewald</td><td>3</td><td>0</td><td>0</td></tr><tr><td>Aleksandar Mitrovic</td><td>3</td><td>0</td><td>0</td></tr><tr><td>Gerard Deulofeu</td><td>3</td><td>0</td><td>0</td></tr><tr><td>Isaiah Brown</td><td>3</td><td>0</td><td>0</td></tr><tr><td>Seamus Coleman</td><td>3</td><td>0</td><td>0</td></tr><tr><td>Jordan Hugill</td><td>3</td><td>0</td><td>0</td></tr><tr><td>Simon Mignolet</td><td>2</td><td>3</td><td>0</td></tr><tr><td>Thibaut Courtois</td><td>2</td><td>2</td><td>0</td></tr><tr><td>Asmir Begovic</td><td>2</td><td>2</td><td>0</td></tr><tr><td>Michael Hefele</td><td>2</td><td>1</td><td>0</td></tr><tr><td>Connor Goldson</td><td>2</td><td>1</td><td>0</td></tr><tr><td>Loris Karius</td><td>2</td><td>1</td><td>0</td></tr><tr><td>Aaron Wan-Bissaka</td><td>2</td><td>1</td><td>0</td></tr><tr><td>Craig Cathcart</td><td>2</td><td>1</td><td>0</td></tr><tr><td>Jay Fulton</td><td>2</td><td>1</td><td>0</td></tr><tr><td>Tyrone Mings</td><td>2</td><td>1</td><td>0</td></tr><tr><td>Konstantinos Mavropanos</td><td>2</td><td>0</td><td>1</td></tr><tr><td>Per Mertesacker</td><td>2</td><td>0</td><td>0</td></tr><tr><td>Oliver Burke</td><td>2</td><td>0</td><td>0</td></tr><tr><td>Lasse Sorensen</td><td>2</td><td>0</td><td>0</td></tr><tr><td>Jürgen Locadia</td><td>2</td><td>0</td><td>0</td></tr><tr><td>Francis Coquelin</td><td>2</td><td>0</td><td>0</td></tr><tr><td>Gareth McAuley</td><td>2</td><td>0</td><td>0</td></tr><tr><td>Nick Pope</td><td>1</td><td>3</td><td>0</td></tr><tr><td>Adrián</td><td>1</td><td>2</td><td>0</td></tr><tr><td>Ben Foster</td><td>1</td><td>2</td><td>0</td></tr><tr><td>Boaz Myhill</td><td>1</td><td>1</td><td>0</td></tr><tr><td>Kevin Mirallas</td><td>1</td><td>1</td><td>0</td></tr><tr><td>Fousseni Diabaté</td><td>1</td><td>1</td><td>0</td></tr><tr><td>Ibrahim Afellay</td><td>1</td><td>1</td><td>0</td></tr><tr><td>Nacer Chadli</td><td>1</td><td>1</td><td>0</td></tr><tr><td>Hugo Lloris</td><td>1</td><td>1</td><td>0</td></tr><tr><td>Stephen Ireland</td><td>1</td><td>1</td><td>0</td></tr><tr><td>Heurelho Gomes</td><td>1</td><td>0</td><td>0</td></tr><tr><td>Rolando Aarons</td><td>1</td><td>0</td><td>0</td></tr><tr><td>Jamie Murphy</td><td>1</td><td>0</td><td>0</td></tr><tr><td>Brahim Diaz</td><td>1</td><td>0</td><td>0</td></tr><tr><td>Younes Kaboul</td><td>1</td><td>0</td><td>0</td></tr><tr><td>Vincent Janssen</td><td>1</td><td>0</td><td>0</td></tr><tr><td>Michael Carrick</td><td>1</td><td>0</td><td>0</td></tr><tr><td>Jerome Sinclair</td><td>1</td><td>0</td><td>0</td></tr><tr><td>Daniel Sturridge</td><td>1</td><td>0</td><td>0</td></tr><tr><td>Jordan Pickford</td><td>1</td><td>0</td><td>0</td></tr><tr><td>Josh Sims</td><td>1</td><td>0</td><td>0</td></tr><tr><td>Ross Barkley</td><td>1</td><td>0</td><td>0</td></tr><tr><td>Joe Hart</td><td>1</td><td>0</td><td>0</td></tr><tr><td>Jérémy Pied</td><td>1</td><td>0</td><td>0</td></tr><tr><td>Zlatan Ibrahimovic</td><td>1</td><td>0</td><td>0</td></tr><tr><td>Sandro Ramírez</td><td>1</td><td>0</td><td>0</td></tr><tr><td>Julien Ngoy</td><td>1</td><td>0</td><td>0</td></tr><tr><td>Jeremie Boga</td><td>1</td><td>0</td><td>0</td></tr><tr><td>Yohan Benalouane</td><td>1</td><td>0</td><td>0</td></tr><tr><td>Lee Chung-yong</td><td>1</td><td>0</td><td>0</td></tr><tr><td>Kyle Walker-Peters</td><td>1</td><td>0</td><td>0</td></tr><tr><td>Lukasz Fabianski</td><td>1</td><td>0</td><td>0</td></tr><tr><td>Liam Rosenior</td><td>1</td><td>0</td><td>0</td></tr><tr><td>Reece Oxford</td><td>1</td><td>0</td><td>0</td></tr><tr><td>Angel Rangel</td><td>1</td><td>0</td><td>0</td></tr><tr><td>Eddie Nketiah</td><td>1</td><td>0</td><td>0</td></tr><tr><td>Pierre-Emerick Aubameyang</td><td>1</td><td>0</td><td>0</td></tr><tr><td>Phil Foden</td><td>1</td><td>0</td><td>0</td></tr><tr><td>Bojan</td><td>1</td><td>0</td><td>0</td></tr><tr><td>Muhamed Besic</td><td>1</td><td>0</td><td>0</td></tr><tr><td>Harvey Barnes</td><td>1</td><td>0</td><td>0</td></tr><tr><td>Matt Targett</td><td>1</td><td>0</td><td>0</td></tr><tr><td>Kasper Schmeichel</td><td>0</td><td>3</td><td>0</td></tr><tr><td>Alex McCarthy</td><td>0</td><td>2</td><td>0</td></tr><tr><td>Wayne Hennessey</td><td>0</td><td>1</td><td>0</td></tr><tr><td>Petr Cech</td><td>0</td><td>1</td><td>0</td></tr><tr><td>Jonas Lössl</td><td>0</td><td>1</td><td>0</td></tr><tr><td>Martin Cranie</td><td>0</td><td>0</td><td>0</td></tr><tr><td>Levi Lumeka</td><td>0</td><td>0</td><td>0</td></tr><tr><td>James Morrison</td><td>0</td><td>0</td><td>0</td></tr><tr><td>Uwe Hünemeier</td><td>0</td><td>0</td><td>0</td></tr><tr><td>Eldin Jakupovic</td><td>0</td><td>0</td><td>0</td></tr><tr><td>Marko Grujic</td><td>0</td><td>0</td><td>0</td></tr><tr><td>Robert Elliot</td><td>0</td><td>0</td><td>0</td></tr><tr><td>Lee Grant</td><td>0</td><td>0</td><td>0</td></tr><tr><td>Lukas Nmecha</td><td>0</td><td>0</td><td>0</td></tr><tr><td>Freddie Ladapo</td><td>0</td><td>0</td><td>0</td></tr><tr><td>Michel Vorm</td><td>0</td><td>0</td><td>0</td></tr><tr><td>Sam Baldock</td><td>0</td><td>0</td><td>0</td></tr><tr><td>Dean Whitehead</td><td>0</td><td>0</td><td>0</td></tr><tr><td>Sam McQueen</td><td>0</td><td>0</td><td>0</td></tr><tr><td>Josh Tymon</td><td>0</td><td>0</td><td>0</td></tr><tr><td>Henri Saivet</td><td>0</td><td>0</td><td>0</td></tr><tr><td>Dodi Lukebakio</td><td>0</td><td>0</td><td>0</td></tr><tr><td>Ben Hamer</td><td>0</td><td>0</td><td>0</td></tr><tr><td>Damien Delaney</td><td>0</td><td>0</td><td>0</td></tr><tr><td>Emerson Hyndman</td><td>0</td><td>0</td><td>0</td></tr><tr><td>Chung-Yong Lee</td><td>0</td><td>0</td><td>0</td></tr><tr><td>Connor Roberts</td><td>0</td><td>0</td><td>0</td></tr><tr><td>Ederson</td><td>0</td><td>0</td><td>0</td></tr><tr><td>Tyrese Campbell</td><td>0</td><td>0</td><td>0</td></tr><tr><td>David De Gea</td><td>0</td><td>0</td><td>0</td></tr><tr><td>Josh Cullen</td><td>0</td><td>0</td><td>0</td></tr><tr><td>Julian Speroni</td><td>0</td><td>0</td><td>0</td></tr><tr><td>Ben Woodburn</td><td>0</td><td>0</td><td>0</td></tr><tr><td>Michael Obafemi</td><td>0</td><td>0</td><td>0</td></tr><tr><td>Orestis Karnezis</td><td>0</td><td>0</td><td>0</td></tr><tr><td>Patrice Evra</td><td>0</td><td>0</td><td>0</td></tr><tr><td>Martin Dubravka</td><td>0</td><td>0</td><td>0</td></tr><tr><td>Paulo Gazzaniga</td><td>0</td><td>0</td><td>0</td></tr><tr><td>Claudio Bravo</td><td>0</td><td>0</td><td>0</td></tr><tr><td>Reiss Nelson</td><td>0</td><td>0</td><td>0</td></tr><tr><td>Jonathan Walters</td><td>0</td><td>0</td><td>0</td></tr><tr><td>Karl Darlow</td><td>0</td><td>0</td><td>0</td></tr><tr><td>Sergio Romero</td><td>0</td><td>0</td><td>0</td></tr><tr><td>David Ospina</td><td>0</td><td>0</td><td>0</td></tr><tr><td>Fraser Forster</td><td>0</td><td>0</td><td>0</td></tr><tr><td>Mat Ryan</td><td>0</td><td>0</td><td>0</td></tr><tr><td>Divock Origi</td><td>0</td><td>0</td><td>0</td></tr><tr><td>Pape Souaré</td><td>0</td><td>0</td><td>0</td></tr><tr><td>David de Gea</td><td>0</td><td>0</td><td>0</td></tr><tr><td>Jack Butland</td><td>0</td><td>0</td><td>0</td></tr><tr><td>Dwight McNeil</td><td>0</td><td>0</td><td>0</td></tr><tr><td>Ethan Ampadu</td><td>0</td><td>0</td><td>0</td></tr><tr><td>Jack Simpson</td><td>0</td><td>0</td><td>0</td></tr><tr><td>Sullay Kaikai</td><td>0</td><td>0</td><td>0</td></tr><tr><td>Tom Heaton</td><td>0</td><td>0</td><td>0</td></tr><tr><td>Massadio Haidara</td><td>0</td><td>0</td><td>0</td></tr><tr><td>Willy Caballero</td><td>0</td><td>0</td><td>0</td></tr><tr><td>Jesús Gámez</td><td>0</td><td>0</td><td>0</td></tr><tr><td>Rekeem Harper</td><td>0</td><td>0</td><td>0</td></tr><tr><td>Callum Hudson-Odoi</td><td>0</td><td>0</td><td>0</td></tr><tr><td>Axel Tuanzebe</td><td>0</td><td>0</td><td>0</td></tr></tbody></table></div>"
      ]
     },
     "metadata": {
      "application/vnd.databricks.v1+output": {
       "addedWidgets": {},
       "aggData": [],
       "aggError": "",
       "aggOverflow": false,
       "aggSchema": [],
       "aggSeriesLimitReached": false,
       "aggType": "",
       "arguments": {},
       "columnCustomDisplayInfos": {},
       "data": [
        [
         "Luka Milivojevic",
         69,
         8,
         0
        ],
        [
         "Jordan Ayew",
         63,
         2,
         1
        ],
        [
         "Glenn Murray",
         60,
         9,
         0
        ],
        [
         "Wilfred Ndidi",
         60,
         6,
         2
        ],
        [
         "Erik Pieters",
         58,
         5,
         0
        ],
        [
         "Granit Xhaka",
         57,
         10,
         0
        ],
        [
         "Roberto Firmino",
         57,
         1,
         0
        ],
        [
         "Oriol Romeu",
         53,
         11,
         0
        ],
        [
         "Ashley Barnes",
         53,
         10,
         0
        ],
        [
         "Idrissa Gueye",
         50,
         6,
         1
        ],
        [
         "Dale Stephens",
         50,
         6,
         0
        ],
        [
         "Tiemoué Bakayoko",
         50,
         3,
         1
        ],
        [
         "Joe Allen",
         49,
         8,
         0
        ],
        [
         "Christian Benteke",
         48,
         6,
         0
        ],
        [
         "Mousa Dembélé",
         48,
         6,
         0
        ],
        [
         "Dusan Tadic",
         46,
         4,
         0
        ],
        [
         "Zanka",
         45,
         6,
         0
        ],
        [
         "Cheikhou Kouyaté",
         45,
         5,
         0
        ],
        [
         "Wilfried Zaha",
         45,
         5,
         0
        ],
        [
         "Joshua King",
         45,
         3,
         0
        ],
        [
         "Abdoulaye Doucouré",
         44,
         10,
         0
        ],
        [
         "Paul Pogba",
         44,
         5,
         1
        ],
        [
         "James McArthur",
         44,
         5,
         0
        ],
        [
         "Mohamed Diamé",
         44,
         3,
         0
        ],
        [
         "Dele Alli",
         43,
         7,
         0
        ],
        [
         "Dominic Calvert-Lewin",
         43,
         4,
         0
        ],
        [
         "Jay Rodriguez",
         43,
         2,
         0
        ],
        [
         "Jake Livermore",
         42,
         5,
         0
        ],
        [
         "Salomón Rondón",
         42,
         4,
         0
        ],
        [
         "Fernandinho",
         41,
         7,
         0
        ],
        [
         "Álvaro Morata",
         41,
         7,
         0
        ],
        [
         "N'Golo Kanté",
         41,
         3,
         0
        ],
        [
         "Davy Pröpper",
         41,
         2,
         1
        ],
        [
         "Peter Crouch",
         40,
         4,
         0
        ],
        [
         "Morgan Schneiderlin",
         39,
         5,
         1
        ],
        [
         "Raheem Sterling",
         39,
         3,
         1
        ],
        [
         "Dan Gosling",
         38,
         8,
         0
        ],
        [
         "Antonio Valencia",
         38,
         7,
         0
        ],
        [
         "Tom Davies",
         38,
         7,
         0
        ],
        [
         "Mame Biram Diouf",
         38,
         6,
         0
        ],
        [
         "José Holebas",
         37,
         7,
         0
        ],
        [
         "Matt Ritchie",
         37,
         6,
         0
        ],
        [
         "Richarlison",
         37,
         4,
         0
        ],
        [
         "Callum Wilson",
         37,
         0,
         0
        ],
        [
         "Lewis Dunk",
         36,
         7,
         0
        ],
        [
         "Héctor Bellerín",
         36,
         5,
         0
        ],
        [
         "Ayoze Pérez",
         36,
         3,
         0
        ],
        [
         "James McClean",
         35,
         7,
         0
        ],
        [
         "Yohan Cabaye",
         35,
         7,
         0
        ],
        [
         "Craig Dawson",
         35,
         6,
         0
        ],
        [
         "Marko Arnautovic",
         35,
         5,
         1
        ],
        [
         "Wayne Rooney",
         35,
         5,
         0
        ],
        [
         "Harry Maguire",
         34,
         7,
         0
        ],
        [
         "Shane Long",
         34,
         6,
         0
        ],
        [
         "Harry Kane",
         34,
         5,
         0
        ],
        [
         "Jesse Lingard",
         34,
         2,
         0
        ],
        [
         "Pablo Zabaleta",
         33,
         9,
         0
        ],
        [
         "Shane Duffy",
         33,
         8,
         0
        ],
        [
         "Nemanja Matic",
         33,
         6,
         0
        ],
        [
         "Lewis Cook",
         33,
         5,
         0
        ],
        [
         "Pascal Groß",
         33,
         2,
         0
        ],
        [
         "Tom Cleverley",
         33,
         1,
         1
        ],
        [
         "Jonathan Hogg",
         32,
         8,
         1
        ],
        [
         "Pierre-Emile Højbjerg",
         32,
         6,
         0
        ],
        [
         "DeAndre Yedlin",
         32,
         5,
         0
        ],
        [
         "Adrian Mariappa",
         32,
         4,
         0
        ],
        [
         "Sead Kolasinac",
         32,
         3,
         0
        ],
        [
         "Ryan Bertrand",
         32,
         2,
         0
        ],
        [
         "Christian Kabasele",
         31,
         5,
         0
        ],
        [
         "Alexis Sánchez",
         31,
         5,
         0
        ],
        [
         "Wes Morgan",
         31,
         4,
         0
        ],
        [
         "Romelu Lukaku",
         31,
         4,
         0
        ],
        [
         "Grzegorz Krychowiak",
         31,
         2,
         0
        ],
        [
         "Oumar Niasse",
         31,
         2,
         0
        ],
        [
         "Kyle Naughton",
         31,
         1,
         0
        ],
        [
         "Isaac Hayden",
         30,
         7,
         0
        ],
        [
         "Christopher Schindler",
         30,
         6,
         1
        ],
        [
         "Arthur Masuaku",
         30,
         5,
         0
        ],
        [
         "Mikel Merino",
         30,
         4,
         0
        ],
        [
         "Kevin De Bruyne",
         30,
         2,
         0
        ],
        [
         "Joselu",
         30,
         2,
         0
        ],
        [
         "Ashley Young",
         29,
         7,
         0
        ],
        [
         "Federico Fernández",
         29,
         5,
         0
        ],
        [
         "Rajiv van La Parra",
         29,
         3,
         1
        ],
        [
         "Solly March",
         29,
         3,
         0
        ],
        [
         "James Milner",
         29,
         3,
         0
        ],
        [
         "Jamie Vardy",
         29,
         3,
         0
        ],
        [
         "Nicolás Otamendi",
         28,
         9,
         0
        ],
        [
         "Mark Noble",
         28,
         6,
         0
        ],
        [
         "Gabriel Jesus",
         28,
         6,
         0
        ],
        [
         "Andy Carroll",
         28,
         5,
         1
        ],
        [
         "Leroy Fer",
         28,
         5,
         0
        ],
        [
         "Xherdan Shaqiri",
         28,
         5,
         0
        ],
        [
         "Ander Herrera",
         28,
         5,
         0
        ],
        [
         "Gareth Barry",
         28,
         4,
         0
        ],
        [
         "Steve Mounie",
         28,
         2,
         0
        ],
        [
         "Mario Lemina",
         28,
         2,
         0
        ],
        [
         "Alexandre Lacazette",
         28,
         1,
         0
        ],
        [
         "Laurent Depoitre",
         28,
         1,
         0
        ],
        [
         "Aaron Ramsey",
         28,
         0,
         0
        ],
        [
         "Emre Can",
         27,
         8,
         0
        ],
        [
         "Martin Olsson",
         27,
         7,
         0
        ],
        [
         "Nathan Aké",
         27,
         5,
         0
        ],
        [
         "Pedro Obiang",
         27,
         3,
         0
        ],
        [
         "Sofiane Boufal",
         27,
         1,
         0
        ],
        [
         "Jonny Evans",
         26,
         7,
         0
        ],
        [
         "Shkodran Mustafi",
         26,
         6,
         0
        ],
        [
         "Marcos Alonso",
         26,
         6,
         0
        ],
        [
         "Antonio Rüdiger",
         26,
         4,
         0
        ],
        [
         "Aaron Mooy",
         26,
         4,
         0
        ],
        [
         "Ryan Shawcross",
         26,
         2,
         0
        ],
        [
         "Jordan Henderson",
         26,
         1,
         0
        ],
        [
         "Cuco Martina",
         26,
         1,
         0
        ],
        [
         "James Tarkowski",
         25,
         5,
         0
        ],
        [
         "Claudio Yacob",
         25,
         5,
         0
        ],
        [
         "Cesc Fàbregas",
         25,
         4,
         1
        ],
        [
         "Joel Ward",
         25,
         4,
         0
        ],
        [
         "Ashley Williams",
         25,
         3,
         1
        ],
        [
         "Davinson Sánchez",
         25,
         1,
         1
        ],
        [
         "César Azpilicueta",
         25,
         1,
         0
        ],
        [
         "Cenk Tosun",
         25,
         0,
         0
        ],
        [
         "Simon Francis",
         24,
         8,
         1
        ],
        [
         "Badou Ndiaye",
         24,
         5,
         0
        ],
        [
         "André Ayew",
         24,
         5,
         0
        ],
        [
         "Ahmed Hegazi",
         24,
         4,
         0
        ],
        [
         "Erik Lamela",
         24,
         4,
         0
        ],
        [
         "Leroy Sané",
         24,
         4,
         0
        ],
        [
         "Chris Smalling",
         24,
         4,
         0
        ],
        [
         "Sadio Mané",
         24,
         3,
         1
        ],
        [
         "Ben Davies",
         24,
         3,
         0
        ],
        [
         "Javier Manquillo",
         24,
         2,
         0
        ],
        [
         "Troy Deeney",
         24,
         1,
         1
        ],
        [
         "Jack Cork",
         23,
         7,
         0
        ],
        [
         "Adam Smith",
         23,
         6,
         0
        ],
        [
         "Eric Dier",
         23,
         4,
         0
        ],
        [
         "Tom Carroll",
         23,
         3,
         0
        ],
        [
         "Moussa Sissoko",
         23,
         3,
         0
        ],
        [
         "Dwight Gayle",
         23,
         3,
         0
        ],
        [
         "Victor Moses",
         23,
         3,
         0
        ],
        [
         "Jonjo Shelvey",
         23,
         2,
         2
        ],
        [
         "Riyad Mahrez",
         23,
         2,
         0
        ],
        [
         "Henrikh Mkhitaryan",
         23,
         2,
         0
        ],
        [
         "Wesley Hoedt",
         22,
         7,
         0
        ],
        [
         "Phil Bardsley",
         22,
         5,
         0
        ],
        [
         "Steve Cook",
         22,
         5,
         0
        ],
        [
         "Anthony Knockaert",
         22,
         4,
         1
        ],
        [
         "Mike van der Hoorn",
         22,
         4,
         0
        ],
        [
         "Kieran Gibbs",
         22,
         3,
         0
        ],
        [
         "Tom Ince",
         22,
         0,
         0
        ],
        [
         "Sebastian Prödl",
         21,
         5,
         0
        ],
        [
         "David Silva",
         21,
         5,
         0
        ],
        [
         "Danny Simpson",
         21,
         4,
         0
        ],
        [
         "Etienne Capoue",
         21,
         3,
         0
        ],
        [
         "Scott Arfield",
         21,
         3,
         0
        ],
        [
         "Eric Maxim Choupo-Moting",
         21,
         3,
         0
        ],
        [
         "Michael Keane",
         21,
         3,
         0
        ],
        [
         "Marcus Rashford",
         21,
         3,
         0
        ],
        [
         "Matty James",
         21,
         2,
         0
        ],
        [
         "Stefano Okaka",
         21,
         2,
         0
        ],
        [
         "Aaron Lennon",
         21,
         2,
         0
        ],
        [
         "Serge Aurier",
         21,
         1,
         1
        ],
        [
         "James Tomkins",
         20,
         8,
         0
        ],
        [
         "Aaron Cresswell",
         20,
         7,
         0
        ],
        [
         "Allan Nyom",
         20,
         7,
         0
        ],
        [
         "Tommy Smith",
         20,
         7,
         0
        ],
        [
         "Marc Albrighton",
         20,
         5,
         1
        ],
        [
         "Kevin Wimmer",
         20,
         5,
         0
        ],
        [
         "Jan Vertonghen",
         20,
         4,
         0
        ],
        [
         "Robbie Brady",
         20,
         3,
         0
        ],
        [
         "Sam Vokes",
         20,
         3,
         0
        ],
        [
         "Hal Robson-Kanu",
         20,
         2,
         1
        ],
        [
         "José Izquierdo",
         20,
         2,
         0
        ],
        [
         "Shinji Okazaki",
         20,
         2,
         0
        ],
        [
         "Elias Kachunga",
         20,
         1,
         0
        ],
        [
         "Moritz Bauer",
         19,
         4,
         0
        ],
        [
         "Bruno",
         19,
         3,
         0
        ],
        [
         "Nacho Monreal",
         19,
         3,
         0
        ],
        [
         "Joel Matip",
         19,
         3,
         0
        ],
        [
         "Scott Malone",
         19,
         3,
         0
        ],
        [
         "Nathan Redmond",
         19,
         3,
         0
        ],
        [
         "Alfie Mawson",
         19,
         3,
         0
        ],
        [
         "Maya Yoshida",
         19,
         2,
         1
        ],
        [
         "Gylfi Sigurdsson",
         19,
         2,
         0
        ],
        [
         "Matthew Lowton",
         19,
         1,
         0
        ],
        [
         "Kurt Zouma",
         19,
         1,
         0
        ],
        [
         "Jeff Hendrick",
         19,
         1,
         0
        ],
        [
         "Vicente Iborra",
         19,
         0,
         0
        ],
        [
         "Will Hughes",
         19,
         0,
         0
        ],
        [
         "Patrick van Aanholt",
         18,
         7,
         0
        ],
        [
         "Vincent Kompany",
         18,
         6,
         0
        ],
        [
         "Mesut Özil",
         18,
         4,
         0
        ],
        [
         "Roberto Pereyra",
         18,
         3,
         0
        ],
        [
         "Jeffrey Schlupp",
         18,
         3,
         0
        ],
        [
         "James Ward-Prowse",
         18,
         3,
         0
        ],
        [
         "Timothy Fosu-Mensah",
         18,
         2,
         0
        ],
        [
         "Kieran Trippier",
         18,
         1,
         0
        ],
        [
         "Chris Wood",
         18,
         1,
         0
        ],
        [
         "Marvin Zeegelaar",
         17,
         4,
         1
        ],
        [
         "Ciaran Clark",
         17,
         3,
         0
        ],
        [
         "Alex Oxlade Chamberlain",
         17,
         3,
         0
        ],
        [
         "Florent Hadergjonaj",
         17,
         3,
         0
        ],
        [
         "Florian Lejeune",
         17,
         3,
         0
        ],
        [
         "Kyle Walker",
         17,
         2,
         1
        ],
        [
         "Jonjoe Kenny",
         17,
         2,
         0
        ],
        [
         "Danny Williams",
         17,
         2,
         0
        ],
        [
         "Kelechi Iheanacho",
         17,
         2,
         0
        ],
        [
         "Nathan Dyer",
         17,
         2,
         0
        ],
        [
         "Gary Cahill",
         17,
         1,
         1
        ],
        [
         "Ruben Loftus-Cheek",
         17,
         1,
         0
        ],
        [
         "Michail Antonio",
         17,
         1,
         0
        ],
        [
         "Anthony Martial",
         17,
         1,
         0
        ],
        [
         "Jamaal Lascelles",
         16,
         5,
         0
        ],
        [
         "Cédric Soares",
         16,
         3,
         0
        ],
        [
         "Gaëtan Bong",
         16,
         2,
         0
        ],
        [
         "Charlie Austin",
         16,
         2,
         0
        ],
        [
         "Geoff Cameron",
         16,
         2,
         0
        ],
        [
         "Mohamed Salah",
         16,
         1,
         0
        ],
        [
         "Jack Wilshere",
         15,
         6,
         0
        ],
        [
         "Chris Brunt",
         15,
         5,
         0
        ],
        [
         "Dejan Lovren",
         15,
         4,
         0
        ],
        [
         "Angelo Ogbonna",
         15,
         3,
         0
        ],
        [
         "Chicharito",
         15,
         3,
         0
        ],
        [
         "Joseph Gomez",
         15,
         3,
         0
        ],
        [
         "Andrew Robertson",
         15,
         2,
         0
        ],
        [
         "Beram Kayal",
         15,
         2,
         0
        ],
        [
         "Fabian Delph",
         15,
         2,
         0
        ],
        [
         "Kevin Long",
         15,
         1,
         0
        ],
        [
         "Kenedy",
         15,
         1,
         0
        ],
        [
         "Tammy Abraham",
         15,
         0,
         0
        ],
        [
         "Son Heung-Min",
         15,
         0,
         0
        ],
        [
         "Ben Mee",
         14,
         5,
         0
        ],
        [
         "Winston Reid",
         14,
         5,
         0
        ],
        [
         "Jason Puncheon",
         14,
         5,
         0
        ],
        [
         "Collin Quaner",
         14,
         4,
         0
        ],
        [
         "Laurent Koscielny",
         14,
         4,
         0
        ],
        [
         "Roque Mesa",
         14,
         3,
         0
        ],
        [
         "Ilkay Gündogan",
         14,
         3,
         0
        ],
        [
         "Philip Billing",
         14,
         3,
         0
        ],
        [
         "Matt Phillips",
         14,
         3,
         0
        ],
        [
         "Daryl Janmaat",
         14,
         3,
         0
        ],
        [
         "Ramadan Sobhi",
         14,
         2,
         0
        ],
        [
         "Manolo Gabbiadini",
         14,
         2,
         0
        ],
        [
         "Virgil van Dijk",
         14,
         1,
         0
        ],
        [
         "Christian Eriksen",
         14,
         0,
         0
        ],
        [
         "Darren Fletcher",
         14,
         0,
         0
        ],
        [
         "João Mário",
         14,
         0,
         0
        ],
        [
         "Jack Stephens",
         13,
         6,
         1
        ],
        [
         "Steven Defour",
         13,
         6,
         0
        ],
        [
         "James Collins",
         13,
         3,
         0
        ],
        [
         "Eden Hazard",
         13,
         2,
         0
        ],
        [
         "Ashley Westwood",
         13,
         2,
         0
        ],
        [
         "Victor Wanyama",
         13,
         2,
         0
        ],
        [
         "André Carrillo",
         13,
         2,
         0
        ],
        [
         "Ben Chilwell",
         13,
         1,
         1
        ],
        [
         "Chris Löwe",
         13,
         1,
         0
        ],
        [
         "Danny Welbeck",
         13,
         1,
         0
        ],
        [
         "Georginio Wijnaldum",
         13,
         1,
         0
        ],
        [
         "Marouane Fellaini",
         13,
         1,
         0
        ],
        [
         "Dominic Solanke",
         13,
         0,
         0
        ],
        [
         "Olivier Giroud",
         13,
         0,
         0
        ],
        [
         "David Luiz",
         12,
         4,
         1
        ],
        [
         "Danny Rose",
         12,
         4,
         0
        ],
        [
         "Scott Dann",
         12,
         4,
         0
        ],
        [
         "Mason Holgate",
         12,
         3,
         0
        ],
        [
         "Bruno Martins Indi",
         12,
         3,
         0
        ],
        [
         "Trent Alexander-Arnold",
         12,
         3,
         0
        ],
        [
         "Danilo",
         12,
         2,
         0
        ],
        [
         "Christian Fuchs",
         12,
         1,
         0
        ],
        [
         "Juan Mata",
         12,
         1,
         0
        ],
        [
         "Jermain Defoe",
         12,
         1,
         0
        ],
        [
         "Yannick Bolasie",
         12,
         0,
         0
        ],
        [
         "Andros Townsend",
         11,
         3,
         0
        ],
        [
         "Sam Field",
         11,
         2,
         0
        ],
        [
         "Stephen Ward",
         11,
         1,
         0
        ],
        [
         "Andre Gray",
         11,
         1,
         0
        ],
        [
         "Lys Mousset",
         11,
         1,
         0
        ],
        [
         "Ben Watson",
         11,
         1,
         0
        ],
        [
         "Alex Iwobi",
         11,
         1,
         0
        ],
        [
         "Sam Clucas",
         10,
         2,
         0
        ],
        [
         "Ki Sung-yueng",
         10,
         2,
         0
        ],
        [
         "Eric Bailly",
         10,
         2,
         0
        ],
        [
         "Sergio Agüero",
         10,
         2,
         0
        ],
        [
         "Phil Jones",
         10,
         2,
         0
        ],
        [
         "Aymeric Laporte",
         10,
         1,
         0
        ],
        [
         "Christian Atsu",
         10,
         1,
         0
        ],
        [
         "Calum Chambers",
         10,
         1,
         0
        ],
        [
         "Victor Lindelöf",
         10,
         1,
         0
        ],
        [
         "Ainsley Maitland-Niles",
         10,
         1,
         0
        ],
        [
         "Jordon Ibe",
         10,
         1,
         0
        ],
        [
         "Willian",
         10,
         1,
         0
        ],
        [
         "Tomer Hemed",
         10,
         0,
         0
        ],
        [
         "Daniel Drinkwater",
         10,
         0,
         0
        ],
        [
         "Manuel Lanzini",
         9,
         4,
         0
        ],
        [
         "Harry Arter",
         9,
         4,
         0
        ],
        [
         "Adrien Silva",
         9,
         3,
         0
        ],
        [
         "Rob Holding",
         9,
         3,
         0
        ],
        [
         "Johann Berg Gudmundsson",
         9,
         2,
         0
        ],
        [
         "Andrew Surman",
         9,
         2,
         0
        ],
        [
         "Andy King",
         9,
         2,
         0
        ],
        [
         "Wayne Routledge",
         9,
         1,
         0
        ],
        [
         "Pedro",
         9,
         1,
         0
        ],
        [
         "Bernardo Silva",
         9,
         0,
         0
        ],
        [
         "Benik Afobe",
         9,
         0,
         0
        ],
        [
         "Johann Gudmundsson",
         9,
         0,
         0
        ],
        [
         "Marcos Rojo",
         8,
         6,
         0
        ],
        [
         "Miguel Britos",
         8,
         3,
         1
        ],
        [
         "Ezequiel Schelotto",
         8,
         3,
         0
        ],
        [
         "Toby Alderweireld",
         8,
         3,
         0
        ],
        [
         "Charlie Adam",
         8,
         2,
         1
        ],
        [
         "Phil Jagielka",
         8,
         2,
         0
        ],
        [
         "Martin Kelly",
         8,
         1,
         0
        ],
        [
         "Renato Sanches",
         8,
         1,
         0
        ],
        [
         "Paul Dummett",
         8,
         1,
         0
        ],
        [
         "Alberto Moreno",
         8,
         1,
         0
        ],
        [
         "Harry Winks",
         8,
         0,
         0
        ],
        [
         "Bakary Sako",
         8,
         0,
         0
        ],
        [
         "Steven Davis",
         8,
         0,
         0
        ],
        [
         "Andreas Christensen",
         8,
         0,
         0
        ],
        [
         "Jacob Murphy",
         8,
         0,
         0
        ],
        [
         "Charlie Taylor",
         7,
         3,
         0
        ],
        [
         "Demarai Gray",
         7,
         2,
         0
        ],
        [
         "Aleksandar Dragovic",
         7,
         2,
         0
        ],
        [
         "Marc Pugh",
         7,
         2,
         0
        ],
        [
         "Kiko Femenía",
         7,
         2,
         0
        ],
        [
         "Wilfried Bony",
         7,
         2,
         0
        ],
        [
         "Scott McTominay",
         7,
         2,
         0
        ],
        [
         "Theo Walcott",
         7,
         2,
         0
        ],
        [
         "Leon Britton",
         7,
         1,
         0
        ],
        [
         "Oleksandr Zinchenko",
         7,
         1,
         0
        ],
        [
         "Leighton Baines",
         7,
         1,
         0
        ],
        [
         "Ragnar Klavan",
         7,
         0,
         0
        ],
        [
         "Leonardo Ulloa",
         7,
         0,
         0
        ],
        [
         "Guido Carrillo",
         7,
         0,
         0
        ],
        [
         "Charlie Daniels",
         7,
         0,
         0
        ],
        [
         "Davide Zappacosta",
         7,
         0,
         0
        ],
        [
         "Nikola Vlasic",
         7,
         0,
         0
        ],
        [
         "Glen Johnson",
         6,
         3,
         0
        ],
        [
         "Benjamin Mendy",
         6,
         2,
         0
        ],
        [
         "Junior Stanislas",
         6,
         1,
         0
        ],
        [
         "Danny Ings",
         6,
         0,
         0
        ],
        [
         "Saido Berahino",
         6,
         0,
         0
        ],
        [
         "John Stones",
         6,
         0,
         0
        ],
        [
         "José Fonte",
         6,
         0,
         0
        ],
        [
         "Ryan Fraser",
         6,
         0,
         0
        ],
        [
         "Nordin Amrabat",
         6,
         0,
         0
        ],
        [
         "Alexander Sørloth",
         6,
         0,
         0
        ],
        [
         "Kyle Bartley",
         5,
         2,
         0
        ],
        [
         "Yaya Touré",
         5,
         1,
         0
        ],
        [
         "Hamza Choudhury",
         5,
         1,
         0
        ],
        [
         "Declan Rice",
         5,
         1,
         0
        ],
        [
         "Edimilson Fernandes",
         5,
         1,
         0
        ],
        [
         "Alex Pritchard",
         5,
         1,
         0
        ],
        [
         "Daniel Amartey",
         5,
         0,
         1
        ],
        [
         "Ademola Lookman",
         5,
         0,
         0
        ],
        [
         "Chancel Mbemba",
         5,
         0,
         0
        ],
        [
         "Philippe Coutinho",
         5,
         0,
         0
        ],
        [
         "Davy Klaassen",
         5,
         0,
         0
        ],
        [
         "Markus Suttner",
         5,
         0,
         0
        ],
        [
         "Matteo Darmian",
         5,
         0,
         0
        ],
        [
         "Terence Kongolo",
         5,
         0,
         0
        ],
        [
         "Jesé",
         5,
         0,
         0
        ],
        [
         "Molla Wagué",
         5,
         0,
         0
        ],
        [
         "Mohamed Elneny",
         4,
         3,
         1
        ],
        [
         "Luke Shaw",
         4,
         2,
         0
        ],
        [
         "Kasey Palmer",
         4,
         2,
         0
        ],
        [
         "Diafra Sakho",
         4,
         2,
         0
        ],
        [
         "Sam Byram",
         4,
         1,
         0
        ],
        [
         "Georges-Kévin Nkoudou",
         4,
         1,
         0
        ],
        [
         "Adam Lallana",
         4,
         1,
         0
        ],
        [
         "Abdelhamid Sabiri",
         4,
         1,
         0
        ],
        [
         "Beni Baningime",
         4,
         1,
         0
        ],
        [
         "Nathaniel Clyne",
         4,
         1,
         0
        ],
        [
         "Fernando Llorente",
         4,
         1,
         0
        ],
        [
         "Daley Blind",
         4,
         0,
         0
        ],
        [
         "Nahki Wells",
         4,
         0,
         0
        ],
        [
         "Oliver McBurnie",
         4,
         0,
         0
        ],
        [
         "Lucas Moura",
         4,
         0,
         0
        ],
        [
         "Michy Batshuayi",
         4,
         0,
         0
        ],
        [
         "Konstantinos Stafylidis",
         4,
         0,
         0
        ],
        [
         "Nathaniel Chalobah",
         3,
         1,
         0
        ],
        [
         "Ramiro Funes Mori",
         3,
         1,
         0
        ],
        [
         "Mamadou Sakho",
         3,
         1,
         0
        ],
        [
         "Jan Bednarek",
         3,
         1,
         0
        ],
        [
         "Islam Slimani",
         3,
         1,
         0
        ],
        [
         "Joe Lolley",
         3,
         1,
         0
        ],
        [
         "Charly Musonda",
         3,
         0,
         0
        ],
        [
         "Joe Willock",
         3,
         0,
         0
        ],
        [
         "James McCarthy",
         3,
         0,
         0
        ],
        [
         "Eliaquim Mangala",
         3,
         0,
         0
        ],
        [
         "Luciano Narsingh",
         3,
         0,
         0
        ],
        [
         "Thomas Edwards",
         3,
         0,
         0
        ],
        [
         "Emerson",
         3,
         0,
         0
        ],
        [
         "Jairo Riedewald",
         3,
         0,
         0
        ],
        [
         "Aleksandar Mitrovic",
         3,
         0,
         0
        ],
        [
         "Gerard Deulofeu",
         3,
         0,
         0
        ],
        [
         "Isaiah Brown",
         3,
         0,
         0
        ],
        [
         "Seamus Coleman",
         3,
         0,
         0
        ],
        [
         "Jordan Hugill",
         3,
         0,
         0
        ],
        [
         "Simon Mignolet",
         2,
         3,
         0
        ],
        [
         "Thibaut Courtois",
         2,
         2,
         0
        ],
        [
         "Asmir Begovic",
         2,
         2,
         0
        ],
        [
         "Michael Hefele",
         2,
         1,
         0
        ],
        [
         "Connor Goldson",
         2,
         1,
         0
        ],
        [
         "Loris Karius",
         2,
         1,
         0
        ],
        [
         "Aaron Wan-Bissaka",
         2,
         1,
         0
        ],
        [
         "Craig Cathcart",
         2,
         1,
         0
        ],
        [
         "Jay Fulton",
         2,
         1,
         0
        ],
        [
         "Tyrone Mings",
         2,
         1,
         0
        ],
        [
         "Konstantinos Mavropanos",
         2,
         0,
         1
        ],
        [
         "Per Mertesacker",
         2,
         0,
         0
        ],
        [
         "Oliver Burke",
         2,
         0,
         0
        ],
        [
         "Lasse Sorensen",
         2,
         0,
         0
        ],
        [
         "Jürgen Locadia",
         2,
         0,
         0
        ],
        [
         "Francis Coquelin",
         2,
         0,
         0
        ],
        [
         "Gareth McAuley",
         2,
         0,
         0
        ],
        [
         "Nick Pope",
         1,
         3,
         0
        ],
        [
         "Adrián",
         1,
         2,
         0
        ],
        [
         "Ben Foster",
         1,
         2,
         0
        ],
        [
         "Boaz Myhill",
         1,
         1,
         0
        ],
        [
         "Kevin Mirallas",
         1,
         1,
         0
        ],
        [
         "Fousseni Diabaté",
         1,
         1,
         0
        ],
        [
         "Ibrahim Afellay",
         1,
         1,
         0
        ],
        [
         "Nacer Chadli",
         1,
         1,
         0
        ],
        [
         "Hugo Lloris",
         1,
         1,
         0
        ],
        [
         "Stephen Ireland",
         1,
         1,
         0
        ],
        [
         "Heurelho Gomes",
         1,
         0,
         0
        ],
        [
         "Rolando Aarons",
         1,
         0,
         0
        ],
        [
         "Jamie Murphy",
         1,
         0,
         0
        ],
        [
         "Brahim Diaz",
         1,
         0,
         0
        ],
        [
         "Younes Kaboul",
         1,
         0,
         0
        ],
        [
         "Vincent Janssen",
         1,
         0,
         0
        ],
        [
         "Michael Carrick",
         1,
         0,
         0
        ],
        [
         "Jerome Sinclair",
         1,
         0,
         0
        ],
        [
         "Daniel Sturridge",
         1,
         0,
         0
        ],
        [
         "Jordan Pickford",
         1,
         0,
         0
        ],
        [
         "Josh Sims",
         1,
         0,
         0
        ],
        [
         "Ross Barkley",
         1,
         0,
         0
        ],
        [
         "Joe Hart",
         1,
         0,
         0
        ],
        [
         "Jérémy Pied",
         1,
         0,
         0
        ],
        [
         "Zlatan Ibrahimovic",
         1,
         0,
         0
        ],
        [
         "Sandro Ramírez",
         1,
         0,
         0
        ],
        [
         "Julien Ngoy",
         1,
         0,
         0
        ],
        [
         "Jeremie Boga",
         1,
         0,
         0
        ],
        [
         "Yohan Benalouane",
         1,
         0,
         0
        ],
        [
         "Lee Chung-yong",
         1,
         0,
         0
        ],
        [
         "Kyle Walker-Peters",
         1,
         0,
         0
        ],
        [
         "Lukasz Fabianski",
         1,
         0,
         0
        ],
        [
         "Liam Rosenior",
         1,
         0,
         0
        ],
        [
         "Reece Oxford",
         1,
         0,
         0
        ],
        [
         "Angel Rangel",
         1,
         0,
         0
        ],
        [
         "Eddie Nketiah",
         1,
         0,
         0
        ],
        [
         "Pierre-Emerick Aubameyang",
         1,
         0,
         0
        ],
        [
         "Phil Foden",
         1,
         0,
         0
        ],
        [
         "Bojan",
         1,
         0,
         0
        ],
        [
         "Muhamed Besic",
         1,
         0,
         0
        ],
        [
         "Harvey Barnes",
         1,
         0,
         0
        ],
        [
         "Matt Targett",
         1,
         0,
         0
        ],
        [
         "Kasper Schmeichel",
         0,
         3,
         0
        ],
        [
         "Alex McCarthy",
         0,
         2,
         0
        ],
        [
         "Wayne Hennessey",
         0,
         1,
         0
        ],
        [
         "Petr Cech",
         0,
         1,
         0
        ],
        [
         "Jonas Lössl",
         0,
         1,
         0
        ],
        [
         "Martin Cranie",
         0,
         0,
         0
        ],
        [
         "Levi Lumeka",
         0,
         0,
         0
        ],
        [
         "James Morrison",
         0,
         0,
         0
        ],
        [
         "Uwe Hünemeier",
         0,
         0,
         0
        ],
        [
         "Eldin Jakupovic",
         0,
         0,
         0
        ],
        [
         "Marko Grujic",
         0,
         0,
         0
        ],
        [
         "Robert Elliot",
         0,
         0,
         0
        ],
        [
         "Lee Grant",
         0,
         0,
         0
        ],
        [
         "Lukas Nmecha",
         0,
         0,
         0
        ],
        [
         "Freddie Ladapo",
         0,
         0,
         0
        ],
        [
         "Michel Vorm",
         0,
         0,
         0
        ],
        [
         "Sam Baldock",
         0,
         0,
         0
        ],
        [
         "Dean Whitehead",
         0,
         0,
         0
        ],
        [
         "Sam McQueen",
         0,
         0,
         0
        ],
        [
         "Josh Tymon",
         0,
         0,
         0
        ],
        [
         "Henri Saivet",
         0,
         0,
         0
        ],
        [
         "Dodi Lukebakio",
         0,
         0,
         0
        ],
        [
         "Ben Hamer",
         0,
         0,
         0
        ],
        [
         "Damien Delaney",
         0,
         0,
         0
        ],
        [
         "Emerson Hyndman",
         0,
         0,
         0
        ],
        [
         "Chung-Yong Lee",
         0,
         0,
         0
        ],
        [
         "Connor Roberts",
         0,
         0,
         0
        ],
        [
         "Ederson",
         0,
         0,
         0
        ],
        [
         "Tyrese Campbell",
         0,
         0,
         0
        ],
        [
         "David De Gea",
         0,
         0,
         0
        ],
        [
         "Josh Cullen",
         0,
         0,
         0
        ],
        [
         "Julian Speroni",
         0,
         0,
         0
        ],
        [
         "Ben Woodburn",
         0,
         0,
         0
        ],
        [
         "Michael Obafemi",
         0,
         0,
         0
        ],
        [
         "Orestis Karnezis",
         0,
         0,
         0
        ],
        [
         "Patrice Evra",
         0,
         0,
         0
        ],
        [
         "Martin Dubravka",
         0,
         0,
         0
        ],
        [
         "Paulo Gazzaniga",
         0,
         0,
         0
        ],
        [
         "Claudio Bravo",
         0,
         0,
         0
        ],
        [
         "Reiss Nelson",
         0,
         0,
         0
        ],
        [
         "Jonathan Walters",
         0,
         0,
         0
        ],
        [
         "Karl Darlow",
         0,
         0,
         0
        ],
        [
         "Sergio Romero",
         0,
         0,
         0
        ],
        [
         "David Ospina",
         0,
         0,
         0
        ],
        [
         "Fraser Forster",
         0,
         0,
         0
        ],
        [
         "Mat Ryan",
         0,
         0,
         0
        ],
        [
         "Divock Origi",
         0,
         0,
         0
        ],
        [
         "Pape Souaré",
         0,
         0,
         0
        ],
        [
         "David de Gea",
         0,
         0,
         0
        ],
        [
         "Jack Butland",
         0,
         0,
         0
        ],
        [
         "Dwight McNeil",
         0,
         0,
         0
        ],
        [
         "Ethan Ampadu",
         0,
         0,
         0
        ],
        [
         "Jack Simpson",
         0,
         0,
         0
        ],
        [
         "Sullay Kaikai",
         0,
         0,
         0
        ],
        [
         "Tom Heaton",
         0,
         0,
         0
        ],
        [
         "Massadio Haidara",
         0,
         0,
         0
        ],
        [
         "Willy Caballero",
         0,
         0,
         0
        ],
        [
         "Jesús Gámez",
         0,
         0,
         0
        ],
        [
         "Rekeem Harper",
         0,
         0,
         0
        ],
        [
         "Callum Hudson-Odoi",
         0,
         0,
         0
        ],
        [
         "Axel Tuanzebe",
         0,
         0,
         0
        ]
       ],
       "datasetInfos": [],
       "dbfsResultPath": null,
       "isJsonSchema": true,
       "metadata": {},
       "overflow": false,
       "plotOptions": {
        "customPlotOptions": {},
        "displayType": "table",
        "pivotAggregation": null,
        "pivotColumns": null,
        "xColumns": null,
        "yColumns": null
       },
       "removedWidgets": [],
       "schema": [
        {
         "metadata": "{}",
         "name": "player_name",
         "type": "\"string\""
        },
        {
         "metadata": "{}",
         "name": "total_fouls",
         "type": "\"long\""
        },
        {
         "metadata": "{}",
         "name": "total_yellow_cards",
         "type": "\"long\""
        },
        {
         "metadata": "{}",
         "name": "total_red_cards",
         "type": "\"long\""
        }
       ],
       "type": "table"
      }
     },
     "output_type": "display_data"
    }
   ],
   "source": [
    "%sql\n",
    "SELECT player_name, \n",
    "       SUM(fouls) AS total_fouls, \n",
    "       SUM(yellow_card) AS total_yellow_cards,\n",
    "       SUM(red_card) AS total_red_cards\n",
    "FROM P_M\n",
    "GROUP BY player_name\n",
    "ORDER BY total_fouls DESC, total_yellow_cards DESC, total_red_cards DESC;\n"
   ]
  },
  {
   "cell_type": "code",
   "execution_count": 0,
   "metadata": {
    "application/vnd.databricks.v1+cell": {
     "cellMetadata": {
      "byteLimit": 2048000,
      "implicitDf": true,
      "rowLimit": 10000
     },
     "inputWidgets": {},
     "nuid": "1b6ae800-dbfd-419a-88fe-8956275f7334",
     "showTitle": false,
     "title": ""
    }
   },
   "outputs": [
    {
     "output_type": "display_data",
     "data": {
      "text/html": [
       "<style scoped>\n",
       "  .table-result-container {\n",
       "    max-height: 300px;\n",
       "    overflow: auto;\n",
       "  }\n",
       "  table, th, td {\n",
       "    border: 1px solid black;\n",
       "    border-collapse: collapse;\n",
       "  }\n",
       "  th, td {\n",
       "    padding: 5px;\n",
       "  }\n",
       "  th {\n",
       "    text-align: left;\n",
       "  }\n",
       "</style><div class='table-result-container'><table class='table-result'><thead style='background-color: white'><tr><th>player_name</th><th>total_goals</th></tr></thead><tbody><tr><td>Mohamed Salah</td><td>32</td></tr><tr><td>Harry Kane</td><td>30</td></tr><tr><td>Sergio Agüero</td><td>21</td></tr><tr><td>Jamie Vardy</td><td>20</td></tr><tr><td>Raheem Sterling</td><td>18</td></tr><tr><td>Romelu Lukaku</td><td>16</td></tr><tr><td>Roberto Firmino</td><td>15</td></tr><tr><td>Alexandre Lacazette</td><td>14</td></tr><tr><td>Gabriel Jesus</td><td>13</td></tr><tr><td>Riyad Mahrez</td><td>12</td></tr><tr><td>Eden Hazard</td><td>12</td></tr><tr><td>Son Heung-Min</td><td>12</td></tr><tr><td>Glenn Murray</td><td>12</td></tr><tr><td>Marko Arnautovic</td><td>11</td></tr><tr><td>Álvaro Morata</td><td>11</td></tr><tr><td>Sadio Mané</td><td>10</td></tr><tr><td>Christian Eriksen</td><td>10</td></tr><tr><td>Chris Wood</td><td>10</td></tr><tr><td>Wayne Rooney</td><td>10</td></tr><tr><td>Leroy Sané</td><td>10</td></tr><tr><td>Pierre-Emerick Aubameyang</td><td>10</td></tr><tr><td>Luka Milivojevic</td><td>10</td></tr><tr><td>Alexis Sánchez</td><td>9</td></tr><tr><td>Ashley Barnes</td><td>9</td></tr><tr><td>Dele Alli</td><td>9</td></tr><tr><td>Anthony Martial</td><td>9</td></tr><tr><td>David Silva</td><td>9</td></tr><tr><td>Wilfried Zaha</td><td>9</td></tr><tr><td>Callum Wilson</td><td>8</td></tr><tr><td>Kevin De Bruyne</td><td>8</td></tr><tr><td>Xherdan Shaqiri</td><td>8</td></tr><tr><td>Joshua King</td><td>8</td></tr><tr><td>Chicharito</td><td>8</td></tr><tr><td>Ayoze Pérez</td><td>8</td></tr><tr><td>Oumar Niasse</td><td>8</td></tr><tr><td>Jesse Lingard</td><td>8</td></tr><tr><td>Aaron Ramsey</td><td>7</td></tr><tr><td>Abdoulaye Doucouré</td><td>7</td></tr><tr><td>Philippe Coutinho</td><td>7</td></tr><tr><td>Jay Rodriguez</td><td>7</td></tr><tr><td>Charlie Austin</td><td>7</td></tr><tr><td>Pascal Groß</td><td>7</td></tr><tr><td>Marcos Alonso</td><td>7</td></tr><tr><td>Steve Mounie</td><td>7</td></tr><tr><td>Salomón Rondón</td><td>7</td></tr><tr><td>Olivier Giroud</td><td>7</td></tr><tr><td>Jordan Ayew</td><td>7</td></tr><tr><td>Marcus Rashford</td><td>7</td></tr><tr><td>Mame Biram Diouf</td><td>6</td></tr><tr><td>Shinji Okazaki</td><td>6</td></tr><tr><td>Paul Pogba</td><td>6</td></tr><tr><td>Bernardo Silva</td><td>6</td></tr><tr><td>Laurent Depoitre</td><td>6</td></tr><tr><td>Dwight Gayle</td><td>6</td></tr><tr><td>Dusan Tadic</td><td>6</td></tr><tr><td>Willian</td><td>6</td></tr><tr><td>Richarlison</td><td>5</td></tr><tr><td>Tammy Abraham</td><td>5</td></tr><tr><td>Peter Crouch</td><td>5</td></tr><tr><td>Roberto Pereyra</td><td>5</td></tr><tr><td>Cenk Tosun</td><td>5</td></tr><tr><td>José Izquierdo</td><td>5</td></tr><tr><td>Danny Welbeck</td><td>5</td></tr><tr><td>James McArthur</td><td>5</td></tr><tr><td>Andre Gray</td><td>5</td></tr><tr><td>Troy Deeney</td><td>5</td></tr><tr><td>Nacho Monreal</td><td>5</td></tr><tr><td>Fernandinho</td><td>5</td></tr><tr><td>Manuel Lanzini</td><td>5</td></tr><tr><td>Patrick van Aanholt</td><td>5</td></tr><tr><td>Junior Stanislas</td><td>5</td></tr><tr><td>Manolo Gabbiadini</td><td>5</td></tr><tr><td>Ryan Fraser</td><td>5</td></tr><tr><td>Eric Maxim Choupo-Moting</td><td>5</td></tr><tr><td>Gylfi Sigurdsson</td><td>4</td></tr><tr><td>Mark Noble</td><td>4</td></tr><tr><td>Ilkay Gündogan</td><td>4</td></tr><tr><td>Nicolás Otamendi</td><td>4</td></tr><tr><td>Joselu</td><td>4</td></tr><tr><td>Mesut Özil</td><td>4</td></tr><tr><td>Pedro</td><td>4</td></tr><tr><td>Dominic Calvert-Lewin</td><td>4</td></tr><tr><td>Aaron Mooy</td><td>4</td></tr><tr><td>Sam Vokes</td><td>4</td></tr><tr><td>Chris Smalling</td><td>4</td></tr><tr><td>Marouane Fellaini</td><td>4</td></tr><tr><td>Jermain Defoe</td><td>4</td></tr><tr><td>Anthony Knockaert</td><td>3</td></tr><tr><td>Demarai Gray</td><td>3</td></tr><tr><td>Sam Clucas</td><td>3</td></tr><tr><td>Christian Benteke</td><td>3</td></tr><tr><td>Jamaal Lascelles</td><td>3</td></tr><tr><td>Shkodran Mustafi</td><td>3</td></tr><tr><td>Emre Can</td><td>3</td></tr><tr><td>James Tomkins</td><td>3</td></tr><tr><td>Matt Ritchie</td><td>3</td></tr><tr><td>Juan Mata</td><td>3</td></tr><tr><td>Bakary Sako</td><td>3</td></tr><tr><td>Steven Davis</td><td>3</td></tr><tr><td>Antonio Valencia</td><td>3</td></tr><tr><td>Andy Carroll</td><td>3</td></tr><tr><td>Henrikh Mkhitaryan</td><td>3</td></tr><tr><td>Vicente Iborra</td><td>3</td></tr><tr><td>Michail Antonio</td><td>3</td></tr><tr><td>Kelechi Iheanacho</td><td>3</td></tr><tr><td>Alex Oxlade Chamberlain</td><td>3</td></tr><tr><td>Rajiv van La Parra</td><td>3</td></tr><tr><td>James Ward-Prowse</td><td>3</td></tr><tr><td>Victor Moses</td><td>3</td></tr><tr><td>Andy King</td><td>3</td></tr><tr><td>Alex Iwobi</td><td>3</td></tr><tr><td>André Ayew</td><td>3</td></tr><tr><td>Daryl Janmaat</td><td>3</td></tr><tr><td>Danilo</td><td>3</td></tr><tr><td>Theo Walcott</td><td>3</td></tr><tr><td>César Azpilicueta</td><td>2</td></tr><tr><td>Ahmed Hegazi</td><td>2</td></tr><tr><td>Antonio Rüdiger</td><td>2</td></tr><tr><td>Harry Maguire</td><td>2</td></tr><tr><td>Joe Allen</td><td>2</td></tr><tr><td>Serge Aurier</td><td>2</td></tr><tr><td>Ruben Loftus-Cheek</td><td>2</td></tr><tr><td>Ashley Young</td><td>2</td></tr><tr><td>Tomer Hemed</td><td>2</td></tr><tr><td>Jack Stephens</td><td>2</td></tr><tr><td>Craig Dawson</td><td>2</td></tr><tr><td>Cheikhou Kouyaté</td><td>2</td></tr><tr><td>Christian Kabasele</td><td>2</td></tr><tr><td>Tom Ince</td><td>2</td></tr><tr><td>Nathan Aké</td><td>2</td></tr><tr><td>Ciaran Clark</td><td>2</td></tr><tr><td>Ramadan Sobhi</td><td>2</td></tr><tr><td>Daniel Sturridge</td><td>2</td></tr><tr><td>Mohamed Diamé</td><td>2</td></tr><tr><td>Scott Arfield</td><td>2</td></tr><tr><td>Sead Kolasinac</td><td>2</td></tr><tr><td>Badou Ndiaye</td><td>2</td></tr><tr><td>Christian Atsu</td><td>2</td></tr><tr><td>Andrew Surman</td><td>2</td></tr><tr><td>Cesc Fàbregas</td><td>2</td></tr><tr><td>Maya Yoshida</td><td>2</td></tr><tr><td>Jack Cork</td><td>2</td></tr><tr><td>Pedro Obiang</td><td>2</td></tr><tr><td>Jake Livermore</td><td>2</td></tr><tr><td>Erik Lamela</td><td>2</td></tr><tr><td>Jonny Evans</td><td>2</td></tr><tr><td>Ben Davies</td><td>2</td></tr><tr><td>Dejan Lovren</td><td>2</td></tr><tr><td>Tom Davies</td><td>2</td></tr><tr><td>Jeff Hendrick</td><td>2</td></tr><tr><td>Will Hughes</td><td>2</td></tr><tr><td>Diafra Sakho</td><td>2</td></tr><tr><td>Idrissa Gueye</td><td>2</td></tr><tr><td>Lys Mousset</td><td>2</td></tr><tr><td>Hal Robson-Kanu</td><td>2</td></tr><tr><td>Kenedy</td><td>2</td></tr><tr><td>Héctor Bellerín</td><td>2</td></tr><tr><td>Laurent Koscielny</td><td>2</td></tr><tr><td>Andros Townsend</td><td>2</td></tr><tr><td>Michy Batshuayi</td><td>2</td></tr><tr><td>Marc Albrighton</td><td>2</td></tr><tr><td>Wilfried Bony</td><td>2</td></tr><tr><td>Dan Gosling</td><td>2</td></tr><tr><td>Jordon Ibe</td><td>2</td></tr><tr><td>Ki Sung-yueng</td><td>2</td></tr><tr><td>Leighton Baines</td><td>2</td></tr><tr><td>Steve Cook</td><td>2</td></tr><tr><td>João Mário</td><td>2</td></tr><tr><td>Tiemoué Bakayoko</td><td>2</td></tr><tr><td>Matt Phillips</td><td>2</td></tr><tr><td>Alfie Mawson</td><td>2</td></tr><tr><td>Sofiane Boufal</td><td>2</td></tr><tr><td>Shane Long</td><td>2</td></tr><tr><td>Ryan Shawcross</td><td>1</td></tr><tr><td>Isaac Hayden</td><td>1</td></tr><tr><td>Ragnar Klavan</td><td>1</td></tr><tr><td>Robbie Brady</td><td>1</td></tr><tr><td>James Morrison</td><td>1</td></tr><tr><td>Jordan Henderson</td><td>1</td></tr><tr><td>Solly March</td><td>1</td></tr><tr><td>Angelo Ogbonna</td><td>1</td></tr><tr><td>Gareth Barry</td><td>1</td></tr><tr><td>Steven Defour</td><td>1</td></tr><tr><td>Elias Kachunga</td><td>1</td></tr><tr><td>Johann Berg Gudmundsson</td><td>1</td></tr><tr><td>Stephen Ward</td><td>1</td></tr><tr><td>Andrew Robertson</td><td>1</td></tr><tr><td>N'Golo Kanté</td><td>1</td></tr><tr><td>Leroy Fer</td><td>1</td></tr><tr><td>Oriol Romeu</td><td>1</td></tr><tr><td>Henri Saivet</td><td>1</td></tr><tr><td>Aaron Cresswell</td><td>1</td></tr><tr><td>Leonardo Ulloa</td><td>1</td></tr><tr><td>Mike van der Hoorn</td><td>1</td></tr><tr><td>Stefano Okaka</td><td>1</td></tr><tr><td>Ashley Williams</td><td>1</td></tr><tr><td>Nemanja Matic</td><td>1</td></tr><tr><td>Scott Dann</td><td>1</td></tr><tr><td>Per Mertesacker</td><td>1</td></tr><tr><td>Yannick Bolasie</td><td>1</td></tr><tr><td>Moussa Sissoko</td><td>1</td></tr><tr><td>Daniel Drinkwater</td><td>1</td></tr><tr><td>Danny Ings</td><td>1</td></tr><tr><td>Fabian Delph</td><td>1</td></tr><tr><td>Etienne Capoue</td><td>1</td></tr><tr><td>Luciano Narsingh</td><td>1</td></tr><tr><td>Adam Smith</td><td>1</td></tr><tr><td>James McClean</td><td>1</td></tr><tr><td>Nacer Chadli</td><td>1</td></tr><tr><td>Trent Alexander-Arnold</td><td>1</td></tr><tr><td>Aleksandar Mitrovic</td><td>1</td></tr><tr><td>Victor Wanyama</td><td>1</td></tr><tr><td>Vincent Kompany</td><td>1</td></tr><tr><td>Jonjo Shelvey</td><td>1</td></tr><tr><td>Harry Arter</td><td>1</td></tr><tr><td>Kevin Long</td><td>1</td></tr><tr><td>Mamadou Sakho</td><td>1</td></tr><tr><td>Georginio Wijnaldum</td><td>1</td></tr><tr><td>Jan Bednarek</td><td>1</td></tr><tr><td>Darren Fletcher</td><td>1</td></tr><tr><td>Joel Matip</td><td>1</td></tr><tr><td>Jürgen Locadia</td><td>1</td></tr><tr><td>Jack Wilshere</td><td>1</td></tr><tr><td>Kurt Zouma</td><td>1</td></tr><tr><td>Islam Slimani</td><td>1</td></tr><tr><td>Gerard Deulofeu</td><td>1</td></tr><tr><td>Dominic Solanke</td><td>1</td></tr><tr><td>André Carrillo</td><td>1</td></tr><tr><td>Jacob Murphy</td><td>1</td></tr><tr><td>David Luiz</td><td>1</td></tr><tr><td>Miguel Britos</td><td>1</td></tr><tr><td>Alex Pritchard</td><td>1</td></tr><tr><td>Johann Gudmundsson</td><td>1</td></tr><tr><td>Fernando Llorente</td><td>1</td></tr><tr><td>Federico Fernández</td><td>1</td></tr><tr><td>Granit Xhaka</td><td>1</td></tr><tr><td>Joe Lolley</td><td>1</td></tr><tr><td>Kiko Femenía</td><td>1</td></tr><tr><td>Tom Cleverley</td><td>1</td></tr><tr><td>Nathan Redmond</td><td>1</td></tr><tr><td>Lewis Dunk</td><td>1</td></tr><tr><td>Eric Bailly</td><td>1</td></tr><tr><td>Charlie Daniels</td><td>1</td></tr><tr><td>Jesé</td><td>1</td></tr><tr><td>Davide Zappacosta</td><td>1</td></tr><tr><td>Sam Field</td><td>1</td></tr><tr><td>Mario Lemina</td><td>1</td></tr><tr><td>Molla Wagué</td><td>1</td></tr><tr><td>Mikel Merino</td><td>1</td></tr><tr><td>James Collins</td><td>1</td></tr><tr><td>Charly Musonda</td><td>0</td></tr><tr><td>Heurelho Gomes</td><td>0</td></tr><tr><td>Jonathan Hogg</td><td>0</td></tr><tr><td>Martin Cranie</td><td>0</td></tr><tr><td>Kyle Walker</td><td>0</td></tr><tr><td>Gaëtan Bong</td><td>0</td></tr><tr><td>Rolando Aarons</td><td>0</td></tr><tr><td>Ademola Lookman</td><td>0</td></tr><tr><td>Daley Blind</td><td>0</td></tr><tr><td>Jonjoe Kenny</td><td>0</td></tr><tr><td>Nathaniel Chalobah</td><td>0</td></tr><tr><td>Chancel Mbemba</td><td>0</td></tr><tr><td>Cédric Soares</td><td>0</td></tr><tr><td>Levi Lumeka</td><td>0</td></tr><tr><td>Ezequiel Schelotto</td><td>0</td></tr><tr><td>Wayne Hennessey</td><td>0</td></tr><tr><td>Uwe Hünemeier</td><td>0</td></tr><tr><td>Eldin Jakupovic</td><td>0</td></tr><tr><td>Shane Duffy</td><td>0</td></tr><tr><td>Jamie Murphy</td><td>0</td></tr><tr><td>Kevin Wimmer</td><td>0</td></tr><tr><td>Sam Byram</td><td>0</td></tr><tr><td>Davinson Sánchez</td><td>0</td></tr><tr><td>Grzegorz Krychowiak</td><td>0</td></tr><tr><td>Marko Grujic</td><td>0</td></tr><tr><td>Sebastian Prödl</td><td>0</td></tr><tr><td>Bruno</td><td>0</td></tr><tr><td>Robert Elliot</td><td>0</td></tr><tr><td>Joe Willock</td><td>0</td></tr><tr><td>Lee Grant</td><td>0</td></tr><tr><td>Harry Winks</td><td>0</td></tr><tr><td>Yaya Touré</td><td>0</td></tr><tr><td>Toby Alderweireld</td><td>0</td></tr><tr><td>Hamza Choudhury</td><td>0</td></tr><tr><td>Lukas Nmecha</td><td>0</td></tr><tr><td>Kieran Gibbs</td><td>0</td></tr><tr><td>Pierre-Emile Højbjerg</td><td>0</td></tr><tr><td>Daniel Amartey</td><td>0</td></tr><tr><td>Freddie Ladapo</td><td>0</td></tr><tr><td>Michel Vorm</td><td>0</td></tr><tr><td>Sam Baldock</td><td>0</td></tr><tr><td>Brahim Diaz</td><td>0</td></tr><tr><td>Dean Whitehead</td><td>0</td></tr><tr><td>Sam McQueen</td><td>0</td></tr><tr><td>Boaz Myhill</td><td>0</td></tr><tr><td>Cuco Martina</td><td>0</td></tr><tr><td>Erik Pieters</td><td>0</td></tr><tr><td>Kevin Mirallas</td><td>0</td></tr><tr><td>Kieran Trippier</td><td>0</td></tr><tr><td>Younes Kaboul</td><td>0</td></tr><tr><td>James McCarthy</td><td>0</td></tr><tr><td>Declan Rice</td><td>0</td></tr><tr><td>Tom Carroll</td><td>0</td></tr><tr><td>Vincent Janssen</td><td>0</td></tr><tr><td>Eliaquim Mangala</td><td>0</td></tr><tr><td>Davy Klaassen</td><td>0</td></tr><tr><td>Lewis Cook</td><td>0</td></tr><tr><td>Wayne Routledge</td><td>0</td></tr><tr><td>Josh Tymon</td><td>0</td></tr><tr><td>Eric Dier</td><td>0</td></tr><tr><td>Fousseni Diabaté</td><td>0</td></tr><tr><td>Chris Löwe</td><td>0</td></tr><tr><td>Danny Rose</td><td>0</td></tr><tr><td>Martin Kelly</td><td>0</td></tr><tr><td>Matty James</td><td>0</td></tr><tr><td>Michael Carrick</td><td>0</td></tr><tr><td>Roque Mesa</td><td>0</td></tr><tr><td>Dodi Lukebakio</td><td>0</td></tr><tr><td>Ben Hamer</td><td>0</td></tr><tr><td>Beram Kayal</td><td>0</td></tr><tr><td>Damien Delaney</td><td>0</td></tr><tr><td>Leon Britton</td><td>0</td></tr><tr><td>Emerson Hyndman</td><td>0</td></tr><tr><td>Aleksandar Dragovic</td><td>0</td></tr><tr><td>Chung-Yong Lee</td><td>0</td></tr><tr><td>Mason Holgate</td><td>0</td></tr><tr><td>Petr Cech</td><td>0</td></tr><tr><td>Jerome Sinclair</td><td>0</td></tr><tr><td>Luke Shaw</td><td>0</td></tr><tr><td>Mousa Dembélé</td><td>0</td></tr><tr><td>Connor Roberts</td><td>0</td></tr><tr><td>Thibaut Courtois</td><td>0</td></tr><tr><td>Adrien Silva</td><td>0</td></tr><tr><td>Ibrahim Afellay</td><td>0</td></tr><tr><td>Allan Nyom</td><td>0</td></tr><tr><td>Davy Pröpper</td><td>0</td></tr><tr><td>Kyle Naughton</td><td>0</td></tr><tr><td>Edimilson Fernandes</td><td>0</td></tr><tr><td>Ederson</td><td>0</td></tr><tr><td>Oliver Burke</td><td>0</td></tr><tr><td>Christian Fuchs</td><td>0</td></tr><tr><td>Javier Manquillo</td><td>0</td></tr><tr><td>Ryan Bertrand</td><td>0</td></tr><tr><td>Wilfred Ndidi</td><td>0</td></tr><tr><td>Zanka</td><td>0</td></tr><tr><td>Adrián</td><td>0</td></tr><tr><td>Jordan Pickford</td><td>0</td></tr><tr><td>Markus Suttner</td><td>0</td></tr><tr><td>Tyrese Campbell</td><td>0</td></tr><tr><td>Josh Sims</td><td>0</td></tr><tr><td>Ross Barkley</td><td>0</td></tr><tr><td>Aymeric Laporte</td><td>0</td></tr><tr><td>David De Gea</td><td>0</td></tr><tr><td>Ramiro Funes Mori</td><td>0</td></tr><tr><td>Joe Hart</td><td>0</td></tr><tr><td>Nahki Wells</td><td>0</td></tr><tr><td>Georges-Kévin Nkoudou</td><td>0</td></tr><tr><td>Jérémy Pied</td><td>0</td></tr><tr><td>Adam Lallana</td><td>0</td></tr><tr><td>Chris Brunt</td><td>0</td></tr><tr><td>Zlatan Ibrahimovic</td><td>0</td></tr><tr><td>Arthur Masuaku</td><td>0</td></tr><tr><td>Benjamin Mendy</td><td>0</td></tr><tr><td>Bruno Martins Indi</td><td>0</td></tr><tr><td>Thomas Edwards</td><td>0</td></tr><tr><td>Collin Quaner</td><td>0</td></tr><tr><td>Josh Cullen</td><td>0</td></tr><tr><td>Marcos Rojo</td><td>0</td></tr><tr><td>Martin Olsson</td><td>0</td></tr><tr><td>Calum Chambers</td><td>0</td></tr><tr><td>Julian Speroni</td><td>0</td></tr><tr><td>Sandro Ramírez</td><td>0</td></tr><tr><td>Phil Bardsley</td><td>0</td></tr><tr><td>Danny Williams</td><td>0</td></tr><tr><td>Matteo Darmian</td><td>0</td></tr><tr><td>Emerson</td><td>0</td></tr><tr><td>Wes Morgan</td><td>0</td></tr><tr><td>Jeffrey Schlupp</td><td>0</td></tr><tr><td>Ben Woodburn</td><td>0</td></tr><tr><td>Tommy Smith</td><td>0</td></tr><tr><td>Michael Obafemi</td><td>0</td></tr><tr><td>Jairo Riedewald</td><td>0</td></tr><tr><td>Virgil van Dijk</td><td>0</td></tr><tr><td>Orestis Karnezis</td><td>0</td></tr><tr><td>Patrice Evra</td><td>0</td></tr><tr><td>Saido Berahino</td><td>0</td></tr><tr><td>Benik Afobe</td><td>0</td></tr><tr><td>John Stones</td><td>0</td></tr><tr><td>Abdelhamid Sabiri</td><td>0</td></tr><tr><td>Michael Hefele</td><td>0</td></tr><tr><td>Ashley Westwood</td><td>0</td></tr><tr><td>Ben Mee</td><td>0</td></tr><tr><td>Martin Dubravka</td><td>0</td></tr><tr><td>Julien Ngoy</td><td>0</td></tr><tr><td>Paulo Gazzaniga</td><td>0</td></tr><tr><td>Terence Kongolo</td><td>0</td></tr><tr><td>Claudio Bravo</td><td>0</td></tr><tr><td>Matthew Lowton</td><td>0</td></tr><tr><td>Jeremie Boga</td><td>0</td></tr><tr><td>Lasse Sorensen</td><td>0</td></tr><tr><td>Winston Reid</td><td>0</td></tr><tr><td>Reiss Nelson</td><td>0</td></tr><tr><td>Guido Carrillo</td><td>0</td></tr><tr><td>Yohan Benalouane</td><td>0</td></tr><tr><td>Lee Chung-yong</td><td>0</td></tr><tr><td>Pablo Zabaleta</td><td>0</td></tr><tr><td>Nick Pope</td><td>0</td></tr><tr><td>Jonathan Walters</td><td>0</td></tr><tr><td>Charlie Taylor</td><td>0</td></tr><tr><td>Kyle Walker-Peters</td><td>0</td></tr><tr><td>Karl Darlow</td><td>0</td></tr><tr><td>Oleksandr Zinchenko</td><td>0</td></tr><tr><td>Rob Holding</td><td>0</td></tr><tr><td>Sergio Romero</td><td>0</td></tr><tr><td>Ben Foster</td><td>0</td></tr><tr><td>Lukasz Fabianski</td><td>0</td></tr><tr><td>José Fonte</td><td>0</td></tr><tr><td>Jason Puncheon</td><td>0</td></tr><tr><td>Timothy Fosu-Mensah</td><td>0</td></tr><tr><td>James Milner</td><td>0</td></tr><tr><td>David Ospina</td><td>0</td></tr><tr><td>Kasey Palmer</td><td>0</td></tr><tr><td>Liam Rosenior</td><td>0</td></tr><tr><td>Aaron Lennon</td><td>0</td></tr><tr><td>Andreas Christensen</td><td>0</td></tr><tr><td>Fraser Forster</td><td>0</td></tr><tr><td>Konstantinos Mavropanos</td><td>0</td></tr><tr><td>Reece Oxford</td><td>0</td></tr><tr><td>Victor Lindelöf</td><td>0</td></tr><tr><td>Yohan Cabaye</td><td>0</td></tr><tr><td>Mat Ryan</td><td>0</td></tr><tr><td>Phil Jagielka</td><td>0</td></tr><tr><td>James Tarkowski</td><td>0</td></tr><tr><td>Divock Origi</td><td>0</td></tr><tr><td>Francis Coquelin</td><td>0</td></tr><tr><td>Ander Herrera</td><td>0</td></tr><tr><td>Angel Rangel</td><td>0</td></tr><tr><td>Beni Baningime</td><td>0</td></tr><tr><td>Nathaniel Clyne</td><td>0</td></tr><tr><td>Simon Francis</td><td>0</td></tr><tr><td>Pape Souaré</td><td>0</td></tr><tr><td>Kyle Bartley</td><td>0</td></tr><tr><td>Dale Stephens</td><td>0</td></tr><tr><td>Connor Goldson</td><td>0</td></tr><tr><td>Eddie Nketiah</td><td>0</td></tr><tr><td>Ainsley Maitland-Niles</td><td>0</td></tr><tr><td>Ben Watson</td><td>0</td></tr><tr><td>Gary Cahill</td><td>0</td></tr><tr><td>Isaiah Brown</td><td>0</td></tr><tr><td>Renato Sanches</td><td>0</td></tr><tr><td>David de Gea</td><td>0</td></tr><tr><td>Jack Butland</td><td>0</td></tr><tr><td>Marc Pugh</td><td>0</td></tr><tr><td>Moritz Bauer</td><td>0</td></tr><tr><td>Ben Chilwell</td><td>0</td></tr><tr><td>Dwight McNeil</td><td>0</td></tr><tr><td>Ethan Ampadu</td><td>0</td></tr><tr><td>Adrian Mariappa</td><td>0</td></tr><tr><td>Alex McCarthy</td><td>0</td></tr><tr><td>Gareth McAuley</td><td>0</td></tr><tr><td>Joseph Gomez</td><td>0</td></tr><tr><td>Philip Billing</td><td>0</td></tr><tr><td>Charlie Adam</td><td>0</td></tr><tr><td>Oliver McBurnie</td><td>0</td></tr><tr><td>Jack Simpson</td><td>0</td></tr><tr><td>Lucas Moura</td><td>0</td></tr><tr><td>Wesley Hoedt</td><td>0</td></tr><tr><td>Phil Foden</td><td>0</td></tr><tr><td>Joel Ward</td><td>0</td></tr><tr><td>Loris Karius</td><td>0</td></tr><tr><td>Claudio Yacob</td><td>0</td></tr><tr><td>Scott Malone</td><td>0</td></tr><tr><td>José Holebas</td><td>0</td></tr><tr><td>Seamus Coleman</td><td>0</td></tr><tr><td>Asmir Begovic</td><td>0</td></tr><tr><td>Glen Johnson</td><td>0</td></tr><tr><td>Hugo Lloris</td><td>0</td></tr><tr><td>Sullay Kaikai</td><td>0</td></tr><tr><td>Aaron Wan-Bissaka</td><td>0</td></tr><tr><td>Paul Dummett</td><td>0</td></tr><tr><td>Bojan</td><td>0</td></tr><tr><td>Simon Mignolet</td><td>0</td></tr><tr><td>Florent Hadergjonaj</td><td>0</td></tr><tr><td>Geoff Cameron</td><td>0</td></tr><tr><td>Morgan Schneiderlin</td><td>0</td></tr><tr><td>Tom Heaton</td><td>0</td></tr><tr><td>Massadio Haidara</td><td>0</td></tr><tr><td>Nathan Dyer</td><td>0</td></tr><tr><td>Craig Cathcart</td><td>0</td></tr><tr><td>Jay Fulton</td><td>0</td></tr><tr><td>Scott McTominay</td><td>0</td></tr><tr><td>Willy Caballero</td><td>0</td></tr><tr><td>Jesús Gámez</td><td>0</td></tr><tr><td>DeAndre Yedlin</td><td>0</td></tr><tr><td>Rekeem Harper</td><td>0</td></tr><tr><td>Callum Hudson-Odoi</td><td>0</td></tr><tr><td>Michael Keane</td><td>0</td></tr><tr><td>Nordin Amrabat</td><td>0</td></tr><tr><td>Mohamed Elneny</td><td>0</td></tr><tr><td>Danny Simpson</td><td>0</td></tr><tr><td>Florian Lejeune</td><td>0</td></tr><tr><td>Christopher Schindler</td><td>0</td></tr><tr><td>Jordan Hugill</td><td>0</td></tr><tr><td>Muhamed Besic</td><td>0</td></tr><tr><td>Harvey Barnes</td><td>0</td></tr><tr><td>Alexander Sørloth</td><td>0</td></tr><tr><td>Nikola Vlasic</td><td>0</td></tr><tr><td>Tyrone Mings</td><td>0</td></tr><tr><td>Axel Tuanzebe</td><td>0</td></tr><tr><td>Phil Jones</td><td>0</td></tr><tr><td>Jonas Lössl</td><td>0</td></tr><tr><td>Stephen Ireland</td><td>0</td></tr><tr><td>Alberto Moreno</td><td>0</td></tr><tr><td>Jan Vertonghen</td><td>0</td></tr><tr><td>Marvin Zeegelaar</td><td>0</td></tr><tr><td>Matt Targett</td><td>0</td></tr><tr><td>Kasper Schmeichel</td><td>0</td></tr><tr><td>Konstantinos Stafylidis</td><td>0</td></tr></tbody></table></div>"
      ]
     },
     "metadata": {
      "application/vnd.databricks.v1+output": {
       "addedWidgets": {},
       "aggData": [],
       "aggError": "",
       "aggOverflow": false,
       "aggSchema": [],
       "aggSeriesLimitReached": false,
       "aggType": "",
       "arguments": {},
       "columnCustomDisplayInfos": {},
       "data": [
        [
         "Mohamed Salah",
         32
        ],
        [
         "Harry Kane",
         30
        ],
        [
         "Sergio Agüero",
         21
        ],
        [
         "Jamie Vardy",
         20
        ],
        [
         "Raheem Sterling",
         18
        ],
        [
         "Romelu Lukaku",
         16
        ],
        [
         "Roberto Firmino",
         15
        ],
        [
         "Alexandre Lacazette",
         14
        ],
        [
         "Gabriel Jesus",
         13
        ],
        [
         "Riyad Mahrez",
         12
        ],
        [
         "Eden Hazard",
         12
        ],
        [
         "Son Heung-Min",
         12
        ],
        [
         "Glenn Murray",
         12
        ],
        [
         "Marko Arnautovic",
         11
        ],
        [
         "Álvaro Morata",
         11
        ],
        [
         "Sadio Mané",
         10
        ],
        [
         "Christian Eriksen",
         10
        ],
        [
         "Chris Wood",
         10
        ],
        [
         "Wayne Rooney",
         10
        ],
        [
         "Leroy Sané",
         10
        ],
        [
         "Pierre-Emerick Aubameyang",
         10
        ],
        [
         "Luka Milivojevic",
         10
        ],
        [
         "Alexis Sánchez",
         9
        ],
        [
         "Ashley Barnes",
         9
        ],
        [
         "Dele Alli",
         9
        ],
        [
         "Anthony Martial",
         9
        ],
        [
         "David Silva",
         9
        ],
        [
         "Wilfried Zaha",
         9
        ],
        [
         "Callum Wilson",
         8
        ],
        [
         "Kevin De Bruyne",
         8
        ],
        [
         "Xherdan Shaqiri",
         8
        ],
        [
         "Joshua King",
         8
        ],
        [
         "Chicharito",
         8
        ],
        [
         "Ayoze Pérez",
         8
        ],
        [
         "Oumar Niasse",
         8
        ],
        [
         "Jesse Lingard",
         8
        ],
        [
         "Aaron Ramsey",
         7
        ],
        [
         "Abdoulaye Doucouré",
         7
        ],
        [
         "Philippe Coutinho",
         7
        ],
        [
         "Jay Rodriguez",
         7
        ],
        [
         "Charlie Austin",
         7
        ],
        [
         "Pascal Groß",
         7
        ],
        [
         "Marcos Alonso",
         7
        ],
        [
         "Steve Mounie",
         7
        ],
        [
         "Salomón Rondón",
         7
        ],
        [
         "Olivier Giroud",
         7
        ],
        [
         "Jordan Ayew",
         7
        ],
        [
         "Marcus Rashford",
         7
        ],
        [
         "Mame Biram Diouf",
         6
        ],
        [
         "Shinji Okazaki",
         6
        ],
        [
         "Paul Pogba",
         6
        ],
        [
         "Bernardo Silva",
         6
        ],
        [
         "Laurent Depoitre",
         6
        ],
        [
         "Dwight Gayle",
         6
        ],
        [
         "Dusan Tadic",
         6
        ],
        [
         "Willian",
         6
        ],
        [
         "Richarlison",
         5
        ],
        [
         "Tammy Abraham",
         5
        ],
        [
         "Peter Crouch",
         5
        ],
        [
         "Roberto Pereyra",
         5
        ],
        [
         "Cenk Tosun",
         5
        ],
        [
         "José Izquierdo",
         5
        ],
        [
         "Danny Welbeck",
         5
        ],
        [
         "James McArthur",
         5
        ],
        [
         "Andre Gray",
         5
        ],
        [
         "Troy Deeney",
         5
        ],
        [
         "Nacho Monreal",
         5
        ],
        [
         "Fernandinho",
         5
        ],
        [
         "Manuel Lanzini",
         5
        ],
        [
         "Patrick van Aanholt",
         5
        ],
        [
         "Junior Stanislas",
         5
        ],
        [
         "Manolo Gabbiadini",
         5
        ],
        [
         "Ryan Fraser",
         5
        ],
        [
         "Eric Maxim Choupo-Moting",
         5
        ],
        [
         "Gylfi Sigurdsson",
         4
        ],
        [
         "Mark Noble",
         4
        ],
        [
         "Ilkay Gündogan",
         4
        ],
        [
         "Nicolás Otamendi",
         4
        ],
        [
         "Joselu",
         4
        ],
        [
         "Mesut Özil",
         4
        ],
        [
         "Pedro",
         4
        ],
        [
         "Dominic Calvert-Lewin",
         4
        ],
        [
         "Aaron Mooy",
         4
        ],
        [
         "Sam Vokes",
         4
        ],
        [
         "Chris Smalling",
         4
        ],
        [
         "Marouane Fellaini",
         4
        ],
        [
         "Jermain Defoe",
         4
        ],
        [
         "Anthony Knockaert",
         3
        ],
        [
         "Demarai Gray",
         3
        ],
        [
         "Sam Clucas",
         3
        ],
        [
         "Christian Benteke",
         3
        ],
        [
         "Jamaal Lascelles",
         3
        ],
        [
         "Shkodran Mustafi",
         3
        ],
        [
         "Emre Can",
         3
        ],
        [
         "James Tomkins",
         3
        ],
        [
         "Matt Ritchie",
         3
        ],
        [
         "Juan Mata",
         3
        ],
        [
         "Bakary Sako",
         3
        ],
        [
         "Steven Davis",
         3
        ],
        [
         "Antonio Valencia",
         3
        ],
        [
         "Andy Carroll",
         3
        ],
        [
         "Henrikh Mkhitaryan",
         3
        ],
        [
         "Vicente Iborra",
         3
        ],
        [
         "Michail Antonio",
         3
        ],
        [
         "Kelechi Iheanacho",
         3
        ],
        [
         "Alex Oxlade Chamberlain",
         3
        ],
        [
         "Rajiv van La Parra",
         3
        ],
        [
         "James Ward-Prowse",
         3
        ],
        [
         "Victor Moses",
         3
        ],
        [
         "Andy King",
         3
        ],
        [
         "Alex Iwobi",
         3
        ],
        [
         "André Ayew",
         3
        ],
        [
         "Daryl Janmaat",
         3
        ],
        [
         "Danilo",
         3
        ],
        [
         "Theo Walcott",
         3
        ],
        [
         "César Azpilicueta",
         2
        ],
        [
         "Ahmed Hegazi",
         2
        ],
        [
         "Antonio Rüdiger",
         2
        ],
        [
         "Harry Maguire",
         2
        ],
        [
         "Joe Allen",
         2
        ],
        [
         "Serge Aurier",
         2
        ],
        [
         "Ruben Loftus-Cheek",
         2
        ],
        [
         "Ashley Young",
         2
        ],
        [
         "Tomer Hemed",
         2
        ],
        [
         "Jack Stephens",
         2
        ],
        [
         "Craig Dawson",
         2
        ],
        [
         "Cheikhou Kouyaté",
         2
        ],
        [
         "Christian Kabasele",
         2
        ],
        [
         "Tom Ince",
         2
        ],
        [
         "Nathan Aké",
         2
        ],
        [
         "Ciaran Clark",
         2
        ],
        [
         "Ramadan Sobhi",
         2
        ],
        [
         "Daniel Sturridge",
         2
        ],
        [
         "Mohamed Diamé",
         2
        ],
        [
         "Scott Arfield",
         2
        ],
        [
         "Sead Kolasinac",
         2
        ],
        [
         "Badou Ndiaye",
         2
        ],
        [
         "Christian Atsu",
         2
        ],
        [
         "Andrew Surman",
         2
        ],
        [
         "Cesc Fàbregas",
         2
        ],
        [
         "Maya Yoshida",
         2
        ],
        [
         "Jack Cork",
         2
        ],
        [
         "Pedro Obiang",
         2
        ],
        [
         "Jake Livermore",
         2
        ],
        [
         "Erik Lamela",
         2
        ],
        [
         "Jonny Evans",
         2
        ],
        [
         "Ben Davies",
         2
        ],
        [
         "Dejan Lovren",
         2
        ],
        [
         "Tom Davies",
         2
        ],
        [
         "Jeff Hendrick",
         2
        ],
        [
         "Will Hughes",
         2
        ],
        [
         "Diafra Sakho",
         2
        ],
        [
         "Idrissa Gueye",
         2
        ],
        [
         "Lys Mousset",
         2
        ],
        [
         "Hal Robson-Kanu",
         2
        ],
        [
         "Kenedy",
         2
        ],
        [
         "Héctor Bellerín",
         2
        ],
        [
         "Laurent Koscielny",
         2
        ],
        [
         "Andros Townsend",
         2
        ],
        [
         "Michy Batshuayi",
         2
        ],
        [
         "Marc Albrighton",
         2
        ],
        [
         "Wilfried Bony",
         2
        ],
        [
         "Dan Gosling",
         2
        ],
        [
         "Jordon Ibe",
         2
        ],
        [
         "Ki Sung-yueng",
         2
        ],
        [
         "Leighton Baines",
         2
        ],
        [
         "Steve Cook",
         2
        ],
        [
         "João Mário",
         2
        ],
        [
         "Tiemoué Bakayoko",
         2
        ],
        [
         "Matt Phillips",
         2
        ],
        [
         "Alfie Mawson",
         2
        ],
        [
         "Sofiane Boufal",
         2
        ],
        [
         "Shane Long",
         2
        ],
        [
         "Ryan Shawcross",
         1
        ],
        [
         "Isaac Hayden",
         1
        ],
        [
         "Ragnar Klavan",
         1
        ],
        [
         "Robbie Brady",
         1
        ],
        [
         "James Morrison",
         1
        ],
        [
         "Jordan Henderson",
         1
        ],
        [
         "Solly March",
         1
        ],
        [
         "Angelo Ogbonna",
         1
        ],
        [
         "Gareth Barry",
         1
        ],
        [
         "Steven Defour",
         1
        ],
        [
         "Elias Kachunga",
         1
        ],
        [
         "Johann Berg Gudmundsson",
         1
        ],
        [
         "Stephen Ward",
         1
        ],
        [
         "Andrew Robertson",
         1
        ],
        [
         "N'Golo Kanté",
         1
        ],
        [
         "Leroy Fer",
         1
        ],
        [
         "Oriol Romeu",
         1
        ],
        [
         "Henri Saivet",
         1
        ],
        [
         "Aaron Cresswell",
         1
        ],
        [
         "Leonardo Ulloa",
         1
        ],
        [
         "Mike van der Hoorn",
         1
        ],
        [
         "Stefano Okaka",
         1
        ],
        [
         "Ashley Williams",
         1
        ],
        [
         "Nemanja Matic",
         1
        ],
        [
         "Scott Dann",
         1
        ],
        [
         "Per Mertesacker",
         1
        ],
        [
         "Yannick Bolasie",
         1
        ],
        [
         "Moussa Sissoko",
         1
        ],
        [
         "Daniel Drinkwater",
         1
        ],
        [
         "Danny Ings",
         1
        ],
        [
         "Fabian Delph",
         1
        ],
        [
         "Etienne Capoue",
         1
        ],
        [
         "Luciano Narsingh",
         1
        ],
        [
         "Adam Smith",
         1
        ],
        [
         "James McClean",
         1
        ],
        [
         "Nacer Chadli",
         1
        ],
        [
         "Trent Alexander-Arnold",
         1
        ],
        [
         "Aleksandar Mitrovic",
         1
        ],
        [
         "Victor Wanyama",
         1
        ],
        [
         "Vincent Kompany",
         1
        ],
        [
         "Jonjo Shelvey",
         1
        ],
        [
         "Harry Arter",
         1
        ],
        [
         "Kevin Long",
         1
        ],
        [
         "Mamadou Sakho",
         1
        ],
        [
         "Georginio Wijnaldum",
         1
        ],
        [
         "Jan Bednarek",
         1
        ],
        [
         "Darren Fletcher",
         1
        ],
        [
         "Joel Matip",
         1
        ],
        [
         "Jürgen Locadia",
         1
        ],
        [
         "Jack Wilshere",
         1
        ],
        [
         "Kurt Zouma",
         1
        ],
        [
         "Islam Slimani",
         1
        ],
        [
         "Gerard Deulofeu",
         1
        ],
        [
         "Dominic Solanke",
         1
        ],
        [
         "André Carrillo",
         1
        ],
        [
         "Jacob Murphy",
         1
        ],
        [
         "David Luiz",
         1
        ],
        [
         "Miguel Britos",
         1
        ],
        [
         "Alex Pritchard",
         1
        ],
        [
         "Johann Gudmundsson",
         1
        ],
        [
         "Fernando Llorente",
         1
        ],
        [
         "Federico Fernández",
         1
        ],
        [
         "Granit Xhaka",
         1
        ],
        [
         "Joe Lolley",
         1
        ],
        [
         "Kiko Femenía",
         1
        ],
        [
         "Tom Cleverley",
         1
        ],
        [
         "Nathan Redmond",
         1
        ],
        [
         "Lewis Dunk",
         1
        ],
        [
         "Eric Bailly",
         1
        ],
        [
         "Charlie Daniels",
         1
        ],
        [
         "Jesé",
         1
        ],
        [
         "Davide Zappacosta",
         1
        ],
        [
         "Sam Field",
         1
        ],
        [
         "Mario Lemina",
         1
        ],
        [
         "Molla Wagué",
         1
        ],
        [
         "Mikel Merino",
         1
        ],
        [
         "James Collins",
         1
        ],
        [
         "Charly Musonda",
         0
        ],
        [
         "Heurelho Gomes",
         0
        ],
        [
         "Jonathan Hogg",
         0
        ],
        [
         "Martin Cranie",
         0
        ],
        [
         "Kyle Walker",
         0
        ],
        [
         "Gaëtan Bong",
         0
        ],
        [
         "Rolando Aarons",
         0
        ],
        [
         "Ademola Lookman",
         0
        ],
        [
         "Daley Blind",
         0
        ],
        [
         "Jonjoe Kenny",
         0
        ],
        [
         "Nathaniel Chalobah",
         0
        ],
        [
         "Chancel Mbemba",
         0
        ],
        [
         "Cédric Soares",
         0
        ],
        [
         "Levi Lumeka",
         0
        ],
        [
         "Ezequiel Schelotto",
         0
        ],
        [
         "Wayne Hennessey",
         0
        ],
        [
         "Uwe Hünemeier",
         0
        ],
        [
         "Eldin Jakupovic",
         0
        ],
        [
         "Shane Duffy",
         0
        ],
        [
         "Jamie Murphy",
         0
        ],
        [
         "Kevin Wimmer",
         0
        ],
        [
         "Sam Byram",
         0
        ],
        [
         "Davinson Sánchez",
         0
        ],
        [
         "Grzegorz Krychowiak",
         0
        ],
        [
         "Marko Grujic",
         0
        ],
        [
         "Sebastian Prödl",
         0
        ],
        [
         "Bruno",
         0
        ],
        [
         "Robert Elliot",
         0
        ],
        [
         "Joe Willock",
         0
        ],
        [
         "Lee Grant",
         0
        ],
        [
         "Harry Winks",
         0
        ],
        [
         "Yaya Touré",
         0
        ],
        [
         "Toby Alderweireld",
         0
        ],
        [
         "Hamza Choudhury",
         0
        ],
        [
         "Lukas Nmecha",
         0
        ],
        [
         "Kieran Gibbs",
         0
        ],
        [
         "Pierre-Emile Højbjerg",
         0
        ],
        [
         "Daniel Amartey",
         0
        ],
        [
         "Freddie Ladapo",
         0
        ],
        [
         "Michel Vorm",
         0
        ],
        [
         "Sam Baldock",
         0
        ],
        [
         "Brahim Diaz",
         0
        ],
        [
         "Dean Whitehead",
         0
        ],
        [
         "Sam McQueen",
         0
        ],
        [
         "Boaz Myhill",
         0
        ],
        [
         "Cuco Martina",
         0
        ],
        [
         "Erik Pieters",
         0
        ],
        [
         "Kevin Mirallas",
         0
        ],
        [
         "Kieran Trippier",
         0
        ],
        [
         "Younes Kaboul",
         0
        ],
        [
         "James McCarthy",
         0
        ],
        [
         "Declan Rice",
         0
        ],
        [
         "Tom Carroll",
         0
        ],
        [
         "Vincent Janssen",
         0
        ],
        [
         "Eliaquim Mangala",
         0
        ],
        [
         "Davy Klaassen",
         0
        ],
        [
         "Lewis Cook",
         0
        ],
        [
         "Wayne Routledge",
         0
        ],
        [
         "Josh Tymon",
         0
        ],
        [
         "Eric Dier",
         0
        ],
        [
         "Fousseni Diabaté",
         0
        ],
        [
         "Chris Löwe",
         0
        ],
        [
         "Danny Rose",
         0
        ],
        [
         "Martin Kelly",
         0
        ],
        [
         "Matty James",
         0
        ],
        [
         "Michael Carrick",
         0
        ],
        [
         "Roque Mesa",
         0
        ],
        [
         "Dodi Lukebakio",
         0
        ],
        [
         "Ben Hamer",
         0
        ],
        [
         "Beram Kayal",
         0
        ],
        [
         "Damien Delaney",
         0
        ],
        [
         "Leon Britton",
         0
        ],
        [
         "Emerson Hyndman",
         0
        ],
        [
         "Aleksandar Dragovic",
         0
        ],
        [
         "Chung-Yong Lee",
         0
        ],
        [
         "Mason Holgate",
         0
        ],
        [
         "Petr Cech",
         0
        ],
        [
         "Jerome Sinclair",
         0
        ],
        [
         "Luke Shaw",
         0
        ],
        [
         "Mousa Dembélé",
         0
        ],
        [
         "Connor Roberts",
         0
        ],
        [
         "Thibaut Courtois",
         0
        ],
        [
         "Adrien Silva",
         0
        ],
        [
         "Ibrahim Afellay",
         0
        ],
        [
         "Allan Nyom",
         0
        ],
        [
         "Davy Pröpper",
         0
        ],
        [
         "Kyle Naughton",
         0
        ],
        [
         "Edimilson Fernandes",
         0
        ],
        [
         "Ederson",
         0
        ],
        [
         "Oliver Burke",
         0
        ],
        [
         "Christian Fuchs",
         0
        ],
        [
         "Javier Manquillo",
         0
        ],
        [
         "Ryan Bertrand",
         0
        ],
        [
         "Wilfred Ndidi",
         0
        ],
        [
         "Zanka",
         0
        ],
        [
         "Adrián",
         0
        ],
        [
         "Jordan Pickford",
         0
        ],
        [
         "Markus Suttner",
         0
        ],
        [
         "Tyrese Campbell",
         0
        ],
        [
         "Josh Sims",
         0
        ],
        [
         "Ross Barkley",
         0
        ],
        [
         "Aymeric Laporte",
         0
        ],
        [
         "David De Gea",
         0
        ],
        [
         "Ramiro Funes Mori",
         0
        ],
        [
         "Joe Hart",
         0
        ],
        [
         "Nahki Wells",
         0
        ],
        [
         "Georges-Kévin Nkoudou",
         0
        ],
        [
         "Jérémy Pied",
         0
        ],
        [
         "Adam Lallana",
         0
        ],
        [
         "Chris Brunt",
         0
        ],
        [
         "Zlatan Ibrahimovic",
         0
        ],
        [
         "Arthur Masuaku",
         0
        ],
        [
         "Benjamin Mendy",
         0
        ],
        [
         "Bruno Martins Indi",
         0
        ],
        [
         "Thomas Edwards",
         0
        ],
        [
         "Collin Quaner",
         0
        ],
        [
         "Josh Cullen",
         0
        ],
        [
         "Marcos Rojo",
         0
        ],
        [
         "Martin Olsson",
         0
        ],
        [
         "Calum Chambers",
         0
        ],
        [
         "Julian Speroni",
         0
        ],
        [
         "Sandro Ramírez",
         0
        ],
        [
         "Phil Bardsley",
         0
        ],
        [
         "Danny Williams",
         0
        ],
        [
         "Matteo Darmian",
         0
        ],
        [
         "Emerson",
         0
        ],
        [
         "Wes Morgan",
         0
        ],
        [
         "Jeffrey Schlupp",
         0
        ],
        [
         "Ben Woodburn",
         0
        ],
        [
         "Tommy Smith",
         0
        ],
        [
         "Michael Obafemi",
         0
        ],
        [
         "Jairo Riedewald",
         0
        ],
        [
         "Virgil van Dijk",
         0
        ],
        [
         "Orestis Karnezis",
         0
        ],
        [
         "Patrice Evra",
         0
        ],
        [
         "Saido Berahino",
         0
        ],
        [
         "Benik Afobe",
         0
        ],
        [
         "John Stones",
         0
        ],
        [
         "Abdelhamid Sabiri",
         0
        ],
        [
         "Michael Hefele",
         0
        ],
        [
         "Ashley Westwood",
         0
        ],
        [
         "Ben Mee",
         0
        ],
        [
         "Martin Dubravka",
         0
        ],
        [
         "Julien Ngoy",
         0
        ],
        [
         "Paulo Gazzaniga",
         0
        ],
        [
         "Terence Kongolo",
         0
        ],
        [
         "Claudio Bravo",
         0
        ],
        [
         "Matthew Lowton",
         0
        ],
        [
         "Jeremie Boga",
         0
        ],
        [
         "Lasse Sorensen",
         0
        ],
        [
         "Winston Reid",
         0
        ],
        [
         "Reiss Nelson",
         0
        ],
        [
         "Guido Carrillo",
         0
        ],
        [
         "Yohan Benalouane",
         0
        ],
        [
         "Lee Chung-yong",
         0
        ],
        [
         "Pablo Zabaleta",
         0
        ],
        [
         "Nick Pope",
         0
        ],
        [
         "Jonathan Walters",
         0
        ],
        [
         "Charlie Taylor",
         0
        ],
        [
         "Kyle Walker-Peters",
         0
        ],
        [
         "Karl Darlow",
         0
        ],
        [
         "Oleksandr Zinchenko",
         0
        ],
        [
         "Rob Holding",
         0
        ],
        [
         "Sergio Romero",
         0
        ],
        [
         "Ben Foster",
         0
        ],
        [
         "Lukasz Fabianski",
         0
        ],
        [
         "José Fonte",
         0
        ],
        [
         "Jason Puncheon",
         0
        ],
        [
         "Timothy Fosu-Mensah",
         0
        ],
        [
         "James Milner",
         0
        ],
        [
         "David Ospina",
         0
        ],
        [
         "Kasey Palmer",
         0
        ],
        [
         "Liam Rosenior",
         0
        ],
        [
         "Aaron Lennon",
         0
        ],
        [
         "Andreas Christensen",
         0
        ],
        [
         "Fraser Forster",
         0
        ],
        [
         "Konstantinos Mavropanos",
         0
        ],
        [
         "Reece Oxford",
         0
        ],
        [
         "Victor Lindelöf",
         0
        ],
        [
         "Yohan Cabaye",
         0
        ],
        [
         "Mat Ryan",
         0
        ],
        [
         "Phil Jagielka",
         0
        ],
        [
         "James Tarkowski",
         0
        ],
        [
         "Divock Origi",
         0
        ],
        [
         "Francis Coquelin",
         0
        ],
        [
         "Ander Herrera",
         0
        ],
        [
         "Angel Rangel",
         0
        ],
        [
         "Beni Baningime",
         0
        ],
        [
         "Nathaniel Clyne",
         0
        ],
        [
         "Simon Francis",
         0
        ],
        [
         "Pape Souaré",
         0
        ],
        [
         "Kyle Bartley",
         0
        ],
        [
         "Dale Stephens",
         0
        ],
        [
         "Connor Goldson",
         0
        ],
        [
         "Eddie Nketiah",
         0
        ],
        [
         "Ainsley Maitland-Niles",
         0
        ],
        [
         "Ben Watson",
         0
        ],
        [
         "Gary Cahill",
         0
        ],
        [
         "Isaiah Brown",
         0
        ],
        [
         "Renato Sanches",
         0
        ],
        [
         "David de Gea",
         0
        ],
        [
         "Jack Butland",
         0
        ],
        [
         "Marc Pugh",
         0
        ],
        [
         "Moritz Bauer",
         0
        ],
        [
         "Ben Chilwell",
         0
        ],
        [
         "Dwight McNeil",
         0
        ],
        [
         "Ethan Ampadu",
         0
        ],
        [
         "Adrian Mariappa",
         0
        ],
        [
         "Alex McCarthy",
         0
        ],
        [
         "Gareth McAuley",
         0
        ],
        [
         "Joseph Gomez",
         0
        ],
        [
         "Philip Billing",
         0
        ],
        [
         "Charlie Adam",
         0
        ],
        [
         "Oliver McBurnie",
         0
        ],
        [
         "Jack Simpson",
         0
        ],
        [
         "Lucas Moura",
         0
        ],
        [
         "Wesley Hoedt",
         0
        ],
        [
         "Phil Foden",
         0
        ],
        [
         "Joel Ward",
         0
        ],
        [
         "Loris Karius",
         0
        ],
        [
         "Claudio Yacob",
         0
        ],
        [
         "Scott Malone",
         0
        ],
        [
         "José Holebas",
         0
        ],
        [
         "Seamus Coleman",
         0
        ],
        [
         "Asmir Begovic",
         0
        ],
        [
         "Glen Johnson",
         0
        ],
        [
         "Hugo Lloris",
         0
        ],
        [
         "Sullay Kaikai",
         0
        ],
        [
         "Aaron Wan-Bissaka",
         0
        ],
        [
         "Paul Dummett",
         0
        ],
        [
         "Bojan",
         0
        ],
        [
         "Simon Mignolet",
         0
        ],
        [
         "Florent Hadergjonaj",
         0
        ],
        [
         "Geoff Cameron",
         0
        ],
        [
         "Morgan Schneiderlin",
         0
        ],
        [
         "Tom Heaton",
         0
        ],
        [
         "Massadio Haidara",
         0
        ],
        [
         "Nathan Dyer",
         0
        ],
        [
         "Craig Cathcart",
         0
        ],
        [
         "Jay Fulton",
         0
        ],
        [
         "Scott McTominay",
         0
        ],
        [
         "Willy Caballero",
         0
        ],
        [
         "Jesús Gámez",
         0
        ],
        [
         "DeAndre Yedlin",
         0
        ],
        [
         "Rekeem Harper",
         0
        ],
        [
         "Callum Hudson-Odoi",
         0
        ],
        [
         "Michael Keane",
         0
        ],
        [
         "Nordin Amrabat",
         0
        ],
        [
         "Mohamed Elneny",
         0
        ],
        [
         "Danny Simpson",
         0
        ],
        [
         "Florian Lejeune",
         0
        ],
        [
         "Christopher Schindler",
         0
        ],
        [
         "Jordan Hugill",
         0
        ],
        [
         "Muhamed Besic",
         0
        ],
        [
         "Harvey Barnes",
         0
        ],
        [
         "Alexander Sørloth",
         0
        ],
        [
         "Nikola Vlasic",
         0
        ],
        [
         "Tyrone Mings",
         0
        ],
        [
         "Axel Tuanzebe",
         0
        ],
        [
         "Phil Jones",
         0
        ],
        [
         "Jonas Lössl",
         0
        ],
        [
         "Stephen Ireland",
         0
        ],
        [
         "Alberto Moreno",
         0
        ],
        [
         "Jan Vertonghen",
         0
        ],
        [
         "Marvin Zeegelaar",
         0
        ],
        [
         "Matt Targett",
         0
        ],
        [
         "Kasper Schmeichel",
         0
        ],
        [
         "Konstantinos Stafylidis",
         0
        ]
       ],
       "datasetInfos": [],
       "dbfsResultPath": null,
       "isJsonSchema": true,
       "metadata": {},
       "overflow": false,
       "plotOptions": {
        "customPlotOptions": {},
        "displayType": "table",
        "pivotAggregation": null,
        "pivotColumns": null,
        "xColumns": null,
        "yColumns": null
       },
       "removedWidgets": [],
       "schema": [
        {
         "metadata": "{}",
         "name": "player_name",
         "type": "\"string\""
        },
        {
         "metadata": "{}",
         "name": "total_goals",
         "type": "\"long\""
        }
       ],
       "type": "table"
      }
     },
     "output_type": "display_data"
    }
   ],
   "source": [
    "%sql\n",
    "SELECT player_name, SUM(goals) AS total_goals\n",
    "FROM P_M\n",
    "GROUP BY player_name\n",
    "ORDER BY total_goals DESC;\n"
   ]
  },
  {
   "cell_type": "code",
   "execution_count": 0,
   "metadata": {
    "application/vnd.databricks.v1+cell": {
     "cellMetadata": {
      "byteLimit": 2048000,
      "implicitDf": true,
      "rowLimit": 10000
     },
     "inputWidgets": {},
     "nuid": "019f52b8-5a1d-4179-9fbf-ccef8f3a17fc",
     "showTitle": false,
     "title": ""
    }
   },
   "outputs": [
    {
     "output_type": "display_data",
     "data": {
      "text/html": [
       "<style scoped>\n",
       "  .table-result-container {\n",
       "    max-height: 300px;\n",
       "    overflow: auto;\n",
       "  }\n",
       "  table, th, td {\n",
       "    border: 1px solid black;\n",
       "    border-collapse: collapse;\n",
       "  }\n",
       "  th, td {\n",
       "    padding: 5px;\n",
       "  }\n",
       "  th {\n",
       "    text-align: left;\n",
       "  }\n",
       "</style><div class='table-result-container'><table class='table-result'><thead style='background-color: white'><tr><th>player_position_info</th><th>player_count</th></tr></thead><tbody><tr><td>MC</td><td>4208</td></tr><tr><td>DFC</td><td>1899</td></tr><tr><td>DC</td><td>1530</td></tr><tr><td>POR</td><td>765</td></tr><tr><td>LI</td><td>699</td></tr><tr><td>LD</td><td>646</td></tr><tr><td>ED</td><td>392</td></tr><tr><td>EI</td><td>309</td></tr></tbody></table></div>"
      ]
     },
     "metadata": {
      "application/vnd.databricks.v1+output": {
       "addedWidgets": {},
       "aggData": [],
       "aggError": "",
       "aggOverflow": false,
       "aggSchema": [],
       "aggSeriesLimitReached": false,
       "aggType": "",
       "arguments": {},
       "columnCustomDisplayInfos": {},
       "data": [
        [
         "MC",
         4208
        ],
        [
         "DFC",
         1899
        ],
        [
         "DC",
         1530
        ],
        [
         "POR",
         765
        ],
        [
         "LI",
         699
        ],
        [
         "LD",
         646
        ],
        [
         "ED",
         392
        ],
        [
         "EI",
         309
        ]
       ],
       "datasetInfos": [],
       "dbfsResultPath": null,
       "isJsonSchema": true,
       "metadata": {},
       "overflow": false,
       "plotOptions": {
        "customPlotOptions": {},
        "displayType": "table",
        "pivotAggregation": null,
        "pivotColumns": null,
        "xColumns": null,
        "yColumns": null
       },
       "removedWidgets": [],
       "schema": [
        {
         "metadata": "{}",
         "name": "player_position_info",
         "type": "\"string\""
        },
        {
         "metadata": "{}",
         "name": "player_count",
         "type": "\"long\""
        }
       ],
       "type": "table"
      }
     },
     "output_type": "display_data"
    },
    {
     "output_type": "display_data",
     "data": {
      "text/plain": [
       "Databricks visualization. Run in Databricks to view."
      ]
     },
     "metadata": {
      "application/vnd.databricks.v1.subcommand+json": {
       "baseErrorDetails": null,
       "bindings": {},
       "collapsed": false,
       "command": "%sql WITH q AS (SELECT player_position_info, COUNT(player_id) AS player_count\nFROM P_M\nGROUP BY player_position_info\nORDER BY player_count DESC) SELECT `player_position_info`,SUM(`player_count`) `column_3eb25e4340` FROM q GROUP BY `player_position_info`",
       "commandTitle": "Visualization 1",
       "commandType": "auto",
       "commandVersion": 0,
       "commentThread": [],
       "commentsVisible": false,
       "contentSha256Hex": null,
       "customPlotOptions": {
        "redashChart": [
         {
          "key": "type",
          "value": "CHART"
         },
         {
          "key": "options",
          "value": {
           "alignYAxesAtZero": true,
           "coefficient": 1,
           "columnConfigurationMap": {
            "x": {
             "column": "player_position_info",
             "id": "column_3eb25e4339"
            },
            "y": [
             {
              "column": "player_count",
              "id": "column_3eb25e4340",
              "transform": "SUM"
             }
            ]
           },
           "dateTimeFormat": "DD/MM/YYYY HH:mm",
           "direction": {
            "type": "counterclockwise"
           },
           "error_y": {
            "type": "data",
            "visible": true
           },
           "globalSeriesType": "column",
           "isAggregationOn": true,
           "legend": {
            "traceorder": "normal"
           },
           "missingValuesAsZero": true,
           "numberFormat": "0,0.[00000]",
           "percentFormat": "0[.]00%",
           "series": {
            "error_y": {
             "type": "data",
             "visible": true
            },
            "stacking": null
           },
           "seriesOptions": {
            "column_3eb25e4340": {
             "color": "#C63FA9",
             "name": "player_count",
             "yAxis": 0
            }
           },
           "showDataLabels": false,
           "sizemode": "diameter",
           "sortX": false,
           "sortY": true,
           "swappedAxes": true,
           "textFormat": "",
           "useAggregationsUi": true,
           "valuesOptions": {},
           "version": 2,
           "xAxis": {
            "labels": {
             "enabled": true
            },
            "type": "-"
           },
           "yAxis": [
            {
             "type": "-"
            },
            {
             "opposite": true,
             "type": "-"
            }
           ]
          }
         }
        ]
       },
       "datasetPreviewNameToCmdIdMap": {},
       "diffDeletes": [],
       "diffInserts": [],
       "displayType": "redashChart",
       "error": null,
       "errorDetails": null,
       "errorSummary": null,
       "errorTraceType": null,
       "finishTime": 0,
       "globalVars": {},
       "guid": "",
       "height": "auto",
       "hideCommandCode": false,
       "hideCommandResult": false,
       "iPythonMetadata": null,
       "inputWidgets": {},
       "isLockedInExamMode": false,
       "latestUser": "a user",
       "latestUserId": null,
       "listResultMetadata": null,
       "metadata": {},
       "nuid": "b9a79444-fc9e-438e-b649-564836f9fe12",
       "origId": 0,
       "parentHierarchy": [],
       "pivotAggregation": null,
       "pivotColumns": null,
       "position": 24.0,
       "resultDbfsErrorMessage": null,
       "resultDbfsStatus": "INLINED_IN_TREE",
       "results": null,
       "showCommandTitle": false,
       "startTime": 0,
       "state": "input",
       "streamStates": {},
       "subcommandOptions": {
        "queryPlan": {
         "groups": [
          {
           "column": "player_position_info",
           "type": "column"
          }
         ],
         "selects": [
          {
           "column": "player_position_info",
           "type": "column"
          },
          {
           "alias": "column_3eb25e4340",
           "args": [
            {
             "column": "player_count",
             "type": "column"
            }
           ],
           "function": "SUM",
           "type": "function"
          }
         ]
        }
       },
       "submitTime": 0,
       "subtype": "tableResultSubCmd.visualization",
       "tableResultIndex": 0,
       "useConsistentColors": false,
       "version": "CommandV1",
       "width": "auto",
       "workflows": [],
       "xColumns": null,
       "yColumns": null
      }
     },
     "output_type": "display_data"
    }
   ],
   "source": [
    "%sql\n",
    "SELECT player_position_info, COUNT(player_id) AS player_count\n",
    "FROM P_M\n",
    "GROUP BY player_position_info\n",
    "ORDER BY player_count DESC;\n"
   ]
  },
  {
   "cell_type": "code",
   "execution_count": 0,
   "metadata": {
    "application/vnd.databricks.v1+cell": {
     "cellMetadata": {
      "byteLimit": 2048000,
      "implicitDf": true,
      "rowLimit": 10000
     },
     "inputWidgets": {},
     "nuid": "ddb49ad6-e17a-49ab-ba63-d8c5d812609a",
     "showTitle": false,
     "title": ""
    }
   },
   "outputs": [
    {
     "output_type": "display_data",
     "data": {
      "text/html": [
       "<style scoped>\n",
       "  .table-result-container {\n",
       "    max-height: 300px;\n",
       "    overflow: auto;\n",
       "  }\n",
       "  table, th, td {\n",
       "    border: 1px solid black;\n",
       "    border-collapse: collapse;\n",
       "  }\n",
       "  th, td {\n",
       "    padding: 5px;\n",
       "  }\n",
       "  th {\n",
       "    text-align: left;\n",
       "  }\n",
       "</style><div class='table-result-container'><table class='table-result'><thead style='background-color: white'><tr><th>name</th><th>club</th><th>position</th><th>market_value</th></tr></thead><tbody><tr><td>Eden Hazard</td><td>Chelsea FC</td><td>EI</td><td>75.0</td></tr><tr><td>Paul Pogba</td><td>Manchester United FC</td><td>CM</td><td>75.0</td></tr><tr><td>Alexis Sanchez</td><td>Arsenal FC</td><td>EI</td><td>65.0</td></tr><tr><td>Kevin De Bruyne</td><td>Manchester City FC</td><td>MC</td><td>65.0</td></tr><tr><td>Sergio Aguero</td><td>Manchester City FC</td><td>DC</td><td>65.0</td></tr><tr><td>Harry Kane</td><td>Tottenham Hotspur</td><td>DC</td><td>60.0</td></tr><tr><td>N%27Golo Kante</td><td>Chelsea FC</td><td>MC</td><td>50.0</td></tr><tr><td>Mesut Ozil</td><td>Arsenal FC</td><td>MC</td><td>50.0</td></tr><tr><td>Diego Costa</td><td>Chelsea FC</td><td>DC</td><td>50.0</td></tr><tr><td>Romelu Lukaku</td><td>Manchester United FC</td><td>DC</td><td>50.0</td></tr></tbody></table></div>"
      ]
     },
     "metadata": {
      "application/vnd.databricks.v1+output": {
       "addedWidgets": {},
       "aggData": [],
       "aggError": "",
       "aggOverflow": false,
       "aggSchema": [],
       "aggSeriesLimitReached": false,
       "aggType": "",
       "arguments": {},
       "columnCustomDisplayInfos": {},
       "data": [
        [
         "Eden Hazard",
         "Chelsea FC",
         "EI",
         75.0
        ],
        [
         "Paul Pogba",
         "Manchester United FC",
         "CM",
         75.0
        ],
        [
         "Alexis Sanchez",
         "Arsenal FC",
         "EI",
         65.0
        ],
        [
         "Kevin De Bruyne",
         "Manchester City FC",
         "MC",
         65.0
        ],
        [
         "Sergio Aguero",
         "Manchester City FC",
         "DC",
         65.0
        ],
        [
         "Harry Kane",
         "Tottenham Hotspur",
         "DC",
         60.0
        ],
        [
         "N%27Golo Kante",
         "Chelsea FC",
         "MC",
         50.0
        ],
        [
         "Mesut Ozil",
         "Arsenal FC",
         "MC",
         50.0
        ],
        [
         "Diego Costa",
         "Chelsea FC",
         "DC",
         50.0
        ],
        [
         "Romelu Lukaku",
         "Manchester United FC",
         "DC",
         50.0
        ]
       ],
       "datasetInfos": [],
       "dbfsResultPath": null,
       "isJsonSchema": true,
       "metadata": {},
       "overflow": false,
       "plotOptions": {
        "customPlotOptions": {},
        "displayType": "table",
        "pivotAggregation": null,
        "pivotColumns": null,
        "xColumns": null,
        "yColumns": null
       },
       "removedWidgets": [],
       "schema": [
        {
         "metadata": "{}",
         "name": "name",
         "type": "\"string\""
        },
        {
         "metadata": "{}",
         "name": "club",
         "type": "\"string\""
        },
        {
         "metadata": "{}",
         "name": "position",
         "type": "\"string\""
        },
        {
         "metadata": "{}",
         "name": "market_value",
         "type": "\"float\""
        }
       ],
       "type": "table"
      }
     },
     "output_type": "display_data"
    }
   ],
   "source": [
    "%sql\n",
    "SELECT name, club, position, market_value\n",
    "FROM P_T\n",
    "ORDER BY market_value DESC\n",
    "LIMIT 10;"
   ]
  },
  {
   "cell_type": "code",
   "execution_count": 0,
   "metadata": {
    "application/vnd.databricks.v1+cell": {
     "cellMetadata": {},
     "inputWidgets": {},
     "nuid": "e5b02787-e427-489b-affc-2a60e26302ab",
     "showTitle": false,
     "title": ""
    }
   },
   "outputs": [],
   "source": []
  }
 ],
 "metadata": {
  "application/vnd.databricks.v1+notebook": {
   "dashboards": [
    {
     "elements": [
      {
       "dashboardResultIndex": 0,
       "elementNUID": "b5088c0f-6156-49c4-80e3-80a9721b892a",
       "elementType": "command",
       "guid": "b5248de7-116f-4a7f-b544-5fa732b16334",
       "options": null,
       "position": null,
       "resultIndex": null
      }
     ],
     "globalVars": {},
     "guid": "",
     "layoutOption": {
      "grid": true,
      "stack": true
     },
     "nuid": "0ed94ebb-cf3c-46e3-94cf-5f51f828a1dd",
     "origId": 3586145651354532,
     "title": "Untitled",
     "version": "DashboardViewV1",
     "width": 1024
    }
   ],
   "environmentMetadata": null,
   "language": "python",
   "notebookMetadata": {
    "mostRecentlyExecutedCommandWithImplicitDF": {
     "commandId": 3201611503067164,
     "dataframes": [
      "_sqldf"
     ]
    },
    "pythonIndentUnit": 4
   },
   "notebookName": "EDA_Datasets",
   "widgets": {}
  }
 },
 "nbformat": 4,
 "nbformat_minor": 0
}
